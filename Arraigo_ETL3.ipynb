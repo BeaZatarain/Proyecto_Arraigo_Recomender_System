{
 "cells": [
  {
   "cell_type": "code",
   "execution_count": 1,
   "id": "95b1c7ac",
   "metadata": {},
   "outputs": [],
   "source": [
    "# import libraries\n",
    "\n",
    "import pandas as pd\n",
    "\n",
    "\n",
    "import numpy as np\n",
    "\n",
    "import warnings\n",
    "warnings.filterwarnings ('ignore')\n",
    "\n",
    "pd.set_option('display.max_columns', None)\n",
    "pd.set_option('display.max_rows', None)\n",
    "\n",
    "import seaborn as sns\n",
    "\n",
    "import matplotlib.pyplot as plt\n",
    "\n",
    "from geopy.geocoders import Nominatim"
   ]
  },
  {
   "cell_type": "code",
   "execution_count": 2,
   "id": "5221da9c",
   "metadata": {},
   "outputs": [],
   "source": [
    "data_prior3_ori = pd.read_csv('../Proyecto_Arraigo_Recomender_System/data/Urbanitas_prior3.csv')\n",
    "\n",
    "\n",
    "data_prior3 = data_prior3_ori.copy()"
   ]
  },
  {
   "cell_type": "code",
   "execution_count": 3,
   "id": "67b763c8",
   "metadata": {},
   "outputs": [
    {
     "data": {
      "text/plain": [
       "(10618, 23)"
      ]
     },
     "execution_count": 3,
     "metadata": {},
     "output_type": "execute_result"
    }
   ],
   "source": [
    "data_prior3.shape"
   ]
  },
  {
   "cell_type": "code",
   "execution_count": 4,
   "id": "d116424f",
   "metadata": {},
   "outputs": [
    {
     "name": "stdout",
     "output_type": "stream",
     "text": [
      "<class 'pandas.core.frame.DataFrame'>\n",
      "RangeIndex: 10618 entries, 0 to 10617\n",
      "Data columns (total 23 columns):\n",
      " #   Column                              Non-Null Count  Dtype \n",
      "---  ------                              --------------  ----- \n",
      " 0   Unnamed: 0                          10618 non-null  int64 \n",
      " 1   id                                  10618 non-null  object\n",
      " 2   fecha                               10618 non-null  object\n",
      " 3   pais_de_residencia                  10590 non-null  object\n",
      " 4   provincia_de_espana                 10618 non-null  object\n",
      " 5   situacion_en_espana                 10571 non-null  object\n",
      " 6   profesion                           10515 non-null  object\n",
      " 7   autonomia_economica                 8407 non-null   object\n",
      " 8   familia_edades                      8964 non-null   object\n",
      " 9   coche_propio                        10618 non-null  object\n",
      " 10  carnet_coche                        10618 non-null  object\n",
      " 11  mascota                             10618 non-null  object\n",
      " 12  presupuesto_alquiler                10577 non-null  object\n",
      " 13  primera_segunda_vivienda            10556 non-null  object\n",
      " 14  zona_interes                        10618 non-null  object\n",
      " 15  predisposicion_pueblo               10618 non-null  object\n",
      " 16  numero_familiares                   10618 non-null  int64 \n",
      " 17  sector_servicios                    10618 non-null  int64 \n",
      " 18  sector_industria                    10618 non-null  int64 \n",
      " 19  sector_construccion                 10618 non-null  int64 \n",
      " 20  sector_agricultura_ganaderia_pesca  10618 non-null  int64 \n",
      " 21  Otros                               10618 non-null  int64 \n",
      " 22  nan_filas                           10618 non-null  int64 \n",
      "dtypes: int64(8), object(15)\n",
      "memory usage: 1.9+ MB\n"
     ]
    }
   ],
   "source": [
    "data_prior3.info()"
   ]
  },
  {
   "cell_type": "code",
   "execution_count": null,
   "id": "ffdbbad9",
   "metadata": {},
   "outputs": [],
   "source": []
  },
  {
   "cell_type": "code",
   "execution_count": 5,
   "id": "0241fbaa",
   "metadata": {},
   "outputs": [
    {
     "data": {
      "text/plain": [
       "autonomia_economica                   26.299512\n",
       "familia_edades                        18.451584\n",
       "profesion                              0.979553\n",
       "primera_segunda_vivienda               0.587344\n",
       "situacion_en_espana                    0.444613\n",
       "presupuesto_alquiler                   0.387634\n",
       "pais_de_residencia                     0.264400\n",
       "Unnamed: 0                             0.000000\n",
       "predisposicion_pueblo                  0.000000\n",
       "Otros                                  0.000000\n",
       "sector_agricultura_ganaderia_pesca     0.000000\n",
       "sector_construccion                    0.000000\n",
       "sector_industria                       0.000000\n",
       "sector_servicios                       0.000000\n",
       "numero_familiares                      0.000000\n",
       "mascota                                0.000000\n",
       "zona_interes                           0.000000\n",
       "id                                     0.000000\n",
       "carnet_coche                           0.000000\n",
       "coche_propio                           0.000000\n",
       "provincia_de_espana                    0.000000\n",
       "fecha                                  0.000000\n",
       "nan_filas                              0.000000\n",
       "dtype: float64"
      ]
     },
     "execution_count": 5,
     "metadata": {},
     "output_type": "execute_result"
    }
   ],
   "source": [
    "porcentaje_nulos = data_prior3.isnull().sum() / data_prior3.count() * 100\n",
    "porcentaje_nulos.sort_values(ascending=False)"
   ]
  },
  {
   "cell_type": "markdown",
   "id": "056d794f",
   "metadata": {},
   "source": [
    "BORRADO DE COLUMNAS INCONSISTENTES/IRRELEVANTES"
   ]
  },
  {
   "cell_type": "code",
   "execution_count": 6,
   "id": "825c183a",
   "metadata": {},
   "outputs": [],
   "source": [
    "data_prior3 = data_prior3.drop(labels=[\"Unnamed: 0\",\n",
    "                                       'id',\n",
    "                                       'nan_filas',\n",
    "                                       'profesion',\n",
    "                                       'familia_edades'],\n",
    "                                        axis=1)\n"
   ]
  },
  {
   "cell_type": "code",
   "execution_count": 7,
   "id": "9ebce05d",
   "metadata": {},
   "outputs": [
    {
     "data": {
      "text/html": [
       "<div>\n",
       "<style scoped>\n",
       "    .dataframe tbody tr th:only-of-type {\n",
       "        vertical-align: middle;\n",
       "    }\n",
       "\n",
       "    .dataframe tbody tr th {\n",
       "        vertical-align: top;\n",
       "    }\n",
       "\n",
       "    .dataframe thead th {\n",
       "        text-align: right;\n",
       "    }\n",
       "</style>\n",
       "<table border=\"1\" class=\"dataframe\">\n",
       "  <thead>\n",
       "    <tr style=\"text-align: right;\">\n",
       "      <th></th>\n",
       "      <th>fecha</th>\n",
       "      <th>pais_de_residencia</th>\n",
       "      <th>provincia_de_espana</th>\n",
       "      <th>situacion_en_espana</th>\n",
       "      <th>autonomia_economica</th>\n",
       "      <th>coche_propio</th>\n",
       "      <th>carnet_coche</th>\n",
       "      <th>mascota</th>\n",
       "      <th>presupuesto_alquiler</th>\n",
       "      <th>primera_segunda_vivienda</th>\n",
       "      <th>zona_interes</th>\n",
       "      <th>predisposicion_pueblo</th>\n",
       "      <th>numero_familiares</th>\n",
       "      <th>sector_servicios</th>\n",
       "      <th>sector_industria</th>\n",
       "      <th>sector_construccion</th>\n",
       "      <th>sector_agricultura_ganaderia_pesca</th>\n",
       "      <th>Otros</th>\n",
       "    </tr>\n",
       "  </thead>\n",
       "  <tbody>\n",
       "    <tr>\n",
       "      <th>0</th>\n",
       "      <td>2023-03-01</td>\n",
       "      <td>España</td>\n",
       "      <td>Cantabria</td>\n",
       "      <td>Tengo nacionalidad española / de un país de la...</td>\n",
       "      <td>NaN</td>\n",
       "      <td>No</td>\n",
       "      <td>Si</td>\n",
       "      <td>No</td>\n",
       "      <td>NaN</td>\n",
       "      <td>NaN</td>\n",
       "      <td>Indiferente</td>\n",
       "      <td>Aún me lo estoy pensando</td>\n",
       "      <td>3</td>\n",
       "      <td>0</td>\n",
       "      <td>0</td>\n",
       "      <td>0</td>\n",
       "      <td>0</td>\n",
       "      <td>0</td>\n",
       "    </tr>\n",
       "  </tbody>\n",
       "</table>\n",
       "</div>"
      ],
      "text/plain": [
       "        fecha pais_de_residencia provincia_de_espana  \\\n",
       "0  2023-03-01             España           Cantabria   \n",
       "\n",
       "                                 situacion_en_espana autonomia_economica  \\\n",
       "0  Tengo nacionalidad española / de un país de la...                 NaN   \n",
       "\n",
       "  coche_propio carnet_coche mascota presupuesto_alquiler  \\\n",
       "0           No           Si      No                  NaN   \n",
       "\n",
       "  primera_segunda_vivienda zona_interes     predisposicion_pueblo  \\\n",
       "0                      NaN  Indiferente  Aún me lo estoy pensando   \n",
       "\n",
       "   numero_familiares  sector_servicios  sector_industria  sector_construccion  \\\n",
       "0                  3                 0                 0                    0   \n",
       "\n",
       "   sector_agricultura_ganaderia_pesca  Otros  \n",
       "0                                   0      0  "
      ]
     },
     "execution_count": 7,
     "metadata": {},
     "output_type": "execute_result"
    }
   ],
   "source": [
    "data_prior3.head(1)"
   ]
  },
  {
   "cell_type": "code",
   "execution_count": 8,
   "id": "e3ec3e09",
   "metadata": {},
   "outputs": [
    {
     "data": {
      "text/html": [
       "<div>\n",
       "<style scoped>\n",
       "    .dataframe tbody tr th:only-of-type {\n",
       "        vertical-align: middle;\n",
       "    }\n",
       "\n",
       "    .dataframe tbody tr th {\n",
       "        vertical-align: top;\n",
       "    }\n",
       "\n",
       "    .dataframe thead th {\n",
       "        text-align: right;\n",
       "    }\n",
       "</style>\n",
       "<table border=\"1\" class=\"dataframe\">\n",
       "  <thead>\n",
       "    <tr style=\"text-align: right;\">\n",
       "      <th></th>\n",
       "      <th>fecha</th>\n",
       "      <th>pais_de_residencia</th>\n",
       "      <th>provincia_de_espana</th>\n",
       "      <th>situacion_en_espana</th>\n",
       "      <th>autonomia_economica</th>\n",
       "      <th>coche_propio</th>\n",
       "      <th>carnet_coche</th>\n",
       "      <th>mascota</th>\n",
       "      <th>presupuesto_alquiler</th>\n",
       "      <th>primera_segunda_vivienda</th>\n",
       "      <th>zona_interes</th>\n",
       "      <th>predisposicion_pueblo</th>\n",
       "      <th>numero_familiares</th>\n",
       "      <th>sector_servicios</th>\n",
       "      <th>sector_industria</th>\n",
       "      <th>sector_construccion</th>\n",
       "      <th>sector_agricultura_ganaderia_pesca</th>\n",
       "      <th>Otros</th>\n",
       "    </tr>\n",
       "  </thead>\n",
       "  <tbody>\n",
       "    <tr>\n",
       "      <th>72</th>\n",
       "      <td>2020-12-07</td>\n",
       "      <td>Latino América</td>\n",
       "      <td>Ninguna</td>\n",
       "      <td>No estoy en ninguna de esas situaciones</td>\n",
       "      <td>6 meses</td>\n",
       "      <td>Si</td>\n",
       "      <td>Si</td>\n",
       "      <td>No</td>\n",
       "      <td>Hasta 300€</td>\n",
       "      <td>Primera residencia</td>\n",
       "      <td>? ?????????</td>\n",
       "      <td>1 mes</td>\n",
       "      <td>2</td>\n",
       "      <td>0</td>\n",
       "      <td>0</td>\n",
       "      <td>0</td>\n",
       "      <td>0</td>\n",
       "      <td>1</td>\n",
       "    </tr>\n",
       "    <tr>\n",
       "      <th>5290</th>\n",
       "      <td>2021-11-04</td>\n",
       "      <td>Otro</td>\n",
       "      <td>Ninguna</td>\n",
       "      <td>No estoy en ninguna de esas situaciones</td>\n",
       "      <td>???? ?? ???</td>\n",
       "      <td>Si</td>\n",
       "      <td>Si</td>\n",
       "      <td>Si</td>\n",
       "      <td>Hasta 300€</td>\n",
       "      <td>Primera residencia</td>\n",
       "      <td>??? ????</td>\n",
       "      <td>Aún me lo estoy pensando</td>\n",
       "      <td>3</td>\n",
       "      <td>0</td>\n",
       "      <td>0</td>\n",
       "      <td>0</td>\n",
       "      <td>0</td>\n",
       "      <td>1</td>\n",
       "    </tr>\n",
       "    <tr>\n",
       "      <th>5847</th>\n",
       "      <td>2022-01-01</td>\n",
       "      <td>Otro</td>\n",
       "      <td>Ninguna</td>\n",
       "      <td>No estoy en ninguna de esas situaciones</td>\n",
       "      <td>3 meses</td>\n",
       "      <td>Si</td>\n",
       "      <td>Si</td>\n",
       "      <td>No</td>\n",
       "      <td>Hasta 300€</td>\n",
       "      <td>Primera residencia</td>\n",
       "      <td>? ?????????</td>\n",
       "      <td>1 mes</td>\n",
       "      <td>6</td>\n",
       "      <td>0</td>\n",
       "      <td>0</td>\n",
       "      <td>0</td>\n",
       "      <td>0</td>\n",
       "      <td>0</td>\n",
       "    </tr>\n",
       "    <tr>\n",
       "      <th>9314</th>\n",
       "      <td>2022-09-09</td>\n",
       "      <td>Otro</td>\n",
       "      <td>Ninguna</td>\n",
       "      <td>No estoy en ninguna de esas situaciones</td>\n",
       "      <td>NaN</td>\n",
       "      <td>Si</td>\n",
       "      <td>Si</td>\n",
       "      <td>Si</td>\n",
       "      <td>Hasta 300€</td>\n",
       "      <td>Primera residencia</td>\n",
       "      <td>?????? ????????</td>\n",
       "      <td>1 mes</td>\n",
       "      <td>3</td>\n",
       "      <td>0</td>\n",
       "      <td>0</td>\n",
       "      <td>0</td>\n",
       "      <td>0</td>\n",
       "      <td>1</td>\n",
       "    </tr>\n",
       "    <tr>\n",
       "      <th>10256</th>\n",
       "      <td>2022-12-26</td>\n",
       "      <td>España</td>\n",
       "      <td>????????</td>\n",
       "      <td>Tengo nacionalidad española / de un país de la...</td>\n",
       "      <td>NaN</td>\n",
       "      <td>Si</td>\n",
       "      <td>Si</td>\n",
       "      <td>No</td>\n",
       "      <td>Hasta 300€</td>\n",
       "      <td>Primera residencia</td>\n",
       "      <td>Indiferente</td>\n",
       "      <td>6 meses</td>\n",
       "      <td>2</td>\n",
       "      <td>0</td>\n",
       "      <td>0</td>\n",
       "      <td>0</td>\n",
       "      <td>0</td>\n",
       "      <td>0</td>\n",
       "    </tr>\n",
       "  </tbody>\n",
       "</table>\n",
       "</div>"
      ],
      "text/plain": [
       "            fecha pais_de_residencia provincia_de_espana  \\\n",
       "72     2020-12-07     Latino América             Ninguna   \n",
       "5290   2021-11-04               Otro             Ninguna   \n",
       "5847   2022-01-01               Otro             Ninguna   \n",
       "9314   2022-09-09               Otro             Ninguna   \n",
       "10256  2022-12-26             España            ????????   \n",
       "\n",
       "                                     situacion_en_espana autonomia_economica  \\\n",
       "72               No estoy en ninguna de esas situaciones             6 meses   \n",
       "5290             No estoy en ninguna de esas situaciones         ???? ?? ???   \n",
       "5847             No estoy en ninguna de esas situaciones             3 meses   \n",
       "9314             No estoy en ninguna de esas situaciones                 NaN   \n",
       "10256  Tengo nacionalidad española / de un país de la...                 NaN   \n",
       "\n",
       "      coche_propio carnet_coche mascota presupuesto_alquiler  \\\n",
       "72              Si           Si      No           Hasta 300€   \n",
       "5290            Si           Si      Si           Hasta 300€   \n",
       "5847            Si           Si      No           Hasta 300€   \n",
       "9314            Si           Si      Si           Hasta 300€   \n",
       "10256           Si           Si      No           Hasta 300€   \n",
       "\n",
       "      primera_segunda_vivienda     zona_interes     predisposicion_pueblo  \\\n",
       "72          Primera residencia      ? ?????????                     1 mes   \n",
       "5290        Primera residencia         ??? ????  Aún me lo estoy pensando   \n",
       "5847        Primera residencia      ? ?????????                     1 mes   \n",
       "9314        Primera residencia  ?????? ????????                     1 mes   \n",
       "10256       Primera residencia      Indiferente                   6 meses   \n",
       "\n",
       "       numero_familiares  sector_servicios  sector_industria  \\\n",
       "72                     2                 0                 0   \n",
       "5290                   3                 0                 0   \n",
       "5847                   6                 0                 0   \n",
       "9314                   3                 0                 0   \n",
       "10256                  2                 0                 0   \n",
       "\n",
       "       sector_construccion  sector_agricultura_ganaderia_pesca  Otros  \n",
       "72                       0                                   0      1  \n",
       "5290                     0                                   0      1  \n",
       "5847                     0                                   0      0  \n",
       "9314                     0                                   0      1  \n",
       "10256                    0                                   0      0  "
      ]
     },
     "execution_count": 8,
     "metadata": {},
     "output_type": "execute_result"
    }
   ],
   "source": [
    "mask = data_prior3.apply(lambda row: row.astype(str).str.contains('\\?').any(), axis=1)\n",
    "result = data_prior3.loc[mask]\n",
    "\n",
    "result"
   ]
  },
  {
   "cell_type": "code",
   "execution_count": 9,
   "id": "6463069d",
   "metadata": {},
   "outputs": [],
   "source": [
    "data_prior3 = data_prior3.drop(result.index)"
   ]
  },
  {
   "cell_type": "markdown",
   "id": "26c2a6c2",
   "metadata": {},
   "source": [
    "BORRADO DE NULOS (SALVO AUTONOMÍA ECONÓMICA)"
   ]
  },
  {
   "cell_type": "code",
   "execution_count": 10,
   "id": "20bd88e4",
   "metadata": {},
   "outputs": [],
   "source": [
    "data_prior3 = data_prior3.dropna(subset=[col for col in data_prior3.columns if col != 'autonomia_economica'])"
   ]
  },
  {
   "cell_type": "code",
   "execution_count": null,
   "id": "5ccf2441",
   "metadata": {},
   "outputs": [],
   "source": []
  },
  {
   "cell_type": "markdown",
   "id": "af476366",
   "metadata": {},
   "source": [
    "CONVERSIÓN DE TODAS LAS COLUMNAS CATEGÓRICAS A NUMÉRICAS"
   ]
  },
  {
   "cell_type": "code",
   "execution_count": 11,
   "id": "d7f51bb8",
   "metadata": {},
   "outputs": [],
   "source": [
    "#Empezaremos por las columnas más sencillas, pasándolas a booleano (éxito, no éxito)."
   ]
  },
  {
   "cell_type": "code",
   "execution_count": 12,
   "id": "5e366a50",
   "metadata": {},
   "outputs": [],
   "source": [
    "data_prior3['carnet_coche']= data_prior3.carnet_coche.replace('Si', 1).replace('No', 0).astype(int)"
   ]
  },
  {
   "cell_type": "code",
   "execution_count": 13,
   "id": "5513bbeb",
   "metadata": {},
   "outputs": [],
   "source": [
    "data_prior3['coche_propio']= data_prior3.coche_propio.replace('Si', 1).replace('No', 0).astype(int)"
   ]
  },
  {
   "cell_type": "code",
   "execution_count": 14,
   "id": "ad29420b",
   "metadata": {},
   "outputs": [],
   "source": [
    "data_prior3['mascota'] = data_prior3.mascota.replace('Si', 1).replace('No', 0).astype(int)"
   ]
  },
  {
   "cell_type": "code",
   "execution_count": 15,
   "id": "c3ef7c81",
   "metadata": {},
   "outputs": [
    {
     "name": "stdout",
     "output_type": "stream",
     "text": [
      "<class 'pandas.core.frame.DataFrame'>\n",
      "Int64Index: 10449 entries, 1 to 10617\n",
      "Data columns (total 18 columns):\n",
      " #   Column                              Non-Null Count  Dtype \n",
      "---  ------                              --------------  ----- \n",
      " 0   fecha                               10449 non-null  object\n",
      " 1   pais_de_residencia                  10449 non-null  object\n",
      " 2   provincia_de_espana                 10449 non-null  object\n",
      " 3   situacion_en_espana                 10449 non-null  object\n",
      " 4   autonomia_economica                 8313 non-null   object\n",
      " 5   coche_propio                        10449 non-null  int32 \n",
      " 6   carnet_coche                        10449 non-null  int32 \n",
      " 7   mascota                             10449 non-null  int32 \n",
      " 8   presupuesto_alquiler                10449 non-null  object\n",
      " 9   primera_segunda_vivienda            10449 non-null  object\n",
      " 10  zona_interes                        10449 non-null  object\n",
      " 11  predisposicion_pueblo               10449 non-null  object\n",
      " 12  numero_familiares                   10449 non-null  int64 \n",
      " 13  sector_servicios                    10449 non-null  int64 \n",
      " 14  sector_industria                    10449 non-null  int64 \n",
      " 15  sector_construccion                 10449 non-null  int64 \n",
      " 16  sector_agricultura_ganaderia_pesca  10449 non-null  int64 \n",
      " 17  Otros                               10449 non-null  int64 \n",
      "dtypes: int32(3), int64(6), object(9)\n",
      "memory usage: 1.4+ MB\n"
     ]
    }
   ],
   "source": [
    "data_prior3.info()"
   ]
  },
  {
   "cell_type": "code",
   "execution_count": 17,
   "id": "c3471f4d",
   "metadata": {},
   "outputs": [
    {
     "data": {
      "text/plain": [
       "array(['3 meses', 'Aún me lo estoy pensando', '6 meses', '1 mes'],\n",
       "      dtype=object)"
      ]
     },
     "execution_count": 17,
     "metadata": {},
     "output_type": "execute_result"
    }
   ],
   "source": [
    "data_prior3.predisposicion_pueblo .unique() #en cuanto tiempo estarían preparados para mudarse a un pueblo"
   ]
  },
  {
   "cell_type": "code",
   "execution_count": 18,
   "id": "1a067dd7",
   "metadata": {},
   "outputs": [],
   "source": [
    "data_prior3 = pd.get_dummies(data_prior3, columns=['predisposicion_pueblo'])"
   ]
  },
  {
   "cell_type": "code",
   "execution_count": 21,
   "id": "f7db9b4b",
   "metadata": {},
   "outputs": [
    {
     "data": {
      "text/plain": [
       "(10449, 21)"
      ]
     },
     "execution_count": 21,
     "metadata": {},
     "output_type": "execute_result"
    }
   ],
   "source": [
    "data_prior3.shape"
   ]
  },
  {
   "cell_type": "code",
   "execution_count": 23,
   "id": "d9b04ec2",
   "metadata": {},
   "outputs": [],
   "source": [
    "#Columna de fecha: como nos puede interesar la estacionalidad de demanda y la tendencia, haremos lo siguiente:\n",
    "\n",
    "# Convertimos la columna de fecha a tipo datetime\n",
    "data_prior3['fecha'] = pd.to_datetime(data_prior3['fecha'])\n",
    "\n",
    "# Creamos nuevas columnas numéricas para el año, mes y día\n",
    "data_prior3['year'] = data_prior3['fecha'].dt.year\n",
    "data_prior3['month'] = data_prior3['fecha'].dt.month\n",
    "data_prior3['day'] = data_prior3['fecha'].dt.day #esta incluso nos la podríamos cargar, pero la dejamos de momento"
   ]
  },
  {
   "cell_type": "code",
   "execution_count": 24,
   "id": "37ca44e0",
   "metadata": {},
   "outputs": [
    {
     "data": {
      "text/plain": [
       "(10449, 24)"
      ]
     },
     "execution_count": 24,
     "metadata": {},
     "output_type": "execute_result"
    }
   ],
   "source": [
    "data_prior3.shape"
   ]
  },
  {
   "cell_type": "code",
   "execution_count": 25,
   "id": "b55d7391",
   "metadata": {},
   "outputs": [
    {
     "data": {
      "text/plain": [
       "array(['España', 'Latino América', 'Otro',\n",
       "       'Resto de Europa (dentro de UE)'], dtype=object)"
      ]
     },
     "execution_count": 25,
     "metadata": {},
     "output_type": "execute_result"
    }
   ],
   "source": [
    "#columna pais_de_residencia\n",
    "\n",
    "data_prior3.pais_de_residencia.unique()"
   ]
  },
  {
   "cell_type": "code",
   "execution_count": 26,
   "id": "355e305e",
   "metadata": {},
   "outputs": [],
   "source": [
    "data_prior3 = pd.get_dummies(data_prior3, columns=['pais_de_residencia'])"
   ]
  },
  {
   "cell_type": "code",
   "execution_count": 27,
   "id": "f5f6636c",
   "metadata": {},
   "outputs": [
    {
     "data": {
      "text/plain": [
       "array(['Andalucía', 'Madrid', 'Valencia', 'Ninguna', 'Baleares',\n",
       "       'Navarra', 'Comunitat Valenciana', 'Pontevedra', 'Barcelona',\n",
       "       'Toledo', 'Alicante', 'Canarias', 'Aragón', 'Extremadura',\n",
       "       'Euskadi', 'Cataluña', 'Castilla y León', 'Galicia', 'Vizcaya',\n",
       "       'Sevilla', 'Murcia', 'Cádiz', 'Castilla-La Mancha', 'Cantabria',\n",
       "       'Región de Murcia', 'Tarragona', 'La Rioja', 'Córdoba', 'A Coruña',\n",
       "       'Ciudad Real', 'Girona', 'Albacete', 'Castellón', 'Málaga',\n",
       "       'Cáceres', 'Asturias', 'Guadalajara', 'Plazas de Soberanía',\n",
       "       'Granada', 'Zaragoza', 'Almería', 'Segovia', 'Huelva',\n",
       "       'Valladolid', 'Las Palmas', 'León', 'Santa Cruz de Tenerife',\n",
       "       'Lérida', 'Gipuzkoa', 'Badajoz', 'Huesca', 'Ceuta y Melilla',\n",
       "       'Cuenca', 'Jaén', 'Salamanca', 'Burgos', 'Lleida', 'Álava',\n",
       "       'Zamora', 'Palencia', 'Ourense', 'Lugo', 'Ávila', 'Teruel',\n",
       "       'Soria'], dtype=object)"
      ]
     },
     "execution_count": 27,
     "metadata": {},
     "output_type": "execute_result"
    }
   ],
   "source": [
    "#columna provincia\n",
    "\n",
    "data_prior3.provincia_de_espana.unique()"
   ]
  },
  {
   "cell_type": "code",
   "execution_count": 31,
   "id": "3b0498b9",
   "metadata": {},
   "outputs": [],
   "source": [
    "#como get dummies nos crearía muchas columnas, dividiremos las provincias por 4 regiones de España\n",
    "\n",
    "prov_norte = ['Galicia', 'Asturias', 'Cantabria', 'País Vasco', 'Navarra', 'La Rioja','Pontevedra','Euskadi','Vizcaya','A Coruña','Gipuzkoa''Ourense', 'Lugo','La Rioja', ]\n",
    "prov_sur = ['Andalucía','Cádiz','Córdoba','Málaga','Sevilla', 'Granada', 'Almería', 'Huelva', 'Ceuta y Melilla','Canarias','Las Palmas','Santa Cruz de Tenerife']\n",
    "prov_este = ['Cataluña', 'Baleares','Valencia', 'Murcia','Alicante', 'Comunitat Valenciana','Región de Murcia','Castellón','Lérida','Lleida','Girona','Tarragona', 'Barcelona']\n",
    "prov_centro = ['Castilla y León', 'Castilla-La Mancha', 'Aragón', 'Toledo','Extremadura', 'Ciudad Real','Albacete','Cáceres','Guadalajara','Zaragoza','Segovia','Valladolid','León','Badajoz', 'Huesca','Cuenca', 'Jaén','Salamanca', 'Burgos','Zamora', 'Palencia','Ávila', 'Teruel','Soria']\n",
    "prov_madrid = ['Madrid']\n",
    "prov_fuera_espana = ['Ninguna','Plazas de Soberanía']\n"
   ]
  },
  {
   "cell_type": "code",
   "execution_count": null,
   "id": "812c3cc1",
   "metadata": {},
   "outputs": [],
   "source": []
  }
 ],
 "metadata": {
  "kernelspec": {
   "display_name": "Python 3 (ipykernel)",
   "language": "python",
   "name": "python3"
  },
  "language_info": {
   "codemirror_mode": {
    "name": "ipython",
    "version": 3
   },
   "file_extension": ".py",
   "mimetype": "text/x-python",
   "name": "python",
   "nbconvert_exporter": "python",
   "pygments_lexer": "ipython3",
   "version": "3.9.13"
  }
 },
 "nbformat": 4,
 "nbformat_minor": 5
}
