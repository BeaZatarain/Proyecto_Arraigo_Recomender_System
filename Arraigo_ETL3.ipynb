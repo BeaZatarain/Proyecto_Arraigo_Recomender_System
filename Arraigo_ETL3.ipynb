{
 "cells": [
  {
   "cell_type": "code",
   "execution_count": 1,
   "id": "fa3f7247",
   "metadata": {},
   "outputs": [],
   "source": [
    "# import libraries\n",
    "\n",
    "import pandas as pd\n",
    "\n",
    "\n",
    "import numpy as np\n",
    "\n",
    "import warnings\n",
    "warnings.filterwarnings ('ignore')\n",
    "\n",
    "pd.set_option('display.max_columns', None)\n",
    "pd.set_option('display.max_rows', None)\n",
    "\n",
    "import seaborn as sns\n",
    "\n",
    "import matplotlib.pyplot as plt\n",
    "\n",
    "from geopy.geocoders import Nominatim"
   ]
  },
  {
   "cell_type": "code",
   "execution_count": 2,
   "id": "3dadb3ab",
   "metadata": {},
   "outputs": [],
   "source": [
    "data_prior3_ori = pd.read_csv('../Proyecto_Arraigo_Recomender_System/data/Urbanitas_prior3.csv')\n",
    "\n",
    "\n",
    "data_prior3 = data_prior3_ori.copy()"
   ]
  },
  {
   "cell_type": "code",
   "execution_count": 3,
   "id": "ed1c326e",
   "metadata": {},
   "outputs": [
    {
     "data": {
      "text/plain": [
       "(10618, 23)"
      ]
     },
     "execution_count": 3,
     "metadata": {},
     "output_type": "execute_result"
    }
   ],
   "source": [
    "data_prior3.shape"
   ]
  },
  {
   "cell_type": "code",
   "execution_count": 4,
   "id": "df3d34da",
   "metadata": {},
   "outputs": [
    {
     "name": "stdout",
     "output_type": "stream",
     "text": [
      "<class 'pandas.core.frame.DataFrame'>\n",
      "RangeIndex: 10618 entries, 0 to 10617\n",
      "Data columns (total 23 columns):\n",
      " #   Column                              Non-Null Count  Dtype \n",
      "---  ------                              --------------  ----- \n",
      " 0   Unnamed: 0                          10618 non-null  int64 \n",
      " 1   id                                  10618 non-null  object\n",
      " 2   fecha                               10618 non-null  object\n",
      " 3   pais_de_residencia                  10590 non-null  object\n",
      " 4   provincia_de_espana                 10618 non-null  object\n",
      " 5   situacion_en_espana                 10571 non-null  object\n",
      " 6   profesion                           10515 non-null  object\n",
      " 7   autonomia_economica                 8407 non-null   object\n",
      " 8   familia_edades                      8964 non-null   object\n",
      " 9   coche_propio                        10618 non-null  object\n",
      " 10  carnet_coche                        10618 non-null  object\n",
      " 11  mascota                             10618 non-null  object\n",
      " 12  presupuesto_alquiler                10577 non-null  object\n",
      " 13  primera_segunda_vivienda            10556 non-null  object\n",
      " 14  zona_interes                        10618 non-null  object\n",
      " 15  predisposicion_pueblo               10618 non-null  object\n",
      " 16  numero_familiares                   10618 non-null  int64 \n",
      " 17  sector_servicios                    10618 non-null  int64 \n",
      " 18  sector_industria                    10618 non-null  int64 \n",
      " 19  sector_construccion                 10618 non-null  int64 \n",
      " 20  sector_agricultura_ganaderia_pesca  10618 non-null  int64 \n",
      " 21  Otros                               10618 non-null  int64 \n",
      " 22  nan_filas                           10618 non-null  int64 \n",
      "dtypes: int64(8), object(15)\n",
      "memory usage: 1.9+ MB\n"
     ]
    }
   ],
   "source": [
    "data_prior3.info()"
   ]
  },
  {
   "cell_type": "markdown",
   "id": "e2b725f9",
   "metadata": {},
   "source": [
    "BORRADO DE NULOS (SALVO AUTONOMÍA ECONÓMICA)"
   ]
  },
  {
   "cell_type": "code",
   "execution_count": 5,
   "id": "7f57301b",
   "metadata": {},
   "outputs": [],
   "source": [
    "data_prior3 = data_prior3.dropna(subset=[col for col in data_prior3.columns if col != 'autonomia_economica'])"
   ]
  },
  {
   "cell_type": "code",
   "execution_count": 6,
   "id": "e977e048",
   "metadata": {},
   "outputs": [
    {
     "data": {
      "text/plain": [
       "autonomia_economica                   25.126476\n",
       "Unnamed: 0                             0.000000\n",
       "presupuesto_alquiler                   0.000000\n",
       "Otros                                  0.000000\n",
       "sector_agricultura_ganaderia_pesca     0.000000\n",
       "sector_construccion                    0.000000\n",
       "sector_industria                       0.000000\n",
       "sector_servicios                       0.000000\n",
       "numero_familiares                      0.000000\n",
       "predisposicion_pueblo                  0.000000\n",
       "zona_interes                           0.000000\n",
       "primera_segunda_vivienda               0.000000\n",
       "mascota                                0.000000\n",
       "id                                     0.000000\n",
       "carnet_coche                           0.000000\n",
       "coche_propio                           0.000000\n",
       "familia_edades                         0.000000\n",
       "profesion                              0.000000\n",
       "situacion_en_espana                    0.000000\n",
       "provincia_de_espana                    0.000000\n",
       "pais_de_residencia                     0.000000\n",
       "fecha                                  0.000000\n",
       "nan_filas                              0.000000\n",
       "dtype: float64"
      ]
     },
     "execution_count": 6,
     "metadata": {},
     "output_type": "execute_result"
    }
   ],
   "source": [
    "porcentaje_nulos = data_prior3.isnull().sum() / data_prior3.count() * 100\n",
    "porcentaje_nulos.sort_values(ascending=False)"
   ]
  },
  {
   "cell_type": "markdown",
   "id": "60d80867",
   "metadata": {},
   "source": [
    "BORRADO DE COLUMNAS INCONSISTENTES/IRRELEVANTES"
   ]
  },
  {
   "cell_type": "code",
   "execution_count": 8,
   "id": "0676cc53",
   "metadata": {},
   "outputs": [],
   "source": [
    "data_prior3 = data_prior3.drop(labels=[\"Unnamed: 0\",\n",
    "                                       'id',\n",
    "                                       'nan_filas',\n",
    "                                       'profesion',\n",
    "                                       'familia_edades'],\n",
    "                                        axis=1)\n"
   ]
  },
  {
   "cell_type": "code",
   "execution_count": 9,
   "id": "7895e4e2",
   "metadata": {},
   "outputs": [
    {
     "data": {
      "text/html": [
       "<div>\n",
       "<style scoped>\n",
       "    .dataframe tbody tr th:only-of-type {\n",
       "        vertical-align: middle;\n",
       "    }\n",
       "\n",
       "    .dataframe tbody tr th {\n",
       "        vertical-align: top;\n",
       "    }\n",
       "\n",
       "    .dataframe thead th {\n",
       "        text-align: right;\n",
       "    }\n",
       "</style>\n",
       "<table border=\"1\" class=\"dataframe\">\n",
       "  <thead>\n",
       "    <tr style=\"text-align: right;\">\n",
       "      <th></th>\n",
       "      <th>fecha</th>\n",
       "      <th>pais_de_residencia</th>\n",
       "      <th>provincia_de_espana</th>\n",
       "      <th>situacion_en_espana</th>\n",
       "      <th>autonomia_economica</th>\n",
       "      <th>coche_propio</th>\n",
       "      <th>carnet_coche</th>\n",
       "      <th>mascota</th>\n",
       "      <th>presupuesto_alquiler</th>\n",
       "      <th>primera_segunda_vivienda</th>\n",
       "      <th>zona_interes</th>\n",
       "      <th>predisposicion_pueblo</th>\n",
       "      <th>numero_familiares</th>\n",
       "      <th>sector_servicios</th>\n",
       "      <th>sector_industria</th>\n",
       "      <th>sector_construccion</th>\n",
       "      <th>sector_agricultura_ganaderia_pesca</th>\n",
       "      <th>Otros</th>\n",
       "    </tr>\n",
       "  </thead>\n",
       "  <tbody>\n",
       "    <tr>\n",
       "      <th>1</th>\n",
       "      <td>2020-10-26</td>\n",
       "      <td>España</td>\n",
       "      <td>Andalucía</td>\n",
       "      <td>Tengo nacionalidad española / de un país de la...</td>\n",
       "      <td>3 meses</td>\n",
       "      <td>Si</td>\n",
       "      <td>Si</td>\n",
       "      <td>No</td>\n",
       "      <td>Hasta 300€</td>\n",
       "      <td>Primera residencia</td>\n",
       "      <td>Pueblos de Zaragoza</td>\n",
       "      <td>3 meses</td>\n",
       "      <td>2</td>\n",
       "      <td>0</td>\n",
       "      <td>0</td>\n",
       "      <td>0</td>\n",
       "      <td>0</td>\n",
       "      <td>0</td>\n",
       "    </tr>\n",
       "  </tbody>\n",
       "</table>\n",
       "</div>"
      ],
      "text/plain": [
       "        fecha pais_de_residencia provincia_de_espana  \\\n",
       "1  2020-10-26             España           Andalucía   \n",
       "\n",
       "                                 situacion_en_espana autonomia_economica  \\\n",
       "1  Tengo nacionalidad española / de un país de la...             3 meses   \n",
       "\n",
       "  coche_propio carnet_coche mascota presupuesto_alquiler  \\\n",
       "1           Si           Si      No           Hasta 300€   \n",
       "\n",
       "  primera_segunda_vivienda         zona_interes predisposicion_pueblo  \\\n",
       "1       Primera residencia  Pueblos de Zaragoza               3 meses   \n",
       "\n",
       "   numero_familiares  sector_servicios  sector_industria  sector_construccion  \\\n",
       "1                  2                 0                 0                    0   \n",
       "\n",
       "   sector_agricultura_ganaderia_pesca  Otros  \n",
       "1                                   0      0  "
      ]
     },
     "execution_count": 9,
     "metadata": {},
     "output_type": "execute_result"
    }
   ],
   "source": [
    "data_prior3.head(1)"
   ]
  },
  {
   "cell_type": "code",
   "execution_count": 12,
   "id": "53bdf74e",
   "metadata": {},
   "outputs": [
    {
     "data": {
      "text/html": [
       "<div>\n",
       "<style scoped>\n",
       "    .dataframe tbody tr th:only-of-type {\n",
       "        vertical-align: middle;\n",
       "    }\n",
       "\n",
       "    .dataframe tbody tr th {\n",
       "        vertical-align: top;\n",
       "    }\n",
       "\n",
       "    .dataframe thead th {\n",
       "        text-align: right;\n",
       "    }\n",
       "</style>\n",
       "<table border=\"1\" class=\"dataframe\">\n",
       "  <thead>\n",
       "    <tr style=\"text-align: right;\">\n",
       "      <th></th>\n",
       "      <th>fecha</th>\n",
       "      <th>pais_de_residencia</th>\n",
       "      <th>provincia_de_espana</th>\n",
       "      <th>situacion_en_espana</th>\n",
       "      <th>autonomia_economica</th>\n",
       "      <th>coche_propio</th>\n",
       "      <th>carnet_coche</th>\n",
       "      <th>mascota</th>\n",
       "      <th>presupuesto_alquiler</th>\n",
       "      <th>primera_segunda_vivienda</th>\n",
       "      <th>zona_interes</th>\n",
       "      <th>predisposicion_pueblo</th>\n",
       "      <th>numero_familiares</th>\n",
       "      <th>sector_servicios</th>\n",
       "      <th>sector_industria</th>\n",
       "      <th>sector_construccion</th>\n",
       "      <th>sector_agricultura_ganaderia_pesca</th>\n",
       "      <th>Otros</th>\n",
       "    </tr>\n",
       "  </thead>\n",
       "  <tbody>\n",
       "    <tr>\n",
       "      <th>72</th>\n",
       "      <td>2020-12-07</td>\n",
       "      <td>Latino América</td>\n",
       "      <td>Ninguna</td>\n",
       "      <td>No estoy en ninguna de esas situaciones</td>\n",
       "      <td>6 meses</td>\n",
       "      <td>Si</td>\n",
       "      <td>Si</td>\n",
       "      <td>No</td>\n",
       "      <td>Hasta 300€</td>\n",
       "      <td>Primera residencia</td>\n",
       "      <td>? ?????????</td>\n",
       "      <td>1 mes</td>\n",
       "      <td>2</td>\n",
       "      <td>0</td>\n",
       "      <td>0</td>\n",
       "      <td>0</td>\n",
       "      <td>0</td>\n",
       "      <td>1</td>\n",
       "    </tr>\n",
       "    <tr>\n",
       "      <th>5290</th>\n",
       "      <td>2021-11-04</td>\n",
       "      <td>Otro</td>\n",
       "      <td>Ninguna</td>\n",
       "      <td>No estoy en ninguna de esas situaciones</td>\n",
       "      <td>???? ?? ???</td>\n",
       "      <td>Si</td>\n",
       "      <td>Si</td>\n",
       "      <td>Si</td>\n",
       "      <td>Hasta 300€</td>\n",
       "      <td>Primera residencia</td>\n",
       "      <td>??? ????</td>\n",
       "      <td>Aún me lo estoy pensando</td>\n",
       "      <td>3</td>\n",
       "      <td>0</td>\n",
       "      <td>0</td>\n",
       "      <td>0</td>\n",
       "      <td>0</td>\n",
       "      <td>1</td>\n",
       "    </tr>\n",
       "    <tr>\n",
       "      <th>5847</th>\n",
       "      <td>2022-01-01</td>\n",
       "      <td>Otro</td>\n",
       "      <td>Ninguna</td>\n",
       "      <td>No estoy en ninguna de esas situaciones</td>\n",
       "      <td>3 meses</td>\n",
       "      <td>Si</td>\n",
       "      <td>Si</td>\n",
       "      <td>No</td>\n",
       "      <td>Hasta 300€</td>\n",
       "      <td>Primera residencia</td>\n",
       "      <td>? ?????????</td>\n",
       "      <td>1 mes</td>\n",
       "      <td>6</td>\n",
       "      <td>0</td>\n",
       "      <td>0</td>\n",
       "      <td>0</td>\n",
       "      <td>0</td>\n",
       "      <td>0</td>\n",
       "    </tr>\n",
       "    <tr>\n",
       "      <th>9314</th>\n",
       "      <td>2022-09-09</td>\n",
       "      <td>Otro</td>\n",
       "      <td>Ninguna</td>\n",
       "      <td>No estoy en ninguna de esas situaciones</td>\n",
       "      <td>NaN</td>\n",
       "      <td>Si</td>\n",
       "      <td>Si</td>\n",
       "      <td>Si</td>\n",
       "      <td>Hasta 300€</td>\n",
       "      <td>Primera residencia</td>\n",
       "      <td>?????? ????????</td>\n",
       "      <td>1 mes</td>\n",
       "      <td>3</td>\n",
       "      <td>0</td>\n",
       "      <td>0</td>\n",
       "      <td>0</td>\n",
       "      <td>0</td>\n",
       "      <td>1</td>\n",
       "    </tr>\n",
       "    <tr>\n",
       "      <th>10256</th>\n",
       "      <td>2022-12-26</td>\n",
       "      <td>España</td>\n",
       "      <td>????????</td>\n",
       "      <td>Tengo nacionalidad española / de un país de la...</td>\n",
       "      <td>NaN</td>\n",
       "      <td>Si</td>\n",
       "      <td>Si</td>\n",
       "      <td>No</td>\n",
       "      <td>Hasta 300€</td>\n",
       "      <td>Primera residencia</td>\n",
       "      <td>Indiferente</td>\n",
       "      <td>6 meses</td>\n",
       "      <td>2</td>\n",
       "      <td>0</td>\n",
       "      <td>0</td>\n",
       "      <td>0</td>\n",
       "      <td>0</td>\n",
       "      <td>0</td>\n",
       "    </tr>\n",
       "  </tbody>\n",
       "</table>\n",
       "</div>"
      ],
      "text/plain": [
       "            fecha pais_de_residencia provincia_de_espana  \\\n",
       "72     2020-12-07     Latino América             Ninguna   \n",
       "5290   2021-11-04               Otro             Ninguna   \n",
       "5847   2022-01-01               Otro             Ninguna   \n",
       "9314   2022-09-09               Otro             Ninguna   \n",
       "10256  2022-12-26             España            ????????   \n",
       "\n",
       "                                     situacion_en_espana autonomia_economica  \\\n",
       "72               No estoy en ninguna de esas situaciones             6 meses   \n",
       "5290             No estoy en ninguna de esas situaciones         ???? ?? ???   \n",
       "5847             No estoy en ninguna de esas situaciones             3 meses   \n",
       "9314             No estoy en ninguna de esas situaciones                 NaN   \n",
       "10256  Tengo nacionalidad española / de un país de la...                 NaN   \n",
       "\n",
       "      coche_propio carnet_coche mascota presupuesto_alquiler  \\\n",
       "72              Si           Si      No           Hasta 300€   \n",
       "5290            Si           Si      Si           Hasta 300€   \n",
       "5847            Si           Si      No           Hasta 300€   \n",
       "9314            Si           Si      Si           Hasta 300€   \n",
       "10256           Si           Si      No           Hasta 300€   \n",
       "\n",
       "      primera_segunda_vivienda     zona_interes     predisposicion_pueblo  \\\n",
       "72          Primera residencia      ? ?????????                     1 mes   \n",
       "5290        Primera residencia         ??? ????  Aún me lo estoy pensando   \n",
       "5847        Primera residencia      ? ?????????                     1 mes   \n",
       "9314        Primera residencia  ?????? ????????                     1 mes   \n",
       "10256       Primera residencia      Indiferente                   6 meses   \n",
       "\n",
       "       numero_familiares  sector_servicios  sector_industria  \\\n",
       "72                     2                 0                 0   \n",
       "5290                   3                 0                 0   \n",
       "5847                   6                 0                 0   \n",
       "9314                   3                 0                 0   \n",
       "10256                  2                 0                 0   \n",
       "\n",
       "       sector_construccion  sector_agricultura_ganaderia_pesca  Otros  \n",
       "72                       0                                   0      1  \n",
       "5290                     0                                   0      1  \n",
       "5847                     0                                   0      0  \n",
       "9314                     0                                   0      1  \n",
       "10256                    0                                   0      0  "
      ]
     },
     "execution_count": 12,
     "metadata": {},
     "output_type": "execute_result"
    }
   ],
   "source": [
    "mask = data_prior3.apply(lambda row: row.astype(str).str.contains('\\?').any(), axis=1)\n",
    "result = data_prior3.loc[mask]\n",
    "\n",
    "result"
   ]
  },
  {
   "cell_type": "code",
   "execution_count": 18,
   "id": "515a68d8",
   "metadata": {},
   "outputs": [],
   "source": [
    "data_prior3 = data_prior3.drop(result.index)"
   ]
  },
  {
   "cell_type": "markdown",
   "id": "84be8bad",
   "metadata": {},
   "source": [
    "CONVERSIÓN DE TODAS LAS COLUMNAS CATEGÓRICAS A NUMÉRICAS"
   ]
  },
  {
   "cell_type": "code",
   "execution_count": 21,
   "id": "a2135e0c",
   "metadata": {},
   "outputs": [
    {
     "data": {
      "text/plain": [
       "array(['Si', 'No'], dtype=object)"
      ]
     },
     "execution_count": 21,
     "metadata": {},
     "output_type": "execute_result"
    }
   ],
   "source": [
    "data_prior3.carnet_coche.unique()"
   ]
  },
  {
   "cell_type": "code",
   "execution_count": null,
   "id": "9fe0eb32",
   "metadata": {},
   "outputs": [],
   "source": [
    "data_prior3.coche_propio.unique()"
   ]
  },
  {
   "cell_type": "code",
   "execution_count": 22,
   "id": "f5b23fbe",
   "metadata": {},
   "outputs": [
    {
     "data": {
      "text/plain": [
       "array(['No', 'Si'], dtype=object)"
      ]
     },
     "execution_count": 22,
     "metadata": {},
     "output_type": "execute_result"
    }
   ],
   "source": [
    "data_prior3.mascota.unique()"
   ]
  },
  {
   "cell_type": "code",
   "execution_count": null,
   "id": "b2f25593",
   "metadata": {},
   "outputs": [],
   "source": []
  }
 ],
 "metadata": {
  "kernelspec": {
   "display_name": "Python 3 (ipykernel)",
   "language": "python",
   "name": "python3"
  },
  "language_info": {
   "codemirror_mode": {
    "name": "ipython",
    "version": 3
   },
   "file_extension": ".py",
   "mimetype": "text/x-python",
   "name": "python",
   "nbconvert_exporter": "python",
   "pygments_lexer": "ipython3",
   "version": "3.9.13"
  }
 },
 "nbformat": 4,
 "nbformat_minor": 5
}
