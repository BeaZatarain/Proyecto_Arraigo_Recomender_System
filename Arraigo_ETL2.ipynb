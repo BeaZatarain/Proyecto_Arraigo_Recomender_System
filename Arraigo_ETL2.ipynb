{
 "cells": [
  {
   "cell_type": "code",
   "execution_count": 2,
   "id": "c3713a0f",
   "metadata": {},
   "outputs": [],
   "source": [
    "# import libraries\n",
    "\n",
    "import pandas as pd\n",
    "\n",
    "\n",
    "import numpy as np\n",
    "\n",
    "import warnings\n",
    "warnings.filterwarnings ('ignore')\n",
    "\n",
    "pd.set_option('display.max_columns', None)\n",
    "pd.set_option('display.max_rows', None)\n",
    "\n",
    "import seaborn as sns\n",
    "\n",
    "import matplotlib.pyplot as plt\n",
    "\n",
    "from geopy.geocoders import Nominatim"
   ]
  },
  {
   "cell_type": "code",
   "execution_count": 3,
   "id": "c4b2acba",
   "metadata": {},
   "outputs": [],
   "source": [
    "data_prior2_ori = pd.read_csv('../Proyecto_Arraigo_Recomender_System/data/Urbanitas_prior2.csv')\n",
    "\n",
    "\n",
    "data_prior2 = data_prior2_ori.copy()"
   ]
  },
  {
   "cell_type": "code",
   "execution_count": 4,
   "id": "82e51f8e",
   "metadata": {},
   "outputs": [
    {
     "name": "stdout",
     "output_type": "stream",
     "text": [
      "<class 'pandas.core.frame.DataFrame'>\n",
      "RangeIndex: 10618 entries, 0 to 10617\n",
      "Data columns (total 17 columns):\n",
      " #   Column                    Non-Null Count  Dtype \n",
      "---  ------                    --------------  ----- \n",
      " 0   Unnamed: 0                10618 non-null  int64 \n",
      " 1   id                        10617 non-null  object\n",
      " 2   fecha                     10618 non-null  object\n",
      " 3   pais_de_residencia        10590 non-null  object\n",
      " 4   provincia_de_espana       10590 non-null  object\n",
      " 5   ciudad_residencia         10590 non-null  object\n",
      " 6   situacion_en_espana       10571 non-null  object\n",
      " 7   profesion                 10515 non-null  object\n",
      " 8   autonomia_economica       8407 non-null   object\n",
      " 9   familia_edades            9025 non-null   object\n",
      " 10  coche_propio              10544 non-null  object\n",
      " 11  carnet_coche              8924 non-null   object\n",
      " 12  mascota                   10618 non-null  object\n",
      " 13  presupuesto_alquiler      10577 non-null  object\n",
      " 14  primera_segunda_vivienda  10556 non-null  object\n",
      " 15  zona_interes              10618 non-null  object\n",
      " 16  predisposicion_pueblo     10535 non-null  object\n",
      "dtypes: int64(1), object(16)\n",
      "memory usage: 1.4+ MB\n"
     ]
    }
   ],
   "source": [
    "data_prior2.info()"
   ]
  },
  {
   "cell_type": "code",
   "execution_count": 5,
   "id": "985bca10",
   "metadata": {},
   "outputs": [
    {
     "data": {
      "text/plain": [
       "autonomia_economica         26.299512\n",
       "carnet_coche                18.982519\n",
       "familia_edades              17.650970\n",
       "profesion                    0.979553\n",
       "predisposicion_pueblo        0.787850\n",
       "coche_propio                 0.701821\n",
       "primera_segunda_vivienda     0.587344\n",
       "situacion_en_espana          0.444613\n",
       "presupuesto_alquiler         0.387634\n",
       "ciudad_residencia            0.264400\n",
       "provincia_de_espana          0.264400\n",
       "pais_de_residencia           0.264400\n",
       "id                           0.009419\n",
       "fecha                        0.000000\n",
       "mascota                      0.000000\n",
       "zona_interes                 0.000000\n",
       "Unnamed: 0                   0.000000\n",
       "dtype: float64"
      ]
     },
     "execution_count": 5,
     "metadata": {},
     "output_type": "execute_result"
    }
   ],
   "source": [
    "porcentaje_nulos = data_prior2.isnull().sum() / data_prior2.count() * 100\n",
    "porcentaje_nulos.sort_values(ascending=False)"
   ]
  },
  {
   "cell_type": "markdown",
   "id": "c3eaefcb",
   "metadata": {},
   "source": [
    "LIMPIEZA AUTONOMIA_ECONOMICA"
   ]
  },
  {
   "cell_type": "code",
   "execution_count": 7,
   "id": "cee7dccf",
   "metadata": {},
   "outputs": [
    {
     "data": {
      "text/plain": [
       "array([nan, '3 meses', '6 meses', '1 año', 'Más de 1 año', '6 ???????',\n",
       "       'Hasta 12 meses', 'Hasta 3 meses', 'Hasta 6 meses',\n",
       "       'Más de 12 meses',\n",
       "       'No dispongo de autonomía económica en estos momentos',\n",
       "       'Dispongo de capacidad económica regular (jubilado, trabajo a distancia, trabajo fijo...)',\n",
       "       'Más de 6 meses', '1 ano', '???? ?? ???', '3 ??????', '3 mois'],\n",
       "      dtype=object)"
      ]
     },
     "execution_count": 7,
     "metadata": {},
     "output_type": "execute_result"
    }
   ],
   "source": [
    "data_prior2.autonomia_economica.unique()"
   ]
  },
  {
   "cell_type": "code",
   "execution_count": 10,
   "id": "e2daa787",
   "metadata": {},
   "outputs": [
    {
     "data": {
      "text/plain": [
       "2211"
      ]
     },
     "execution_count": 10,
     "metadata": {},
     "output_type": "execute_result"
    }
   ],
   "source": [
    "data_prior2.autonomia_economica.isnull().sum()\n",
    "#desconocemos la autonomía económica de 2211 personas -> preguntar al cliente"
   ]
  },
  {
   "cell_type": "code",
   "execution_count": null,
   "id": "4e65a944",
   "metadata": {},
   "outputs": [],
   "source": [
    "data_prior2 = data_prior2.replace({'autonomia_economica': {  '1 ano': '1 año',\n",
    "                                                             '6 ???????': '6 meses',\n",
    "                                                             'En los próximos 6 meses' : 'Aún me lo estoy pensando',\n",
    "                                                             'Cuanto antes (hasta 3 meses)' :'3 meses',\n",
    "                                                             'Cuanto antes  (hasta 3 meses)' :'3 meses',\n",
    "                                                             'Hasta 6 meses' :'6 meses',\n",
    "                                                             'En el próximo mes' :'Aún me lo estoy pensando',\n",
    "                                                             'Cuanto antes' :'Aún me lo estoy pensando',\n",
    "                                                             'Cuando termine nuestro contrato con el actual inmueble. A partir de tres años.' :'Aún me lo estoy pensando',\n",
    "                                                             'ecesito pensarlo más' :'Aún me lo estoy pensando',\n",
    "                                                             '1 mês': '1 mes',\n",
    "                                                             '??? ????' :'Aún me lo estoy pensando',\n",
    "                                                             'Ciagle o tym mysle' :'Aún me lo estoy pensando',\n",
    "                                                             '1 mois': '1 mes',\n",
    "                                                             'Necesito pensarlo más' :'Aún me lo estoy pensando',\n",
    "                                                             'En los proximos 6 meses' : 'Aún me lo estoy pensando',\n",
    "                                                      }})\n",
    "\n",
    "data_prior2.predisposicion_pueblo.unique()"
   ]
  },
  {
   "cell_type": "markdown",
   "id": "9fe28e74",
   "metadata": {},
   "source": [
    "LIMPIEZA CARNET_COCHE"
   ]
  },
  {
   "cell_type": "code",
   "execution_count": 11,
   "id": "49ce399a",
   "metadata": {},
   "outputs": [
    {
     "data": {
      "text/plain": [
       "array(['Si', 'No', '???', nan, 'sim', 'Non', '??', 'Não', 'Sim', 'TAk'],\n",
       "      dtype=object)"
      ]
     },
     "execution_count": 11,
     "metadata": {},
     "output_type": "execute_result"
    }
   ],
   "source": [
    "data_prior2.carnet_coche.unique()"
   ]
  },
  {
   "cell_type": "code",
   "execution_count": 12,
   "id": "ba713e87",
   "metadata": {},
   "outputs": [],
   "source": [
    "#se entiende que si en el momento en que se contestó la pregunta era abierta y no fue respondida como un 'no'\n",
    "\n",
    "data_prior2.fillna({'carnet_coche':'No'}, inplace=True)\n"
   ]
  },
  {
   "cell_type": "code",
   "execution_count": 15,
   "id": "04f2eb8e",
   "metadata": {},
   "outputs": [],
   "source": [
    "data_prior2 = data_prior2.replace({'carnet_coche': {'sim': 'Si',\n",
    "                                                    'Não': 'No',\n",
    "                                                    'Non' : 'No',\n",
    "                                                    'TAk' :'Si',\n",
    "                                                    'Tak' :'Si',\n",
    "                                                     'Sim' :'Si',\n",
    "                                                     '???' :'Si',\n",
    "                                                     '??' :'No',\n",
    "                                                      }})\n",
    "\n",
    "#los replacements de las ??? (cirílico) se han deducido por los datos del csv"
   ]
  },
  {
   "cell_type": "code",
   "execution_count": 16,
   "id": "48aa4229",
   "metadata": {},
   "outputs": [
    {
     "data": {
      "text/plain": [
       "array(['Si', 'No'], dtype=object)"
      ]
     },
     "execution_count": 16,
     "metadata": {},
     "output_type": "execute_result"
    }
   ],
   "source": [
    "data_prior2.carnet_coche.unique()"
   ]
  },
  {
   "cell_type": "markdown",
   "id": "83a68178",
   "metadata": {},
   "source": [
    "LIMPIEZA COCHE_PROPIO"
   ]
  },
  {
   "cell_type": "code",
   "execution_count": 17,
   "id": "05f36841",
   "metadata": {},
   "outputs": [
    {
     "data": {
      "text/plain": [
       "array(['No', 'Si', '???', nan, 'Sí', 'sí', 'sim', 'Non', '??', 'Sim',\n",
       "       'TAk', 'Não', 'NIE'], dtype=object)"
      ]
     },
     "execution_count": 17,
     "metadata": {},
     "output_type": "execute_result"
    }
   ],
   "source": [
    "data_prior2.coche_propio.unique()"
   ]
  },
  {
   "cell_type": "code",
   "execution_count": 18,
   "id": "d0420e01",
   "metadata": {},
   "outputs": [],
   "source": [
    "#se entiende que si en el momento en que se contestó la pregunta era abierta y no fue respondida como un 'no'\n",
    "\n",
    "data_prior2.fillna({'coche_propio':'No'}, inplace=True)"
   ]
  },
  {
   "cell_type": "code",
   "execution_count": 20,
   "id": "01118101",
   "metadata": {},
   "outputs": [],
   "source": [
    "data_prior2 = data_prior2.replace({'coche_propio': {'sim': 'Si',\n",
    "                                                    'Não': 'No',\n",
    "                                                    'Non' : 'No',\n",
    "                                                    'TAk' :'Si',\n",
    "                                                     'Sim' :'Si',\n",
    "                                                     '???' :'Si',\n",
    "                                                     '??' :'No',\n",
    "                                                     'NIE' :'No',\n",
    "                                                     'Sí' :'Si',\n",
    "                                                     'sí' :'Si',\n",
    "                                                      }})"
   ]
  },
  {
   "cell_type": "code",
   "execution_count": 21,
   "id": "9f316a64",
   "metadata": {},
   "outputs": [
    {
     "data": {
      "text/plain": [
       "array(['No', 'Si'], dtype=object)"
      ]
     },
     "execution_count": 21,
     "metadata": {},
     "output_type": "execute_result"
    }
   ],
   "source": [
    "data_prior2.coche_propio.unique()"
   ]
  },
  {
   "cell_type": "markdown",
   "id": "1c17fe7c",
   "metadata": {},
   "source": [
    "LIMPIEZA PREDISPOSICION_PUEBLO"
   ]
  },
  {
   "cell_type": "code",
   "execution_count": 22,
   "id": "e4247f11",
   "metadata": {},
   "outputs": [
    {
     "data": {
      "text/plain": [
       "array([nan, '3 meses', 'Aún me lo estoy pensando', '6 meses', '1 mes',\n",
       "       '1 ?????', 'Más de 6 meses', 'En los próximos 6 meses',\n",
       "       'Cuanto antes (hasta 3 meses)', 'En los proximos 6 meses',\n",
       "       'Cuanto antes  (hasta 3 meses)', 'Hasta 6 meses',\n",
       "       'En el próximo mes', 'Cuanto antes',\n",
       "       'Cuando termine nuestro contrato con el actual inmueble. A partir de tres años.',\n",
       "       'Necesito pensarlo más', '1 mês', '??? ????', '1 mois',\n",
       "       'Ciagle o tym mysle'], dtype=object)"
      ]
     },
     "execution_count": 22,
     "metadata": {},
     "output_type": "execute_result"
    }
   ],
   "source": [
    "data_prior2.predisposicion_pueblo.unique()"
   ]
  },
  {
   "cell_type": "code",
   "execution_count": 24,
   "id": "b432c95b",
   "metadata": {},
   "outputs": [
    {
     "data": {
      "text/plain": [
       "83"
      ]
     },
     "execution_count": 24,
     "metadata": {},
     "output_type": "execute_result"
    }
   ],
   "source": [
    "data_prior2.predisposicion_pueblo.isnull().sum()\n",
    "#desconocemos la predisposición a mudarse a un pueblo de 83 personas -> como el cuestionario estaba abierto en su momento, damos por hecho que no lo tenían claro."
   ]
  },
  {
   "cell_type": "code",
   "execution_count": 28,
   "id": "614fa5fd",
   "metadata": {},
   "outputs": [
    {
     "data": {
      "text/plain": [
       "array([nan, '3 meses', 'Aún me lo estoy pensando', '6 meses', '1 mes'],\n",
       "      dtype=object)"
      ]
     },
     "execution_count": 28,
     "metadata": {},
     "output_type": "execute_result"
    }
   ],
   "source": [
    "data_prior2 = data_prior2.replace({'predisposicion_pueblo': {'1 ?????': '1 mes',\n",
    "                                                             'Más de 6 meses': '6 meses',\n",
    "                                                             'En los próximos 6 meses' : 'Aún me lo estoy pensando',\n",
    "                                                             'Cuanto antes (hasta 3 meses)' :'3 meses',\n",
    "                                                             'Cuanto antes  (hasta 3 meses)' :'3 meses',\n",
    "                                                             'Hasta 6 meses' :'6 meses',\n",
    "                                                             'En el próximo mes' :'Aún me lo estoy pensando',\n",
    "                                                             'Cuanto antes' :'Aún me lo estoy pensando',\n",
    "                                                             'Cuando termine nuestro contrato con el actual inmueble. A partir de tres años.' :'Aún me lo estoy pensando',\n",
    "                                                             'ecesito pensarlo más' :'Aún me lo estoy pensando',\n",
    "                                                             '1 mês': '1 mes',\n",
    "                                                             '??? ????' :'Aún me lo estoy pensando',\n",
    "                                                             'Ciagle o tym mysle' :'Aún me lo estoy pensando',\n",
    "                                                             '1 mois': '1 mes',\n",
    "                                                             'Necesito pensarlo más' :'Aún me lo estoy pensando',\n",
    "                                                             'En los proximos 6 meses' : 'Aún me lo estoy pensando',\n",
    "                                                      }})\n",
    "\n",
    "data_prior2.predisposicion_pueblo.unique()"
   ]
  },
  {
   "cell_type": "code",
   "execution_count": 29,
   "id": "471b09f4",
   "metadata": {},
   "outputs": [],
   "source": [
    "data_prior2.fillna({'predisposicion_pueblo':'Aún me lo estoy pensando'}, inplace=True)"
   ]
  },
  {
   "cell_type": "markdown",
   "id": "e840cf26",
   "metadata": {},
   "source": [
    "LIMPIEZA ID"
   ]
  },
  {
   "cell_type": "code",
   "execution_count": 31,
   "id": "a5185257",
   "metadata": {},
   "outputs": [],
   "source": [
    "data_prior2.fillna({'id':'U-000002'}, inplace=True) #tenemos identificado el id que faltaba"
   ]
  },
  {
   "cell_type": "code",
   "execution_count": 32,
   "id": "07a001e9",
   "metadata": {},
   "outputs": [
    {
     "data": {
      "text/plain": [
       "autonomia_economica         26.299512\n",
       "familia_edades              17.650970\n",
       "profesion                    0.979553\n",
       "primera_segunda_vivienda     0.587344\n",
       "situacion_en_espana          0.444613\n",
       "presupuesto_alquiler         0.387634\n",
       "pais_de_residencia           0.264400\n",
       "provincia_de_espana          0.264400\n",
       "ciudad_residencia            0.264400\n",
       "mascota                      0.000000\n",
       "zona_interes                 0.000000\n",
       "Unnamed: 0                   0.000000\n",
       "carnet_coche                 0.000000\n",
       "coche_propio                 0.000000\n",
       "id                           0.000000\n",
       "fecha                        0.000000\n",
       "predisposicion_pueblo        0.000000\n",
       "dtype: float64"
      ]
     },
     "execution_count": 32,
     "metadata": {},
     "output_type": "execute_result"
    }
   ],
   "source": [
    "porcentaje_nulos = data_prior2.isnull().sum() / data_prior2.count() * 100\n",
    "porcentaje_nulos.sort_values(ascending=False) "
   ]
  },
  {
   "cell_type": "code",
   "execution_count": null,
   "id": "4aecfcf2",
   "metadata": {},
   "outputs": [],
   "source": []
  }
 ],
 "metadata": {
  "kernelspec": {
   "display_name": "Python 3 (ipykernel)",
   "language": "python",
   "name": "python3"
  },
  "language_info": {
   "codemirror_mode": {
    "name": "ipython",
    "version": 3
   },
   "file_extension": ".py",
   "mimetype": "text/x-python",
   "name": "python",
   "nbconvert_exporter": "python",
   "pygments_lexer": "ipython3",
   "version": "3.9.13"
  }
 },
 "nbformat": 4,
 "nbformat_minor": 5
}
