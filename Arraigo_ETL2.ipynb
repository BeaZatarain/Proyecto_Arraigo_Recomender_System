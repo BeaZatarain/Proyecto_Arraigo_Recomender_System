{
 "cells": [
  {
   "cell_type": "code",
   "execution_count": 1,
   "id": "0c45a9c2",
   "metadata": {},
   "outputs": [],
   "source": [
    "# import libraries\n",
    "\n",
    "import pandas as pd\n",
    "\n",
    "\n",
    "import numpy as np\n",
    "\n",
    "import warnings\n",
    "warnings.filterwarnings ('ignore')\n",
    "\n",
    "pd.set_option('display.max_columns', None)\n",
    "pd.set_option('display.max_rows', None)\n",
    "\n",
    "import seaborn as sns\n",
    "\n",
    "import matplotlib.pyplot as plt\n",
    "\n",
    "from geopy.geocoders import Nominatim"
   ]
  },
  {
   "cell_type": "code",
   "execution_count": 2,
   "id": "cd4bd7a3",
   "metadata": {},
   "outputs": [],
   "source": [
    "data_prior2_ori = pd.read_csv('../Proyecto_Arraigo_Recomender_System/data/Urbanitas_prior2.csv')\n",
    "\n",
    "\n",
    "data_prior2 = data_prior2_ori.copy()"
   ]
  },
  {
   "cell_type": "code",
   "execution_count": 3,
   "id": "045603f0",
   "metadata": {},
   "outputs": [
    {
     "name": "stdout",
     "output_type": "stream",
     "text": [
      "<class 'pandas.core.frame.DataFrame'>\n",
      "RangeIndex: 10618 entries, 0 to 10617\n",
      "Data columns (total 17 columns):\n",
      " #   Column                    Non-Null Count  Dtype \n",
      "---  ------                    --------------  ----- \n",
      " 0   Unnamed: 0                10618 non-null  int64 \n",
      " 1   id                        10617 non-null  object\n",
      " 2   fecha                     10618 non-null  object\n",
      " 3   pais_de_residencia        10590 non-null  object\n",
      " 4   provincia_de_espana       10590 non-null  object\n",
      " 5   ciudad_residencia         10590 non-null  object\n",
      " 6   situacion_en_espana       10571 non-null  object\n",
      " 7   profesion                 10515 non-null  object\n",
      " 8   autonomia_economica       8407 non-null   object\n",
      " 9   familia_edades            9025 non-null   object\n",
      " 10  coche_propio              10544 non-null  object\n",
      " 11  carnet_coche              8924 non-null   object\n",
      " 12  mascota                   10618 non-null  object\n",
      " 13  presupuesto_alquiler      10577 non-null  object\n",
      " 14  primera_segunda_vivienda  10556 non-null  object\n",
      " 15  zona_interes              10618 non-null  object\n",
      " 16  predisposicion_pueblo     10535 non-null  object\n",
      "dtypes: int64(1), object(16)\n",
      "memory usage: 1.4+ MB\n"
     ]
    }
   ],
   "source": [
    "data_prior2.info()"
   ]
  },
  {
   "cell_type": "code",
   "execution_count": 4,
   "id": "b6fc30dc",
   "metadata": {},
   "outputs": [
    {
     "data": {
      "text/plain": [
       "autonomia_economica         26.299512\n",
       "carnet_coche                18.982519\n",
       "familia_edades              17.650970\n",
       "profesion                    0.979553\n",
       "predisposicion_pueblo        0.787850\n",
       "coche_propio                 0.701821\n",
       "primera_segunda_vivienda     0.587344\n",
       "situacion_en_espana          0.444613\n",
       "presupuesto_alquiler         0.387634\n",
       "ciudad_residencia            0.264400\n",
       "provincia_de_espana          0.264400\n",
       "pais_de_residencia           0.264400\n",
       "id                           0.009419\n",
       "fecha                        0.000000\n",
       "mascota                      0.000000\n",
       "zona_interes                 0.000000\n",
       "Unnamed: 0                   0.000000\n",
       "dtype: float64"
      ]
     },
     "execution_count": 4,
     "metadata": {},
     "output_type": "execute_result"
    }
   ],
   "source": [
    "porcentaje_nulos = data_prior2.isnull().sum() / data_prior2.count() * 100\n",
    "porcentaje_nulos.sort_values(ascending=False)"
   ]
  },
  {
   "cell_type": "markdown",
   "id": "60844c06",
   "metadata": {},
   "source": [
    "LIMPIEZA AUTONOMIA_ECONOMICA"
   ]
  },
  {
   "cell_type": "code",
   "execution_count": 5,
   "id": "9d09cb02",
   "metadata": {},
   "outputs": [
    {
     "data": {
      "text/plain": [
       "array([nan, '3 meses', '6 meses', '1 año', 'Más de 1 año', '6 ???????',\n",
       "       'Hasta 12 meses', 'Hasta 3 meses', 'Hasta 6 meses',\n",
       "       'Más de 12 meses',\n",
       "       'No dispongo de autonomía económica en estos momentos',\n",
       "       'Dispongo de capacidad económica regular (jubilado, trabajo a distancia, trabajo fijo...)',\n",
       "       'Más de 6 meses', '1 ano', '???? ?? ???', '3 ??????', '3 mois'],\n",
       "      dtype=object)"
      ]
     },
     "execution_count": 5,
     "metadata": {},
     "output_type": "execute_result"
    }
   ],
   "source": [
    "data_prior2.autonomia_economica.unique()"
   ]
  },
  {
   "cell_type": "code",
   "execution_count": 6,
   "id": "26354337",
   "metadata": {},
   "outputs": [
    {
     "data": {
      "text/plain": [
       "2211"
      ]
     },
     "execution_count": 6,
     "metadata": {},
     "output_type": "execute_result"
    }
   ],
   "source": [
    "data_prior2.autonomia_economica.isnull().sum()\n",
    "#desconocemos la autonomía económica de 2211 personas -> preguntar al cliente"
   ]
  },
  {
   "cell_type": "code",
   "execution_count": 7,
   "id": "13aee353",
   "metadata": {},
   "outputs": [
    {
     "data": {
      "text/plain": [
       "array([nan, '3 meses', '6 meses', '1 año', 'Más de 1 año', '???? ?? ???'],\n",
       "      dtype=object)"
      ]
     },
     "execution_count": 7,
     "metadata": {},
     "output_type": "execute_result"
    }
   ],
   "source": [
    "data_prior2 = data_prior2.replace({'autonomia_economica': {  '1 ano': '1 año',\n",
    "                                                             '6 ???????': '6 meses',\n",
    "                                                             'Hasta 12 meses' : '1 año',\n",
    "                                                             'Hasta 3 meses' :'3 meses',\n",
    "                                                             'Hasta 6 meses' :'6 meses',\n",
    "                                                             'Más de 12 meses' :'Más de 1 año',\n",
    "                                                             'No dispongo de autonomía económica en estos momentos' :'3 meses',\n",
    "                                                             'Dispongo de capacidad económica regular (jubilado, trabajo a distancia, trabajo fijo...)' :'3 meses',\n",
    "                                                             'Más de 6 meses' :'1 año',\n",
    "                                                             '3 ??????' :'3 meses',\n",
    "                                                             '3 mois': '3 meses',\n",
    "\n",
    "                                                      }})\n",
    "\n",
    "data_prior2.autonomia_economica.unique()"
   ]
  },
  {
   "cell_type": "markdown",
   "id": "87b6492a",
   "metadata": {},
   "source": [
    "LIMPIEZA CARNET_COCHE"
   ]
  },
  {
   "cell_type": "code",
   "execution_count": 8,
   "id": "ce2e5a7a",
   "metadata": {},
   "outputs": [
    {
     "data": {
      "text/plain": [
       "array(['Si', 'No', '???', nan, 'sim', 'Non', '??', 'Não', 'Sim', 'TAk'],\n",
       "      dtype=object)"
      ]
     },
     "execution_count": 8,
     "metadata": {},
     "output_type": "execute_result"
    }
   ],
   "source": [
    "data_prior2.carnet_coche.unique()"
   ]
  },
  {
   "cell_type": "code",
   "execution_count": 9,
   "id": "44036310",
   "metadata": {},
   "outputs": [],
   "source": [
    "#se entiende que si en el momento en que se contestó la pregunta era abierta y no fue respondida como un 'no'\n",
    "\n",
    "data_prior2.fillna({'carnet_coche':'No'}, inplace=True)\n"
   ]
  },
  {
   "cell_type": "code",
   "execution_count": 10,
   "id": "ce46afbb",
   "metadata": {},
   "outputs": [],
   "source": [
    "data_prior2 = data_prior2.replace({'carnet_coche': {'sim': 'Si',\n",
    "                                                    'Não': 'No',\n",
    "                                                    'Non' : 'No',\n",
    "                                                    'TAk' :'Si',\n",
    "                                                    'Tak' :'Si',\n",
    "                                                     'Sim' :'Si',\n",
    "                                                     '???' :'Si',\n",
    "                                                     '??' :'No',\n",
    "                                                      }})\n",
    "\n",
    "#los replacements de las ??? (cirílico) se han deducido por los datos del csv"
   ]
  },
  {
   "cell_type": "code",
   "execution_count": 11,
   "id": "bac30aaa",
   "metadata": {},
   "outputs": [
    {
     "data": {
      "text/plain": [
       "array(['Si', 'No'], dtype=object)"
      ]
     },
     "execution_count": 11,
     "metadata": {},
     "output_type": "execute_result"
    }
   ],
   "source": [
    "data_prior2.carnet_coche.unique()"
   ]
  },
  {
   "cell_type": "markdown",
   "id": "df928f2f",
   "metadata": {},
   "source": [
    "LIMPIEZA COCHE_PROPIO"
   ]
  },
  {
   "cell_type": "code",
   "execution_count": 12,
   "id": "83406c5f",
   "metadata": {},
   "outputs": [
    {
     "data": {
      "text/plain": [
       "array(['No', 'Si', '???', nan, 'Sí', 'sí', 'sim', 'Non', '??', 'Sim',\n",
       "       'TAk', 'Não', 'NIE'], dtype=object)"
      ]
     },
     "execution_count": 12,
     "metadata": {},
     "output_type": "execute_result"
    }
   ],
   "source": [
    "data_prior2.coche_propio.unique()"
   ]
  },
  {
   "cell_type": "code",
   "execution_count": 13,
   "id": "f1f3ad5e",
   "metadata": {},
   "outputs": [],
   "source": [
    "#se entiende que si en el momento en que se contestó la pregunta era abierta y no fue respondida como un 'no'\n",
    "\n",
    "data_prior2.fillna({'coche_propio':'No'}, inplace=True)"
   ]
  },
  {
   "cell_type": "code",
   "execution_count": 14,
   "id": "8b4e9b69",
   "metadata": {},
   "outputs": [],
   "source": [
    "data_prior2 = data_prior2.replace({'coche_propio': {'sim': 'Si',\n",
    "                                                    'Não': 'No',\n",
    "                                                    'Non' : 'No',\n",
    "                                                    'TAk' :'Si',\n",
    "                                                     'Sim' :'Si',\n",
    "                                                     '???' :'Si',\n",
    "                                                     '??' :'No',\n",
    "                                                     'NIE' :'No',\n",
    "                                                     'Sí' :'Si',\n",
    "                                                     'sí' :'Si',\n",
    "                                                      }})"
   ]
  },
  {
   "cell_type": "code",
   "execution_count": 15,
   "id": "1aa0e579",
   "metadata": {},
   "outputs": [
    {
     "data": {
      "text/plain": [
       "array(['No', 'Si'], dtype=object)"
      ]
     },
     "execution_count": 15,
     "metadata": {},
     "output_type": "execute_result"
    }
   ],
   "source": [
    "data_prior2.coche_propio.unique()"
   ]
  },
  {
   "cell_type": "markdown",
   "id": "8c7c8d77",
   "metadata": {},
   "source": [
    "LIMPIEZA PREDISPOSICION_PUEBLO"
   ]
  },
  {
   "cell_type": "code",
   "execution_count": 16,
   "id": "38ba6d60",
   "metadata": {},
   "outputs": [
    {
     "data": {
      "text/plain": [
       "array([nan, '3 meses', 'Aún me lo estoy pensando', '6 meses', '1 mes',\n",
       "       '1 ?????', 'Más de 6 meses', 'En los próximos 6 meses',\n",
       "       'Cuanto antes (hasta 3 meses)', 'En los proximos 6 meses',\n",
       "       'Cuanto antes  (hasta 3 meses)', 'Hasta 6 meses',\n",
       "       'En el próximo mes', 'Cuanto antes',\n",
       "       'Cuando termine nuestro contrato con el actual inmueble. A partir de tres años.',\n",
       "       'Necesito pensarlo más', '1 mês', '??? ????', '1 mois',\n",
       "       'Ciagle o tym mysle'], dtype=object)"
      ]
     },
     "execution_count": 16,
     "metadata": {},
     "output_type": "execute_result"
    }
   ],
   "source": [
    "data_prior2.predisposicion_pueblo.unique()"
   ]
  },
  {
   "cell_type": "code",
   "execution_count": 17,
   "id": "debfedf6",
   "metadata": {},
   "outputs": [
    {
     "data": {
      "text/plain": [
       "83"
      ]
     },
     "execution_count": 17,
     "metadata": {},
     "output_type": "execute_result"
    }
   ],
   "source": [
    "data_prior2.predisposicion_pueblo.isnull().sum()\n",
    "#desconocemos la predisposición a mudarse a un pueblo de 83 personas -> como el cuestionario estaba abierto en su momento, damos por hecho que no lo tenían claro."
   ]
  },
  {
   "cell_type": "code",
   "execution_count": 18,
   "id": "866ae3c3",
   "metadata": {},
   "outputs": [
    {
     "data": {
      "text/plain": [
       "array([nan, '3 meses', 'Aún me lo estoy pensando', '6 meses', '1 mes'],\n",
       "      dtype=object)"
      ]
     },
     "execution_count": 18,
     "metadata": {},
     "output_type": "execute_result"
    }
   ],
   "source": [
    "data_prior2 = data_prior2.replace({'predisposicion_pueblo': {'1 ?????': '1 mes',\n",
    "                                                             'Más de 6 meses': '6 meses',\n",
    "                                                             'En los próximos 6 meses' : 'Aún me lo estoy pensando',\n",
    "                                                             'Cuanto antes (hasta 3 meses)' :'3 meses',\n",
    "                                                             'Cuanto antes  (hasta 3 meses)' :'3 meses',\n",
    "                                                             'Hasta 6 meses' :'6 meses',\n",
    "                                                             'En el próximo mes' :'Aún me lo estoy pensando',\n",
    "                                                             'Cuanto antes' :'Aún me lo estoy pensando',\n",
    "                                                             'Cuando termine nuestro contrato con el actual inmueble. A partir de tres años.' :'Aún me lo estoy pensando',\n",
    "                                                             'ecesito pensarlo más' :'Aún me lo estoy pensando',\n",
    "                                                             '1 mês': '1 mes',\n",
    "                                                             '??? ????' :'Aún me lo estoy pensando',\n",
    "                                                             'Ciagle o tym mysle' :'Aún me lo estoy pensando',\n",
    "                                                             '1 mois': '1 mes',\n",
    "                                                             'Necesito pensarlo más' :'Aún me lo estoy pensando',\n",
    "                                                             'En los proximos 6 meses' : 'Aún me lo estoy pensando',\n",
    "                                                      }})\n",
    "\n",
    "data_prior2.predisposicion_pueblo.unique()"
   ]
  },
  {
   "cell_type": "code",
   "execution_count": 19,
   "id": "686af320",
   "metadata": {},
   "outputs": [],
   "source": [
    "data_prior2.fillna({'predisposicion_pueblo':'Aún me lo estoy pensando'}, inplace=True)"
   ]
  },
  {
   "cell_type": "markdown",
   "id": "0d6ca365",
   "metadata": {},
   "source": [
    "LIMPIEZA ID"
   ]
  },
  {
   "cell_type": "code",
   "execution_count": 20,
   "id": "dd49b8c0",
   "metadata": {},
   "outputs": [],
   "source": [
    "data_prior2.fillna({'id':'U-000002'}, inplace=True) #tenemos identificado el id que faltaba"
   ]
  },
  {
   "cell_type": "code",
   "execution_count": 21,
   "id": "920891a9",
   "metadata": {},
   "outputs": [
    {
     "data": {
      "text/plain": [
       "autonomia_economica         26.299512\n",
       "familia_edades              17.650970\n",
       "profesion                    0.979553\n",
       "primera_segunda_vivienda     0.587344\n",
       "situacion_en_espana          0.444613\n",
       "presupuesto_alquiler         0.387634\n",
       "pais_de_residencia           0.264400\n",
       "provincia_de_espana          0.264400\n",
       "ciudad_residencia            0.264400\n",
       "mascota                      0.000000\n",
       "zona_interes                 0.000000\n",
       "Unnamed: 0                   0.000000\n",
       "carnet_coche                 0.000000\n",
       "coche_propio                 0.000000\n",
       "id                           0.000000\n",
       "fecha                        0.000000\n",
       "predisposicion_pueblo        0.000000\n",
       "dtype: float64"
      ]
     },
     "execution_count": 21,
     "metadata": {},
     "output_type": "execute_result"
    }
   ],
   "source": [
    "porcentaje_nulos = data_prior2.isnull().sum() / data_prior2.count() * 100\n",
    "porcentaje_nulos.sort_values(ascending=False) "
   ]
  },
  {
   "cell_type": "markdown",
   "id": "d705830a",
   "metadata": {},
   "source": [
    "LIMPIEZA FAMILIA_EDADES"
   ]
  },
  {
   "cell_type": "code",
   "execution_count": 22,
   "id": "afdd9be4",
   "metadata": {},
   "outputs": [
    {
     "data": {
      "text/plain": [
       "array(['30 - 24 - 2', '37,37', '57, 56', ..., '37-28-13-7-4',\n",
       "       '35, 33, 10, 8, 5, 3', '41, 32 y 6 meses'], dtype=object)"
      ]
     },
     "execution_count": 22,
     "metadata": {},
     "output_type": "execute_result"
    }
   ],
   "source": [
    "data_prior2.familia_edades.unique()"
   ]
  },
  {
   "cell_type": "code",
   "execution_count": 23,
   "id": "e5e8997c",
   "metadata": {},
   "outputs": [],
   "source": [
    "import re\n",
    "\n",
    "data_prior2['familia_edades'] = data_prior2['familia_edades'].apply(lambda x: ','.join(re.findall(r'\\d+', str(x))))\n"
   ]
  },
  {
   "cell_type": "code",
   "execution_count": 24,
   "id": "0a43b17c",
   "metadata": {},
   "outputs": [
    {
     "data": {
      "text/plain": [
       "array(['30,24,2', '37,37', '57,56', ..., '37,28,13,7,4', '35,33,10,8,5,3',\n",
       "       '41,32,6'], dtype=object)"
      ]
     },
     "execution_count": 24,
     "metadata": {},
     "output_type": "execute_result"
    }
   ],
   "source": [
    "data_prior2.familia_edades.unique()"
   ]
  },
  {
   "cell_type": "code",
   "execution_count": 25,
   "id": "aff5520e",
   "metadata": {},
   "outputs": [],
   "source": [
    "familias_1 = data_prior2[data_prior2['familia_edades'].str.len() == 1]['familia_edades'].tolist()"
   ]
  },
  {
   "cell_type": "code",
   "execution_count": 26,
   "id": "d5be262a",
   "metadata": {},
   "outputs": [
    {
     "data": {
      "text/plain": [
       "(['0', '4', '0', '0', '0', '0', '0', '6', '3', '9'], 0)"
      ]
     },
     "execution_count": 26,
     "metadata": {},
     "output_type": "execute_result"
    }
   ],
   "source": [
    "familias_1[:10], data_prior2.familia_edades.isnull().sum() #hay gente que ha contestado que tiene cero años"
   ]
  },
  {
   "cell_type": "code",
   "execution_count": 27,
   "id": "dcf0b784",
   "metadata": {},
   "outputs": [
    {
     "data": {
      "text/plain": [
       "      1654\n",
       "0      235\n",
       "30      83\n",
       "25      65\n",
       "31      61\n",
       "32      59\n",
       "27      59\n",
       "28      58\n",
       "45      56\n",
       "34      55\n",
       "Name: familia_edades, dtype: int64"
      ]
     },
     "execution_count": 27,
     "metadata": {},
     "output_type": "execute_result"
    }
   ],
   "source": [
    "data_prior2.familia_edades.value_counts()[:10]"
   ]
  },
  {
   "cell_type": "code",
   "execution_count": 28,
   "id": "69a50552",
   "metadata": {},
   "outputs": [],
   "source": [
    "data_prior2['numero_familiares'] = data_prior2['familia_edades'].apply(lambda x: len(x.split(',')))\n"
   ]
  },
  {
   "cell_type": "code",
   "execution_count": 29,
   "id": "b953c7a9",
   "metadata": {},
   "outputs": [
    {
     "data": {
      "text/plain": [
       "1     3907\n",
       "2     2417\n",
       "3     1798\n",
       "4     1434\n",
       "5      655\n",
       "6      233\n",
       "7       96\n",
       "8       42\n",
       "9       14\n",
       "10       9\n",
       "12       5\n",
       "16       3\n",
       "15       2\n",
       "19       1\n",
       "13       1\n",
       "11       1\n",
       "Name: numero_familiares, dtype: int64"
      ]
     },
     "execution_count": 29,
     "metadata": {},
     "output_type": "execute_result"
    }
   ],
   "source": [
    "data_prior2.numero_familiares.value_counts()"
   ]
  },
  {
   "cell_type": "markdown",
   "id": "06ba84de",
   "metadata": {},
   "source": [
    "LIMPIEZA PRIMERA_SEGUNDA_VIVIENDA "
   ]
  },
  {
   "cell_type": "code",
   "execution_count": 30,
   "id": "f62419f6",
   "metadata": {},
   "outputs": [
    {
     "data": {
      "text/plain": [
       "array([nan, 'Primera residencia', 'Segunda residencia',\n",
       "       '?????? ??????????', 'Primeira residência', '??????? ??????',\n",
       "       'première résidence', 'primeira residência', 'pierwsza rezydencja',\n",
       "       'pierwsze miejsce zamieszkania'], dtype=object)"
      ]
     },
     "execution_count": 30,
     "metadata": {},
     "output_type": "execute_result"
    }
   ],
   "source": [
    "data_prior2.primera_segunda_vivienda.unique()"
   ]
  },
  {
   "cell_type": "code",
   "execution_count": 31,
   "id": "240c18ca",
   "metadata": {},
   "outputs": [
    {
     "data": {
      "text/plain": [
       "62"
      ]
     },
     "execution_count": 31,
     "metadata": {},
     "output_type": "execute_result"
    }
   ],
   "source": [
    "data_prior2.primera_segunda_vivienda.isnull().sum()\n",
    "\n",
    "#62 personas no han marcado si la casa de destino es para primera o segunda vivienda."
   ]
  },
  {
   "cell_type": "code",
   "execution_count": 32,
   "id": "792a09ae",
   "metadata": {},
   "outputs": [
    {
     "data": {
      "text/plain": [
       "array([nan, 'Primera residencia', 'Segunda residencia'], dtype=object)"
      ]
     },
     "execution_count": 32,
     "metadata": {},
     "output_type": "execute_result"
    }
   ],
   "source": [
    "data_prior2 = data_prior2.replace({'primera_segunda_vivienda': {'Primeira residência': 'Primera residencia',\n",
    "                                                             'Primeira residência': 'Primera residencia',\n",
    "                                                             'première résidence' : 'Primera residencia',\n",
    "                                                             'primeira residência' :'Primera residencia',\n",
    "                                                             'pierwsza rezydencja' :'Primera residencia',\n",
    "                                                             'pierwsze miejsce zamieszkania' :'Primera residencia',\n",
    "                                                             '?????? ??????????' :'Primera residencia', #esto lo sé porque es ucraniano\n",
    "                                                             '??????? ??????' :'Primera residencia',\n",
    "\n",
    "                                                      }})\n",
    "\n",
    "data_prior2.primera_segunda_vivienda.unique()"
   ]
  },
  {
   "cell_type": "markdown",
   "id": "0bd424fe",
   "metadata": {},
   "source": [
    "LIMPIEZA SITUACION_EN_ESPAÑA"
   ]
  },
  {
   "cell_type": "code",
   "execution_count": 33,
   "id": "ee9e2b7a",
   "metadata": {},
   "outputs": [
    {
     "data": {
      "text/plain": [
       "array(['Tengo nacionalidad española / de un país de la UE / permiso de residencia',\n",
       "       'No estoy en ninguna de esas situaciones',\n",
       "       '? ?? ???????? ?? ? ????? ?? ???? ????????',\n",
       "       'Soy español o tengo la nacionalidad española/europea',\n",
       "       'No estoy en ninguna de estas situaciones',\n",
       "       'Tengo permiso de residencia en España',\n",
       "       'Situación de protección de asilo', nan,\n",
       "       'Soy español o tengo nacionalidad española/ europea',\n",
       "       'Situación de protección internacional o asilo',\n",
       "       'Autorización de permanencia en España por estudios',\n",
       "       'Otro tipo de visado (Visado de Residencia para Emprendedores o Actividad Empresarial (REM), Visado de Residencia para Inversores de Capital (RIC), Visado de Residencia por Adquisición de Bienes Inmuebles (RIV), Visado de Residencia para Profesionales Altamente Cualificados (TAC), Visado de Residencia para Formación o Investigación (RIN), Visado de Residencia por Traslado Empresarial (TTI))',\n",
       "       'Sin respuesta', 'Permiso de residencia/ trabajo (Asilo)',\n",
       "       'En tramite (de aqui a 6 meses)', 'Sí',\n",
       "       'Otro tipo de visado (Para emprendedores o Actividad empresarial)',\n",
       "       'Eu não estou em nenhuma dessas situações',\n",
       "       'Tenho nacionalidade espanhola / de um país da UE / autorização de residência',\n",
       "       '??? ??? ?? ?? ?? ??? ???????',\n",
       "       \"J'ai la nationalité espagnole / d'un pays de l'UE / un permis de séjour\",\n",
       "       '? ???? ???? ????????? ??????????? / ?? ?????? ?? / ??? ?? ??????????',\n",
       "       '? ?? ? ????? ?? ???? ????????',\n",
       "       'Mam obywatelstwo hiszpanskie / z kraju UE / pozwolenie na pobyt',\n",
       "       'Mam obywatelstwo hiszpanskie / z kraju UE / zezwolenie na pobyt'],\n",
       "      dtype=object)"
      ]
     },
     "execution_count": 33,
     "metadata": {},
     "output_type": "execute_result"
    }
   ],
   "source": [
    "data_prior2.situacion_en_espana.unique()"
   ]
  },
  {
   "cell_type": "code",
   "execution_count": 34,
   "id": "ecb44787",
   "metadata": {},
   "outputs": [
    {
     "data": {
      "text/plain": [
       "47"
      ]
     },
     "execution_count": 34,
     "metadata": {},
     "output_type": "execute_result"
    }
   ],
   "source": [
    "data_prior2.situacion_en_espana.isnull().sum()\n",
    "\n",
    "#47 personas no informaron sobre su situación en España\n"
   ]
  },
  {
   "cell_type": "code",
   "execution_count": 35,
   "id": "6b6f6006",
   "metadata": {},
   "outputs": [
    {
     "data": {
      "text/plain": [
       "array(['Tengo nacionalidad española / de un país de la UE / permiso de residencia',\n",
       "       'No estoy en ninguna de esas situaciones', nan, 'Sin respuesta'],\n",
       "      dtype=object)"
      ]
     },
     "execution_count": 35,
     "metadata": {},
     "output_type": "execute_result"
    }
   ],
   "source": [
    "data_prior2 = data_prior2.replace({'situacion_en_espana': {'? ?? ???????? ?? ? ????? ?? ???? ????????': 'No estoy en ninguna de esas situaciones',\n",
    "                                                             'Soy español o tengo la nacionalidad española/europea': 'Tengo nacionalidad española / de un país de la UE / permiso de residencia',\n",
    "                                                             'No estoy en ninguna de estas situaciones' : 'No estoy en ninguna de esas situaciones',\n",
    "                                                             'Tengo permiso de residencia en España' :'Tengo nacionalidad española / de un país de la UE / permiso de residencia',\n",
    "                                                             'Situación de protección de asilo' :'Tengo nacionalidad española / de un país de la UE / permiso de residencia',\n",
    "                                                             'Soy español o tengo nacionalidad española/ europea' :'Tengo nacionalidad española / de un país de la UE / permiso de residencia',\n",
    "                                                             'Situación de protección internacional o asilo' :'Tengo nacionalidad española / de un país de la UE / permiso de residencia', #esto lo sé porque es ucraniano\n",
    "                                                             'Autorización de permanencia en España por estudios' :'Tengo nacionalidad española / de un país de la UE / permiso de residencia',\n",
    "                                                             'Otro tipo de visado (Visado de Residencia para Emprendedores o Actividad Empresarial (REM), Visado de Residencia para Inversores de Capital (RIC), Visado de Residencia por Adquisición de Bienes Inmuebles (RIV), Visado de Residencia para Profesionales Altamente Cualificados (TAC), Visado de Residencia para Formación o Investigación (RIN), Visado de Residencia por Traslado Empresarial (TTI))' :'Tengo nacionalidad española / de un país de la UE / permiso de residencia',\n",
    "                                                             'Permiso de residencia/ trabajo (Asilo)' :'Tengo nacionalidad española / de un país de la UE / permiso de residencia',\n",
    "                                                             'En tramite (de aqui a 6 meses)' :'No estoy en ninguna de esas situaciones',\n",
    "                                                             'En tramite (de aqui a 6 meses)' :'No estoy en ninguna de esas situaciones',\n",
    "                                                             'Otro tipo de visado (Para emprendedores o Actividad empresarial)':'Tengo nacionalidad española / de un país de la UE / permiso de residencia',\n",
    "                                                             'Eu não estou em nenhuma dessas situações':'No estoy en ninguna de esas situaciones',\n",
    "                                                             'Tenho nacionalidade espanhola / de um país da UE / autorização de residência':'Tengo nacionalidad española / de un país de la UE / permiso de residencia',\n",
    "                                                             '??? ??? ?? ?? ?? ??? ???????': 'No estoy en ninguna de esas situaciones',\n",
    "                                                             \"J'ai la nationalité espagnole / d'un pays de l'UE / un permis de séjour\":'Tengo nacionalidad española / de un país de la UE / permiso de residencia',\n",
    "                                                             '? ???? ???? ????????? ??????????? / ?? ?????? ?? / ??? ?? ??????????':'Tengo nacionalidad española / de un país de la UE / permiso de residencia',\n",
    "                                                             '? ?? ? ????? ?? ???? ????????':'No estoy en ninguna de esas situaciones',\n",
    "                                                             'Mam obywatelstwo hiszpanskie / z kraju UE / pozwolenie na pobyt': 'Tengo nacionalidad española / de un país de la UE / permiso de residencia',\n",
    "                                                             'Mam obywatelstwo hiszpanskie / z kraju UE / zezwolenie na pobyt': 'Tengo nacionalidad española / de un país de la UE / permiso de residencia',\n",
    "                                                              'Sí':'Tengo nacionalidad española / de un país de la UE / permiso de residencia',\n",
    "                                                             \n",
    "                                                             \n",
    "                                                             \n",
    "                                                             \n",
    "                                                             \n",
    "                                                             \n",
    "                                                             \n",
    "                                                             \n",
    "\n",
    "                                                      }})\n",
    "\n",
    "data_prior2.situacion_en_espana.unique()"
   ]
  },
  {
   "cell_type": "code",
   "execution_count": 36,
   "id": "fb12609c",
   "metadata": {},
   "outputs": [],
   "source": [
    "situacion_check = data_prior2.query(\"situacion_en_espana == 'Sin respuesta'\")['pais_de_residencia'].value_counts()"
   ]
  },
  {
   "cell_type": "code",
   "execution_count": 37,
   "id": "bd045dfb",
   "metadata": {},
   "outputs": [],
   "source": [
    "#Como son países de la UE o España, reemplazamos por 'Tengo nacionalidad española / de un país de la UE / permiso de residencia'\n",
    "\n",
    "data_prior2.loc[(data_prior2['situacion_en_espana'] == 'Sin respuesta') & (data_prior2['pais_de_residencia'].str.contains('España', case=False, regex=False)), 'situacion_en_espana'] = 'Tengo nacionalidad española / de un país de la UE / permiso de residencia'\n",
    "data_prior2.loc[(data_prior2['situacion_en_espana'] == 'Sin respuesta') & (data_prior2['pais_de_residencia'].str.contains('Italia', case=False, regex=False)), 'situacion_en_espana'] = 'Tengo nacionalidad española / de un país de la UE / permiso de residencia'\n",
    "data_prior2.loc[(data_prior2['situacion_en_espana'] == 'Sin respuesta') & (data_prior2['pais_de_residencia'].str.contains('France', case=False, regex=False)), 'situacion_en_espana'] = 'Tengo nacionalidad española / de un país de la UE / permiso de residencia'\n",
    "data_prior2.loc[(data_prior2['situacion_en_espana'] == 'Sin respuesta') & (data_prior2['pais_de_residencia'].str.contains('Deutschland', case=False, regex=False)), 'situacion_en_espana'] = 'Tengo nacionalidad española / de un país de la UE / permiso de residencia'\n"
   ]
  },
  {
   "cell_type": "code",
   "execution_count": 38,
   "id": "70769649",
   "metadata": {},
   "outputs": [],
   "source": [
    "#En este caso, como no son países que pertenezcan a la UE y no han respondido, damos por hecho que se encuentran en otra situación\n",
    "\n",
    "data_prior2.loc[(data_prior2['situacion_en_espana'] == 'Sin respuesta') & (data_prior2['pais_de_residencia'].str.contains('Argentina', case=False, regex=False)), 'situacion_en_espana'] = 'No estoy en ninguna de esas situaciones'\n",
    "data_prior2.loc[(data_prior2['situacion_en_espana'] == 'Sin respuesta') & (data_prior2['pais_de_residencia'].str.contains('Honduras', case=False, regex=False)), 'situacion_en_espana'] = 'No estoy en ninguna de esas situaciones'\n",
    "data_prior2.loc[(data_prior2['situacion_en_espana'] == 'Sin respuesta') & (data_prior2['pais_de_residencia'].str.contains('México', case=False, regex=False)), 'situacion_en_espana'] = 'No estoy en ninguna de esas situaciones'\n",
    "data_prior2.loc[(data_prior2['situacion_en_espana'] == 'Sin respuesta') & (data_prior2['pais_de_residencia'].str.contains('Colombia', case=False, regex=False)), 'situacion_en_espana'] = 'No estoy en ninguna de esas situaciones'\n",
    "\n"
   ]
  },
  {
   "cell_type": "code",
   "execution_count": 39,
   "id": "5d59852d",
   "metadata": {},
   "outputs": [
    {
     "data": {
      "text/plain": [
       "Series([], Name: pais_de_residencia, dtype: int64)"
      ]
     },
     "execution_count": 39,
     "metadata": {},
     "output_type": "execute_result"
    }
   ],
   "source": [
    "#Check personas sin respuesta\n",
    "\n",
    "data_prior2.query(\"situacion_en_espana == 'Sin respuesta'\")['pais_de_residencia'].value_counts()"
   ]
  },
  {
   "cell_type": "code",
   "execution_count": 40,
   "id": "528341c2",
   "metadata": {},
   "outputs": [
    {
     "name": "stdout",
     "output_type": "stream",
     "text": [
      "<class 'pandas.core.frame.DataFrame'>\n",
      "RangeIndex: 10618 entries, 0 to 10617\n",
      "Data columns (total 18 columns):\n",
      " #   Column                    Non-Null Count  Dtype \n",
      "---  ------                    --------------  ----- \n",
      " 0   Unnamed: 0                10618 non-null  int64 \n",
      " 1   id                        10618 non-null  object\n",
      " 2   fecha                     10618 non-null  object\n",
      " 3   pais_de_residencia        10590 non-null  object\n",
      " 4   provincia_de_espana       10590 non-null  object\n",
      " 5   ciudad_residencia         10590 non-null  object\n",
      " 6   situacion_en_espana       10571 non-null  object\n",
      " 7   profesion                 10515 non-null  object\n",
      " 8   autonomia_economica       8407 non-null   object\n",
      " 9   familia_edades            10618 non-null  object\n",
      " 10  coche_propio              10618 non-null  object\n",
      " 11  carnet_coche              10618 non-null  object\n",
      " 12  mascota                   10618 non-null  object\n",
      " 13  presupuesto_alquiler      10577 non-null  object\n",
      " 14  primera_segunda_vivienda  10556 non-null  object\n",
      " 15  zona_interes              10618 non-null  object\n",
      " 16  predisposicion_pueblo     10618 non-null  object\n",
      " 17  numero_familiares         10618 non-null  int64 \n",
      "dtypes: int64(2), object(16)\n",
      "memory usage: 1.5+ MB\n"
     ]
    }
   ],
   "source": [
    "data_prior2.info()"
   ]
  },
  {
   "cell_type": "code",
   "execution_count": 41,
   "id": "9828401b",
   "metadata": {},
   "outputs": [
    {
     "data": {
      "text/plain": [
       "autonomia_economica         26.299512\n",
       "profesion                    0.979553\n",
       "primera_segunda_vivienda     0.587344\n",
       "situacion_en_espana          0.444613\n",
       "presupuesto_alquiler         0.387634\n",
       "pais_de_residencia           0.264400\n",
       "provincia_de_espana          0.264400\n",
       "ciudad_residencia            0.264400\n",
       "Unnamed: 0                   0.000000\n",
       "mascota                      0.000000\n",
       "predisposicion_pueblo        0.000000\n",
       "zona_interes                 0.000000\n",
       "familia_edades               0.000000\n",
       "carnet_coche                 0.000000\n",
       "coche_propio                 0.000000\n",
       "id                           0.000000\n",
       "fecha                        0.000000\n",
       "numero_familiares            0.000000\n",
       "dtype: float64"
      ]
     },
     "execution_count": 41,
     "metadata": {},
     "output_type": "execute_result"
    }
   ],
   "source": [
    "porcentaje_nulos = data_prior2.isnull().sum() / data_prior2.count() * 100\n",
    "porcentaje_nulos.sort_values(ascending=False)"
   ]
  },
  {
   "cell_type": "code",
   "execution_count": 42,
   "id": "810e8ac9",
   "metadata": {},
   "outputs": [
    {
     "data": {
      "text/html": [
       "<div>\n",
       "<style scoped>\n",
       "    .dataframe tbody tr th:only-of-type {\n",
       "        vertical-align: middle;\n",
       "    }\n",
       "\n",
       "    .dataframe tbody tr th {\n",
       "        vertical-align: top;\n",
       "    }\n",
       "\n",
       "    .dataframe thead th {\n",
       "        text-align: right;\n",
       "    }\n",
       "</style>\n",
       "<table border=\"1\" class=\"dataframe\">\n",
       "  <thead>\n",
       "    <tr style=\"text-align: right;\">\n",
       "      <th></th>\n",
       "      <th>Unnamed: 0</th>\n",
       "      <th>id</th>\n",
       "      <th>fecha</th>\n",
       "      <th>pais_de_residencia</th>\n",
       "      <th>provincia_de_espana</th>\n",
       "      <th>ciudad_residencia</th>\n",
       "      <th>situacion_en_espana</th>\n",
       "      <th>profesion</th>\n",
       "      <th>autonomia_economica</th>\n",
       "      <th>familia_edades</th>\n",
       "      <th>coche_propio</th>\n",
       "      <th>carnet_coche</th>\n",
       "      <th>mascota</th>\n",
       "      <th>presupuesto_alquiler</th>\n",
       "      <th>primera_segunda_vivienda</th>\n",
       "      <th>zona_interes</th>\n",
       "      <th>predisposicion_pueblo</th>\n",
       "      <th>numero_familiares</th>\n",
       "    </tr>\n",
       "  </thead>\n",
       "  <tbody>\n",
       "    <tr>\n",
       "      <th>0</th>\n",
       "      <td>0</td>\n",
       "      <td>U-000002</td>\n",
       "      <td>2023-03-01</td>\n",
       "      <td>España</td>\n",
       "      <td>Cantabria</td>\n",
       "      <td>Santander</td>\n",
       "      <td>Tengo nacionalidad española / de un país de la...</td>\n",
       "      <td>Atención al cliente</td>\n",
       "      <td>NaN</td>\n",
       "      <td>30,24,2</td>\n",
       "      <td>No</td>\n",
       "      <td>Si</td>\n",
       "      <td>No</td>\n",
       "      <td>NaN</td>\n",
       "      <td>NaN</td>\n",
       "      <td>Indiferente</td>\n",
       "      <td>Aún me lo estoy pensando</td>\n",
       "      <td>3</td>\n",
       "    </tr>\n",
       "  </tbody>\n",
       "</table>\n",
       "</div>"
      ],
      "text/plain": [
       "   Unnamed: 0        id       fecha pais_de_residencia provincia_de_espana  \\\n",
       "0           0  U-000002  2023-03-01             España           Cantabria   \n",
       "\n",
       "  ciudad_residencia                                situacion_en_espana  \\\n",
       "0         Santander  Tengo nacionalidad española / de un país de la...   \n",
       "\n",
       "             profesion autonomia_economica familia_edades coche_propio  \\\n",
       "0  Atención al cliente                 NaN        30,24,2           No   \n",
       "\n",
       "  carnet_coche mascota presupuesto_alquiler primera_segunda_vivienda  \\\n",
       "0           Si      No                  NaN                      NaN   \n",
       "\n",
       "  zona_interes     predisposicion_pueblo  numero_familiares  \n",
       "0  Indiferente  Aún me lo estoy pensando                  3  "
      ]
     },
     "execution_count": 42,
     "metadata": {},
     "output_type": "execute_result"
    }
   ],
   "source": [
    "data_prior2.head(1)"
   ]
  },
  {
   "cell_type": "code",
   "execution_count": 43,
   "id": "4afafe64",
   "metadata": {},
   "outputs": [],
   "source": [
    "data_prior2 = data_prior2.drop(\"Unnamed: 0\", axis=1)"
   ]
  },
  {
   "cell_type": "code",
   "execution_count": 44,
   "id": "8048416c",
   "metadata": {},
   "outputs": [
    {
     "data": {
      "text/html": [
       "<div>\n",
       "<style scoped>\n",
       "    .dataframe tbody tr th:only-of-type {\n",
       "        vertical-align: middle;\n",
       "    }\n",
       "\n",
       "    .dataframe tbody tr th {\n",
       "        vertical-align: top;\n",
       "    }\n",
       "\n",
       "    .dataframe thead th {\n",
       "        text-align: right;\n",
       "    }\n",
       "</style>\n",
       "<table border=\"1\" class=\"dataframe\">\n",
       "  <thead>\n",
       "    <tr style=\"text-align: right;\">\n",
       "      <th></th>\n",
       "      <th>id</th>\n",
       "      <th>fecha</th>\n",
       "      <th>pais_de_residencia</th>\n",
       "      <th>provincia_de_espana</th>\n",
       "      <th>ciudad_residencia</th>\n",
       "      <th>situacion_en_espana</th>\n",
       "      <th>profesion</th>\n",
       "      <th>autonomia_economica</th>\n",
       "      <th>familia_edades</th>\n",
       "      <th>coche_propio</th>\n",
       "      <th>carnet_coche</th>\n",
       "      <th>mascota</th>\n",
       "      <th>presupuesto_alquiler</th>\n",
       "      <th>primera_segunda_vivienda</th>\n",
       "      <th>zona_interes</th>\n",
       "      <th>predisposicion_pueblo</th>\n",
       "      <th>numero_familiares</th>\n",
       "    </tr>\n",
       "  </thead>\n",
       "  <tbody>\n",
       "    <tr>\n",
       "      <th>0</th>\n",
       "      <td>U-000002</td>\n",
       "      <td>2023-03-01</td>\n",
       "      <td>España</td>\n",
       "      <td>Cantabria</td>\n",
       "      <td>Santander</td>\n",
       "      <td>Tengo nacionalidad española / de un país de la...</td>\n",
       "      <td>Atención al cliente</td>\n",
       "      <td>NaN</td>\n",
       "      <td>30,24,2</td>\n",
       "      <td>No</td>\n",
       "      <td>Si</td>\n",
       "      <td>No</td>\n",
       "      <td>NaN</td>\n",
       "      <td>NaN</td>\n",
       "      <td>Indiferente</td>\n",
       "      <td>Aún me lo estoy pensando</td>\n",
       "      <td>3</td>\n",
       "    </tr>\n",
       "  </tbody>\n",
       "</table>\n",
       "</div>"
      ],
      "text/plain": [
       "         id       fecha pais_de_residencia provincia_de_espana  \\\n",
       "0  U-000002  2023-03-01             España           Cantabria   \n",
       "\n",
       "  ciudad_residencia                                situacion_en_espana  \\\n",
       "0         Santander  Tengo nacionalidad española / de un país de la...   \n",
       "\n",
       "             profesion autonomia_economica familia_edades coche_propio  \\\n",
       "0  Atención al cliente                 NaN        30,24,2           No   \n",
       "\n",
       "  carnet_coche mascota presupuesto_alquiler primera_segunda_vivienda  \\\n",
       "0           Si      No                  NaN                      NaN   \n",
       "\n",
       "  zona_interes     predisposicion_pueblo  numero_familiares  \n",
       "0  Indiferente  Aún me lo estoy pensando                  3  "
      ]
     },
     "execution_count": 44,
     "metadata": {},
     "output_type": "execute_result"
    }
   ],
   "source": [
    "data_prior2.head(1)"
   ]
  },
  {
   "cell_type": "markdown",
   "id": "047cbaf9",
   "metadata": {},
   "source": [
    "LIMPIEZA COLUMNA PROFESION"
   ]
  },
  {
   "cell_type": "code",
   "execution_count": 45,
   "id": "43d5d452",
   "metadata": {},
   "outputs": [
    {
     "data": {
      "text/plain": [
       "array(['Atención al cliente', 'Comercio internacional', 'Dependiente',\n",
       "       'Sanitario', 'Fotógrafo', 'Profesor educación especial',\n",
       "       'Técnico de empresas y actividades turísticas', 'Otro', 'Cocinero',\n",
       "       'Administrativo'], dtype=object)"
      ]
     },
     "execution_count": 45,
     "metadata": {},
     "output_type": "execute_result"
    }
   ],
   "source": [
    "data_prior2.profesion.unique()[:10]"
   ]
  },
  {
   "cell_type": "markdown",
   "id": "59972968",
   "metadata": {},
   "source": [
    "LIMPIEZA COLUMNA PRESUPUESTO_ALQUILER"
   ]
  },
  {
   "cell_type": "code",
   "execution_count": 46,
   "id": "cc085511",
   "metadata": {},
   "outputs": [
    {
     "data": {
      "text/plain": [
       "array([nan, 'Hasta 300€', 'Hasta 450€', 'Hasta 600€', '?? 300 ????',\n",
       "       'Más de 600€', 'Hasta 600', 'Hasta 450', 'Hasta 300', 'Más de 600',\n",
       "       'hasta 600', 'hasta 450', 'hasta 300', 'Compra', 'Até € 300',\n",
       "       'Até € 600', '?? ??? ??? 300 ????', \"Jusqu'à 300 €\", 'Até 600€',\n",
       "       'Até 300€', 'Do 450€', 'Do 300 €'], dtype=object)"
      ]
     },
     "execution_count": 46,
     "metadata": {},
     "output_type": "execute_result"
    }
   ],
   "source": [
    "data_prior2.presupuesto_alquiler.unique()"
   ]
  },
  {
   "cell_type": "code",
   "execution_count": 47,
   "id": "5e255573",
   "metadata": {},
   "outputs": [
    {
     "data": {
      "text/plain": [
       "array([nan, 'Hasta 300€', 'Hasta 450€', 'Hasta 600€', 'Más de 600€',\n",
       "       'hasta 600'], dtype=object)"
      ]
     },
     "execution_count": 47,
     "metadata": {},
     "output_type": "execute_result"
    }
   ],
   "source": [
    "data_prior2 = data_prior2.replace({'presupuesto_alquiler': {'?? 300 ????': 'Hasta 300€',\n",
    "                                                             'Hasta 600': 'Hasta 600€',\n",
    "                                                             'Hasta 450' : 'Hasta 450€',\n",
    "                                                             'Hasta 300' :'Hasta 300€',\n",
    "                                                             'Más de 600' :'Más de 600€',\n",
    "                                                             'hasta 450' :'Hasta 450€',\n",
    "                                                             'hasta 300' :'Hasta 300€',\n",
    "                                                             'Até € 300' :'Hasta 300€',\n",
    "                                                             'Compra' :'Más de 600€',\n",
    "                                                             'Até € 600' :'Hasta 600€',\n",
    "                                                             '?? ??? ??? 300 ????': 'Hasta 300€',\n",
    "                                                             \"Jusqu'à 300 €\" :'Hasta 300€',\n",
    "                                                             'Até 600€' :'Hasta 600€',\n",
    "                                                             'Até 300€': 'Hasta 300€',\n",
    "                                                             'Do 450€' :'Hasta 450€',\n",
    "                                                             'Do 300 €' : 'Hasta 300€',\n",
    "                                                      }})\n",
    "\n",
    "data_prior2.presupuesto_alquiler.unique()"
   ]
  },
  {
   "cell_type": "code",
   "execution_count": 48,
   "id": "020dd7cc",
   "metadata": {},
   "outputs": [
    {
     "data": {
      "text/plain": [
       "41"
      ]
     },
     "execution_count": 48,
     "metadata": {},
     "output_type": "execute_result"
    }
   ],
   "source": [
    "data_prior2.presupuesto_alquiler.isnull().sum()\n",
    "\n",
    "#desconocemos el presupuesto de alquiler de 41 personas"
   ]
  },
  {
   "cell_type": "markdown",
   "id": "134aae3d",
   "metadata": {},
   "source": [
    "LIMPIEZA COLUMNA PAIS_RESIDENCIA"
   ]
  },
  {
   "cell_type": "code",
   "execution_count": 49,
   "id": "95cac105",
   "metadata": {},
   "outputs": [
    {
     "data": {
      "text/plain": [
       "array(['España', \"('España', 'Andalucía')\",\n",
       "       \"('España', 'Comunidad de Madrid')\", \"('España', '28830')\",\n",
       "       \"('España', '46133')\", \"('Cuba', 'NINGUNA')\",\n",
       "       \"('España', 'Illes Balears')\", \"('United States', 'NINGUNA')\",\n",
       "       \"('Россия', 'NINGUNA')\", \"('España', '31500')\"], dtype=object)"
      ]
     },
     "execution_count": 49,
     "metadata": {},
     "output_type": "execute_result"
    }
   ],
   "source": [
    "data_prior2.pais_de_residencia.unique()[:10]"
   ]
  },
  {
   "cell_type": "code",
   "execution_count": 50,
   "id": "ee708055",
   "metadata": {},
   "outputs": [],
   "source": [
    "data_prior2['pais_de_residencia'] = data_prior2['pais_de_residencia'] .apply(lambda x: str(x))"
   ]
  },
  {
   "cell_type": "code",
   "execution_count": 51,
   "id": "e8181840",
   "metadata": {},
   "outputs": [],
   "source": [
    "data_prior2['pais_de_residencia'] = ['España' if isinstance(valor, str) and 'España' in valor else valor for valor in data_prior2['pais_de_residencia']]\n"
   ]
  },
  {
   "cell_type": "code",
   "execution_count": 62,
   "id": "c676bd4a",
   "metadata": {},
   "outputs": [],
   "source": [
    "import regex\n",
    "\n",
    "paises_ue = ['France', 'Italia', 'Deutschland', 'België / Belgique / Belgien', 'Portugal', 'Nederland', 'Andorra', 'Norge', 'România', 'Slovensko', 'Česko', 'Polska']\n",
    "paises_ue_regex = [regex.escape(pais) for pais in paises_ue]\n",
    "\n",
    "data_prior2['pais_de_residencia'] = ['Resto de Europa (dentro de UE)' if any(regex.search(pais, valor) for pais in paises_ue_regex) else valor for valor in data_prior2['pais_de_residencia']]\n",
    "\n"
   ]
  },
  {
   "cell_type": "code",
   "execution_count": 63,
   "id": "229776fb",
   "metadata": {},
   "outputs": [],
   "source": [
    "paises_latam = ['Cuba', 'México', 'Argentina', 'Bolivia', 'Venezuela', 'Colombia', 'Chile', 'Paraguay / Paraguái', 'Panamá', 'Perú', 'Costa Rica', 'Ecuador', 'Brasil', 'República Dominicana', 'Honduras', 'Uruguay','Nicaragua','El Salvador']\n",
    "\n",
    "paises_latam_regex = [regex.escape(pais) for pais in paises_latam]\n",
    "\n",
    "data_prior2['pais_de_residencia'] = ['Latino América' if any(regex.search(pais, valor) for pais in paises_latam_regex) else valor for valor in data_prior2['pais_de_residencia']]"
   ]
  },
  {
   "cell_type": "code",
   "execution_count": 68,
   "id": "470d984b",
   "metadata": {},
   "outputs": [],
   "source": [
    "paises_otro = ['United States', 'Россия', 'United Kingdom', '臺灣', 'الأردن', 'Ascension and Tristan da Cunha', 'Magyarország', 'Éire / Ireland', 'Lëtzebuerg', 'Australia', 'Canada', 'سوريا', 'Philippines', 'Schweiz/Suisse/Svizzera/Svizra', 'Algérie / ⵍⵣⵣⴰⵢⴻⵔ / الجزائر', '???????','??????','Ελλάς']\n",
    "\n",
    "paises_otro_regex = [regex.escape(pais) for pais in paises_otro]\n",
    "\n",
    "data_prior2['pais_de_residencia'] = ['Otro' if any(regex.search(pais, valor) for pais in paises_otro_regex) else valor for valor in data_prior2['pais_de_residencia']]"
   ]
  },
  {
   "cell_type": "code",
   "execution_count": 69,
   "id": "8e1e1cd3",
   "metadata": {},
   "outputs": [
    {
     "data": {
      "text/plain": [
       "array(['España', 'Latino América', 'Otro',\n",
       "       'Resto de Europa (dentro de UE)', 'nan'], dtype=object)"
      ]
     },
     "execution_count": 69,
     "metadata": {},
     "output_type": "execute_result"
    }
   ],
   "source": [
    "data_prior2.pais_de_residencia.unique()"
   ]
  },
  {
   "cell_type": "code",
   "execution_count": null,
   "id": "7220dfa9",
   "metadata": {},
   "outputs": [],
   "source": []
  }
 ],
 "metadata": {
  "kernelspec": {
   "display_name": "Python 3 (ipykernel)",
   "language": "python",
   "name": "python3"
  },
  "language_info": {
   "codemirror_mode": {
    "name": "ipython",
    "version": 3
   },
   "file_extension": ".py",
   "mimetype": "text/x-python",
   "name": "python",
   "nbconvert_exporter": "python",
   "pygments_lexer": "ipython3",
   "version": "3.9.13"
  }
 },
 "nbformat": 4,
 "nbformat_minor": 5
}
