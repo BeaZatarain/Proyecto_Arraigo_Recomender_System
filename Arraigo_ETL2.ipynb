{
 "cells": [
  {
   "cell_type": "code",
   "execution_count": 1,
   "id": "0c45a9c2",
   "metadata": {},
   "outputs": [],
   "source": [
    "# import libraries\n",
    "\n",
    "import pandas as pd\n",
    "\n",
    "\n",
    "import numpy as np\n",
    "\n",
    "import warnings\n",
    "warnings.filterwarnings ('ignore')\n",
    "\n",
    "pd.set_option('display.max_columns', None)\n",
    "pd.set_option('display.max_rows', None)\n",
    "\n",
    "import seaborn as sns\n",
    "\n",
    "import matplotlib.pyplot as plt\n",
    "\n",
    "from geopy.geocoders import Nominatim"
   ]
  },
  {
   "cell_type": "code",
   "execution_count": 2,
   "id": "cd4bd7a3",
   "metadata": {},
   "outputs": [],
   "source": [
    "data_prior2_ori = pd.read_csv('../Proyecto_Arraigo_Recomender_System/data/Urbanitas_prior2.csv')\n",
    "\n",
    "\n",
    "data_prior2 = data_prior2_ori.copy()"
   ]
  },
  {
   "cell_type": "code",
   "execution_count": 3,
   "id": "045603f0",
   "metadata": {},
   "outputs": [
    {
     "name": "stdout",
     "output_type": "stream",
     "text": [
      "<class 'pandas.core.frame.DataFrame'>\n",
      "RangeIndex: 10618 entries, 0 to 10617\n",
      "Data columns (total 17 columns):\n",
      " #   Column                    Non-Null Count  Dtype \n",
      "---  ------                    --------------  ----- \n",
      " 0   Unnamed: 0                10618 non-null  int64 \n",
      " 1   id                        10617 non-null  object\n",
      " 2   fecha                     10618 non-null  object\n",
      " 3   pais_de_residencia        10590 non-null  object\n",
      " 4   provincia_de_espana       10590 non-null  object\n",
      " 5   ciudad_residencia         10590 non-null  object\n",
      " 6   situacion_en_espana       10571 non-null  object\n",
      " 7   profesion                 10515 non-null  object\n",
      " 8   autonomia_economica       8407 non-null   object\n",
      " 9   familia_edades            9025 non-null   object\n",
      " 10  coche_propio              10544 non-null  object\n",
      " 11  carnet_coche              8924 non-null   object\n",
      " 12  mascota                   10618 non-null  object\n",
      " 13  presupuesto_alquiler      10577 non-null  object\n",
      " 14  primera_segunda_vivienda  10556 non-null  object\n",
      " 15  zona_interes              10618 non-null  object\n",
      " 16  predisposicion_pueblo     10535 non-null  object\n",
      "dtypes: int64(1), object(16)\n",
      "memory usage: 1.4+ MB\n"
     ]
    }
   ],
   "source": [
    "data_prior2.info()"
   ]
  },
  {
   "cell_type": "code",
   "execution_count": 4,
   "id": "b6fc30dc",
   "metadata": {},
   "outputs": [
    {
     "data": {
      "text/plain": [
       "autonomia_economica         26.299512\n",
       "carnet_coche                18.982519\n",
       "familia_edades              17.650970\n",
       "profesion                    0.979553\n",
       "predisposicion_pueblo        0.787850\n",
       "coche_propio                 0.701821\n",
       "primera_segunda_vivienda     0.587344\n",
       "situacion_en_espana          0.444613\n",
       "presupuesto_alquiler         0.387634\n",
       "ciudad_residencia            0.264400\n",
       "provincia_de_espana          0.264400\n",
       "pais_de_residencia           0.264400\n",
       "id                           0.009419\n",
       "fecha                        0.000000\n",
       "mascota                      0.000000\n",
       "zona_interes                 0.000000\n",
       "Unnamed: 0                   0.000000\n",
       "dtype: float64"
      ]
     },
     "execution_count": 4,
     "metadata": {},
     "output_type": "execute_result"
    }
   ],
   "source": [
    "porcentaje_nulos = data_prior2.isnull().sum() / data_prior2.count() * 100\n",
    "porcentaje_nulos.sort_values(ascending=False)"
   ]
  },
  {
   "cell_type": "markdown",
   "id": "60844c06",
   "metadata": {},
   "source": [
    "LIMPIEZA AUTONOMIA_ECONOMICA"
   ]
  },
  {
   "cell_type": "code",
   "execution_count": 5,
   "id": "9d09cb02",
   "metadata": {},
   "outputs": [
    {
     "data": {
      "text/plain": [
       "array([nan, '3 meses', '6 meses', '1 año', 'Más de 1 año', '6 ???????',\n",
       "       'Hasta 12 meses', 'Hasta 3 meses', 'Hasta 6 meses',\n",
       "       'Más de 12 meses',\n",
       "       'No dispongo de autonomía económica en estos momentos',\n",
       "       'Dispongo de capacidad económica regular (jubilado, trabajo a distancia, trabajo fijo...)',\n",
       "       'Más de 6 meses', '1 ano', '???? ?? ???', '3 ??????', '3 mois'],\n",
       "      dtype=object)"
      ]
     },
     "execution_count": 5,
     "metadata": {},
     "output_type": "execute_result"
    }
   ],
   "source": [
    "data_prior2.autonomia_economica.unique()"
   ]
  },
  {
   "cell_type": "code",
   "execution_count": 6,
   "id": "26354337",
   "metadata": {},
   "outputs": [
    {
     "data": {
      "text/plain": [
       "2211"
      ]
     },
     "execution_count": 6,
     "metadata": {},
     "output_type": "execute_result"
    }
   ],
   "source": [
    "data_prior2.autonomia_economica.isnull().sum()\n",
    "#desconocemos la autonomía económica de 2211 personas -> preguntar al cliente"
   ]
  },
  {
   "cell_type": "code",
   "execution_count": 7,
   "id": "13aee353",
   "metadata": {},
   "outputs": [
    {
     "data": {
      "text/plain": [
       "array([nan, '3 meses', '6 meses', '1 año', 'Más de 1 año', '???? ?? ???'],\n",
       "      dtype=object)"
      ]
     },
     "execution_count": 7,
     "metadata": {},
     "output_type": "execute_result"
    }
   ],
   "source": [
    "data_prior2 = data_prior2.replace({'autonomia_economica': {  '1 ano': '1 año',\n",
    "                                                             '6 ???????': '6 meses',\n",
    "                                                             'Hasta 12 meses' : '1 año',\n",
    "                                                             'Hasta 3 meses' :'3 meses',\n",
    "                                                             'Hasta 6 meses' :'6 meses',\n",
    "                                                             'Más de 12 meses' :'Más de 1 año',\n",
    "                                                             'No dispongo de autonomía económica en estos momentos' :'3 meses',\n",
    "                                                             'Dispongo de capacidad económica regular (jubilado, trabajo a distancia, trabajo fijo...)' :'3 meses',\n",
    "                                                             'Más de 6 meses' :'1 año',\n",
    "                                                             '3 ??????' :'3 meses',\n",
    "                                                             '3 mois': '3 meses',\n",
    "\n",
    "                                                      }})\n",
    "\n",
    "data_prior2.autonomia_economica.unique()"
   ]
  },
  {
   "cell_type": "markdown",
   "id": "87b6492a",
   "metadata": {},
   "source": [
    "LIMPIEZA CARNET_COCHE"
   ]
  },
  {
   "cell_type": "code",
   "execution_count": 8,
   "id": "ce2e5a7a",
   "metadata": {},
   "outputs": [
    {
     "data": {
      "text/plain": [
       "array(['Si', 'No', '???', nan, 'sim', 'Non', '??', 'Não', 'Sim', 'TAk'],\n",
       "      dtype=object)"
      ]
     },
     "execution_count": 8,
     "metadata": {},
     "output_type": "execute_result"
    }
   ],
   "source": [
    "data_prior2.carnet_coche.unique()"
   ]
  },
  {
   "cell_type": "code",
   "execution_count": 9,
   "id": "44036310",
   "metadata": {},
   "outputs": [],
   "source": [
    "#se entiende que si en el momento en que se contestó la pregunta era abierta y no fue respondida como un 'no'\n",
    "\n",
    "data_prior2.fillna({'carnet_coche':'No'}, inplace=True)\n"
   ]
  },
  {
   "cell_type": "code",
   "execution_count": 10,
   "id": "ce46afbb",
   "metadata": {},
   "outputs": [],
   "source": [
    "data_prior2 = data_prior2.replace({'carnet_coche': {'sim': 'Si',\n",
    "                                                    'Não': 'No',\n",
    "                                                    'Non' : 'No',\n",
    "                                                    'TAk' :'Si',\n",
    "                                                    'Tak' :'Si',\n",
    "                                                     'Sim' :'Si',\n",
    "                                                     '???' :'Si',\n",
    "                                                     '??' :'No',\n",
    "                                                      }})\n",
    "\n",
    "#los replacements de las ??? (cirílico) se han deducido por los datos del csv"
   ]
  },
  {
   "cell_type": "code",
   "execution_count": 11,
   "id": "bac30aaa",
   "metadata": {},
   "outputs": [
    {
     "data": {
      "text/plain": [
       "array(['Si', 'No'], dtype=object)"
      ]
     },
     "execution_count": 11,
     "metadata": {},
     "output_type": "execute_result"
    }
   ],
   "source": [
    "data_prior2.carnet_coche.unique()"
   ]
  },
  {
   "cell_type": "markdown",
   "id": "df928f2f",
   "metadata": {},
   "source": [
    "LIMPIEZA COCHE_PROPIO"
   ]
  },
  {
   "cell_type": "code",
   "execution_count": 12,
   "id": "83406c5f",
   "metadata": {},
   "outputs": [
    {
     "data": {
      "text/plain": [
       "array(['No', 'Si', '???', nan, 'Sí', 'sí', 'sim', 'Non', '??', 'Sim',\n",
       "       'TAk', 'Não', 'NIE'], dtype=object)"
      ]
     },
     "execution_count": 12,
     "metadata": {},
     "output_type": "execute_result"
    }
   ],
   "source": [
    "data_prior2.coche_propio.unique()"
   ]
  },
  {
   "cell_type": "code",
   "execution_count": 13,
   "id": "f1f3ad5e",
   "metadata": {},
   "outputs": [],
   "source": [
    "#se entiende que si en el momento en que se contestó la pregunta era abierta y no fue respondida como un 'no'\n",
    "\n",
    "data_prior2.fillna({'coche_propio':'No'}, inplace=True)"
   ]
  },
  {
   "cell_type": "code",
   "execution_count": 14,
   "id": "8b4e9b69",
   "metadata": {},
   "outputs": [],
   "source": [
    "data_prior2 = data_prior2.replace({'coche_propio': {'sim': 'Si',\n",
    "                                                    'Não': 'No',\n",
    "                                                    'Non' : 'No',\n",
    "                                                    'TAk' :'Si',\n",
    "                                                     'Sim' :'Si',\n",
    "                                                     '???' :'Si',\n",
    "                                                     '??' :'No',\n",
    "                                                     'NIE' :'No',\n",
    "                                                     'Sí' :'Si',\n",
    "                                                     'sí' :'Si',\n",
    "                                                      }})"
   ]
  },
  {
   "cell_type": "code",
   "execution_count": 15,
   "id": "1aa0e579",
   "metadata": {},
   "outputs": [
    {
     "data": {
      "text/plain": [
       "array(['No', 'Si'], dtype=object)"
      ]
     },
     "execution_count": 15,
     "metadata": {},
     "output_type": "execute_result"
    }
   ],
   "source": [
    "data_prior2.coche_propio.unique()"
   ]
  },
  {
   "cell_type": "markdown",
   "id": "8c7c8d77",
   "metadata": {},
   "source": [
    "LIMPIEZA PREDISPOSICION_PUEBLO"
   ]
  },
  {
   "cell_type": "code",
   "execution_count": 16,
   "id": "38ba6d60",
   "metadata": {},
   "outputs": [
    {
     "data": {
      "text/plain": [
       "array([nan, '3 meses', 'Aún me lo estoy pensando', '6 meses', '1 mes',\n",
       "       '1 ?????', 'Más de 6 meses', 'En los próximos 6 meses',\n",
       "       'Cuanto antes (hasta 3 meses)', 'En los proximos 6 meses',\n",
       "       'Cuanto antes  (hasta 3 meses)', 'Hasta 6 meses',\n",
       "       'En el próximo mes', 'Cuanto antes',\n",
       "       'Cuando termine nuestro contrato con el actual inmueble. A partir de tres años.',\n",
       "       'Necesito pensarlo más', '1 mês', '??? ????', '1 mois',\n",
       "       'Ciagle o tym mysle'], dtype=object)"
      ]
     },
     "execution_count": 16,
     "metadata": {},
     "output_type": "execute_result"
    }
   ],
   "source": [
    "data_prior2.predisposicion_pueblo.unique()"
   ]
  },
  {
   "cell_type": "code",
   "execution_count": 17,
   "id": "debfedf6",
   "metadata": {},
   "outputs": [
    {
     "data": {
      "text/plain": [
       "83"
      ]
     },
     "execution_count": 17,
     "metadata": {},
     "output_type": "execute_result"
    }
   ],
   "source": [
    "data_prior2.predisposicion_pueblo.isnull().sum()\n",
    "#desconocemos la predisposición a mudarse a un pueblo de 83 personas -> como el cuestionario estaba abierto en su momento, damos por hecho que no lo tenían claro."
   ]
  },
  {
   "cell_type": "code",
   "execution_count": 18,
   "id": "866ae3c3",
   "metadata": {},
   "outputs": [
    {
     "data": {
      "text/plain": [
       "array([nan, '3 meses', 'Aún me lo estoy pensando', '6 meses', '1 mes'],\n",
       "      dtype=object)"
      ]
     },
     "execution_count": 18,
     "metadata": {},
     "output_type": "execute_result"
    }
   ],
   "source": [
    "data_prior2 = data_prior2.replace({'predisposicion_pueblo': {'1 ?????': '1 mes',\n",
    "                                                             'Más de 6 meses': '6 meses',\n",
    "                                                             'En los próximos 6 meses' : 'Aún me lo estoy pensando',\n",
    "                                                             'Cuanto antes (hasta 3 meses)' :'3 meses',\n",
    "                                                             'Cuanto antes  (hasta 3 meses)' :'3 meses',\n",
    "                                                             'Hasta 6 meses' :'6 meses',\n",
    "                                                             'En el próximo mes' :'Aún me lo estoy pensando',\n",
    "                                                             'Cuanto antes' :'Aún me lo estoy pensando',\n",
    "                                                             'Cuando termine nuestro contrato con el actual inmueble. A partir de tres años.' :'Aún me lo estoy pensando',\n",
    "                                                             'ecesito pensarlo más' :'Aún me lo estoy pensando',\n",
    "                                                             '1 mês': '1 mes',\n",
    "                                                             '??? ????' :'Aún me lo estoy pensando',\n",
    "                                                             'Ciagle o tym mysle' :'Aún me lo estoy pensando',\n",
    "                                                             '1 mois': '1 mes',\n",
    "                                                             'Necesito pensarlo más' :'Aún me lo estoy pensando',\n",
    "                                                             'En los proximos 6 meses' : 'Aún me lo estoy pensando',\n",
    "                                                      }})\n",
    "\n",
    "data_prior2.predisposicion_pueblo.unique()"
   ]
  },
  {
   "cell_type": "code",
   "execution_count": 19,
   "id": "686af320",
   "metadata": {},
   "outputs": [],
   "source": [
    "data_prior2.fillna({'predisposicion_pueblo':'Aún me lo estoy pensando'}, inplace=True)"
   ]
  },
  {
   "cell_type": "markdown",
   "id": "0d6ca365",
   "metadata": {},
   "source": [
    "LIMPIEZA ID"
   ]
  },
  {
   "cell_type": "code",
   "execution_count": 20,
   "id": "dd49b8c0",
   "metadata": {},
   "outputs": [],
   "source": [
    "data_prior2.fillna({'id':'U-000002'}, inplace=True) #tenemos identificado el id que faltaba"
   ]
  },
  {
   "cell_type": "code",
   "execution_count": 21,
   "id": "920891a9",
   "metadata": {},
   "outputs": [
    {
     "data": {
      "text/plain": [
       "autonomia_economica         26.299512\n",
       "familia_edades              17.650970\n",
       "profesion                    0.979553\n",
       "primera_segunda_vivienda     0.587344\n",
       "situacion_en_espana          0.444613\n",
       "presupuesto_alquiler         0.387634\n",
       "pais_de_residencia           0.264400\n",
       "provincia_de_espana          0.264400\n",
       "ciudad_residencia            0.264400\n",
       "mascota                      0.000000\n",
       "zona_interes                 0.000000\n",
       "Unnamed: 0                   0.000000\n",
       "carnet_coche                 0.000000\n",
       "coche_propio                 0.000000\n",
       "id                           0.000000\n",
       "fecha                        0.000000\n",
       "predisposicion_pueblo        0.000000\n",
       "dtype: float64"
      ]
     },
     "execution_count": 21,
     "metadata": {},
     "output_type": "execute_result"
    }
   ],
   "source": [
    "porcentaje_nulos = data_prior2.isnull().sum() / data_prior2.count() * 100\n",
    "porcentaje_nulos.sort_values(ascending=False) "
   ]
  },
  {
   "cell_type": "markdown",
   "id": "d705830a",
   "metadata": {},
   "source": [
    "LIMPIEZA FAMILIA_EDADES"
   ]
  },
  {
   "cell_type": "code",
   "execution_count": 22,
   "id": "afdd9be4",
   "metadata": {},
   "outputs": [
    {
     "data": {
      "text/plain": [
       "array(['30 - 24 - 2', '37,37', '57, 56', ..., '37-28-13-7-4',\n",
       "       '35, 33, 10, 8, 5, 3', '41, 32 y 6 meses'], dtype=object)"
      ]
     },
     "execution_count": 22,
     "metadata": {},
     "output_type": "execute_result"
    }
   ],
   "source": [
    "data_prior2.familia_edades.unique()"
   ]
  },
  {
   "cell_type": "code",
   "execution_count": 23,
   "id": "e5e8997c",
   "metadata": {},
   "outputs": [],
   "source": [
    "import re\n",
    "\n",
    "data_prior2['familia_edades'] = data_prior2['familia_edades'].apply(lambda x: ','.join(re.findall(r'\\d+', str(x))))\n"
   ]
  },
  {
   "cell_type": "code",
   "execution_count": 24,
   "id": "0a43b17c",
   "metadata": {},
   "outputs": [
    {
     "data": {
      "text/plain": [
       "array(['30,24,2', '37,37', '57,56', ..., '37,28,13,7,4', '35,33,10,8,5,3',\n",
       "       '41,32,6'], dtype=object)"
      ]
     },
     "execution_count": 24,
     "metadata": {},
     "output_type": "execute_result"
    }
   ],
   "source": [
    "data_prior2.familia_edades.unique()"
   ]
  },
  {
   "cell_type": "code",
   "execution_count": 25,
   "id": "aff5520e",
   "metadata": {},
   "outputs": [],
   "source": [
    "familias_1 = data_prior2[data_prior2['familia_edades'].str.len() == 1]['familia_edades'].tolist()"
   ]
  },
  {
   "cell_type": "code",
   "execution_count": 26,
   "id": "d5be262a",
   "metadata": {},
   "outputs": [
    {
     "data": {
      "text/plain": [
       "(['0', '4', '0', '0', '0', '0', '0', '6', '3', '9'], 0)"
      ]
     },
     "execution_count": 26,
     "metadata": {},
     "output_type": "execute_result"
    }
   ],
   "source": [
    "familias_1[:10], data_prior2.familia_edades.isnull().sum() #hay gente que ha contestado que tiene cero años"
   ]
  },
  {
   "cell_type": "code",
   "execution_count": 27,
   "id": "dcf0b784",
   "metadata": {},
   "outputs": [
    {
     "data": {
      "text/plain": [
       "      1654\n",
       "0      235\n",
       "30      83\n",
       "25      65\n",
       "31      61\n",
       "32      59\n",
       "27      59\n",
       "28      58\n",
       "45      56\n",
       "34      55\n",
       "Name: familia_edades, dtype: int64"
      ]
     },
     "execution_count": 27,
     "metadata": {},
     "output_type": "execute_result"
    }
   ],
   "source": [
    "data_prior2.familia_edades.value_counts()[:10]"
   ]
  },
  {
   "cell_type": "code",
   "execution_count": 28,
   "id": "69a50552",
   "metadata": {},
   "outputs": [],
   "source": [
    "data_prior2['numero_familiares'] = data_prior2['familia_edades'].apply(lambda x: len(x.split(',')))\n"
   ]
  },
  {
   "cell_type": "code",
   "execution_count": 29,
   "id": "b953c7a9",
   "metadata": {},
   "outputs": [
    {
     "data": {
      "text/plain": [
       "1     3907\n",
       "2     2417\n",
       "3     1798\n",
       "4     1434\n",
       "5      655\n",
       "6      233\n",
       "7       96\n",
       "8       42\n",
       "9       14\n",
       "10       9\n",
       "12       5\n",
       "16       3\n",
       "15       2\n",
       "19       1\n",
       "13       1\n",
       "11       1\n",
       "Name: numero_familiares, dtype: int64"
      ]
     },
     "execution_count": 29,
     "metadata": {},
     "output_type": "execute_result"
    }
   ],
   "source": [
    "data_prior2.numero_familiares.value_counts()"
   ]
  },
  {
   "cell_type": "markdown",
   "id": "06ba84de",
   "metadata": {},
   "source": [
    "LIMPIEZA PRIMERA_SEGUNDA_VIVIENDA "
   ]
  },
  {
   "cell_type": "code",
   "execution_count": 30,
   "id": "f62419f6",
   "metadata": {},
   "outputs": [
    {
     "data": {
      "text/plain": [
       "array([nan, 'Primera residencia', 'Segunda residencia',\n",
       "       '?????? ??????????', 'Primeira residência', '??????? ??????',\n",
       "       'première résidence', 'primeira residência', 'pierwsza rezydencja',\n",
       "       'pierwsze miejsce zamieszkania'], dtype=object)"
      ]
     },
     "execution_count": 30,
     "metadata": {},
     "output_type": "execute_result"
    }
   ],
   "source": [
    "data_prior2.primera_segunda_vivienda.unique()"
   ]
  },
  {
   "cell_type": "code",
   "execution_count": 31,
   "id": "240c18ca",
   "metadata": {},
   "outputs": [
    {
     "data": {
      "text/plain": [
       "62"
      ]
     },
     "execution_count": 31,
     "metadata": {},
     "output_type": "execute_result"
    }
   ],
   "source": [
    "data_prior2.primera_segunda_vivienda.isnull().sum()\n",
    "\n",
    "#62 personas no han marcado si la casa de destino es para primera o segunda vivienda."
   ]
  },
  {
   "cell_type": "code",
   "execution_count": 32,
   "id": "792a09ae",
   "metadata": {},
   "outputs": [
    {
     "data": {
      "text/plain": [
       "array([nan, 'Primera residencia', 'Segunda residencia'], dtype=object)"
      ]
     },
     "execution_count": 32,
     "metadata": {},
     "output_type": "execute_result"
    }
   ],
   "source": [
    "data_prior2 = data_prior2.replace({'primera_segunda_vivienda': {'Primeira residência': 'Primera residencia',\n",
    "                                                             'Primeira residência': 'Primera residencia',\n",
    "                                                             'première résidence' : 'Primera residencia',\n",
    "                                                             'primeira residência' :'Primera residencia',\n",
    "                                                             'pierwsza rezydencja' :'Primera residencia',\n",
    "                                                             'pierwsze miejsce zamieszkania' :'Primera residencia',\n",
    "                                                             '?????? ??????????' :'Primera residencia', #esto lo sé porque es ucraniano\n",
    "                                                             '??????? ??????' :'Primera residencia',\n",
    "\n",
    "                                                      }})\n",
    "\n",
    "data_prior2.primera_segunda_vivienda.unique()"
   ]
  },
  {
   "cell_type": "markdown",
   "id": "0bd424fe",
   "metadata": {},
   "source": [
    "LIMPIEZA SITUACION_EN_ESPAÑA"
   ]
  },
  {
   "cell_type": "code",
   "execution_count": 33,
   "id": "ee9e2b7a",
   "metadata": {},
   "outputs": [
    {
     "data": {
      "text/plain": [
       "array(['Tengo nacionalidad española / de un país de la UE / permiso de residencia',\n",
       "       'No estoy en ninguna de esas situaciones',\n",
       "       '? ?? ???????? ?? ? ????? ?? ???? ????????',\n",
       "       'Soy español o tengo la nacionalidad española/europea',\n",
       "       'No estoy en ninguna de estas situaciones',\n",
       "       'Tengo permiso de residencia en España',\n",
       "       'Situación de protección de asilo', nan,\n",
       "       'Soy español o tengo nacionalidad española/ europea',\n",
       "       'Situación de protección internacional o asilo',\n",
       "       'Autorización de permanencia en España por estudios',\n",
       "       'Otro tipo de visado (Visado de Residencia para Emprendedores o Actividad Empresarial (REM), Visado de Residencia para Inversores de Capital (RIC), Visado de Residencia por Adquisición de Bienes Inmuebles (RIV), Visado de Residencia para Profesionales Altamente Cualificados (TAC), Visado de Residencia para Formación o Investigación (RIN), Visado de Residencia por Traslado Empresarial (TTI))',\n",
       "       'Sin respuesta', 'Permiso de residencia/ trabajo (Asilo)',\n",
       "       'En tramite (de aqui a 6 meses)', 'Sí',\n",
       "       'Otro tipo de visado (Para emprendedores o Actividad empresarial)',\n",
       "       'Eu não estou em nenhuma dessas situações',\n",
       "       'Tenho nacionalidade espanhola / de um país da UE / autorização de residência',\n",
       "       '??? ??? ?? ?? ?? ??? ???????',\n",
       "       \"J'ai la nationalité espagnole / d'un pays de l'UE / un permis de séjour\",\n",
       "       '? ???? ???? ????????? ??????????? / ?? ?????? ?? / ??? ?? ??????????',\n",
       "       '? ?? ? ????? ?? ???? ????????',\n",
       "       'Mam obywatelstwo hiszpanskie / z kraju UE / pozwolenie na pobyt',\n",
       "       'Mam obywatelstwo hiszpanskie / z kraju UE / zezwolenie na pobyt'],\n",
       "      dtype=object)"
      ]
     },
     "execution_count": 33,
     "metadata": {},
     "output_type": "execute_result"
    }
   ],
   "source": [
    "data_prior2.situacion_en_espana.unique()"
   ]
  },
  {
   "cell_type": "code",
   "execution_count": 34,
   "id": "904b46dd",
   "metadata": {},
   "outputs": [
    {
     "data": {
      "text/plain": [
       "47"
      ]
     },
     "execution_count": 34,
     "metadata": {},
     "output_type": "execute_result"
    }
   ],
   "source": [
    "data_prior2.situacion_en_espana.isnull().sum()\n",
    "\n",
    "#47 personas no informaron sobre su situación en España\n"
   ]
  },
  {
   "cell_type": "code",
   "execution_count": 35,
   "id": "6b6f6006",
   "metadata": {},
   "outputs": [
    {
     "data": {
      "text/plain": [
       "array(['Tengo nacionalidad española / de un país de la UE / permiso de residencia',\n",
       "       'No estoy en ninguna de esas situaciones', nan, 'Sin respuesta'],\n",
       "      dtype=object)"
      ]
     },
     "execution_count": 35,
     "metadata": {},
     "output_type": "execute_result"
    }
   ],
   "source": [
    "data_prior2 = data_prior2.replace({'situacion_en_espana': {'? ?? ???????? ?? ? ????? ?? ???? ????????': 'No estoy en ninguna de esas situaciones',\n",
    "                                                             'Soy español o tengo la nacionalidad española/europea': 'Tengo nacionalidad española / de un país de la UE / permiso de residencia',\n",
    "                                                             'No estoy en ninguna de estas situaciones' : 'No estoy en ninguna de esas situaciones',\n",
    "                                                             'Tengo permiso de residencia en España' :'Tengo nacionalidad española / de un país de la UE / permiso de residencia',\n",
    "                                                             'Situación de protección de asilo' :'Tengo nacionalidad española / de un país de la UE / permiso de residencia',\n",
    "                                                             'Soy español o tengo nacionalidad española/ europea' :'Tengo nacionalidad española / de un país de la UE / permiso de residencia',\n",
    "                                                             'Situación de protección internacional o asilo' :'Tengo nacionalidad española / de un país de la UE / permiso de residencia', #esto lo sé porque es ucraniano\n",
    "                                                             'Autorización de permanencia en España por estudios' :'Tengo nacionalidad española / de un país de la UE / permiso de residencia',\n",
    "                                                             'Otro tipo de visado (Visado de Residencia para Emprendedores o Actividad Empresarial (REM), Visado de Residencia para Inversores de Capital (RIC), Visado de Residencia por Adquisición de Bienes Inmuebles (RIV), Visado de Residencia para Profesionales Altamente Cualificados (TAC), Visado de Residencia para Formación o Investigación (RIN), Visado de Residencia por Traslado Empresarial (TTI))' :'Tengo nacionalidad española / de un país de la UE / permiso de residencia',\n",
    "                                                             'Permiso de residencia/ trabajo (Asilo)' :'Tengo nacionalidad española / de un país de la UE / permiso de residencia',\n",
    "                                                             'En tramite (de aqui a 6 meses)' :'No estoy en ninguna de esas situaciones',\n",
    "                                                             'En tramite (de aqui a 6 meses)' :'No estoy en ninguna de esas situaciones',\n",
    "                                                             'Otro tipo de visado (Para emprendedores o Actividad empresarial)':'Tengo nacionalidad española / de un país de la UE / permiso de residencia',\n",
    "                                                             'Eu não estou em nenhuma dessas situações':'No estoy en ninguna de esas situaciones',\n",
    "                                                             'Tenho nacionalidade espanhola / de um país da UE / autorização de residência':'Tengo nacionalidad española / de un país de la UE / permiso de residencia',\n",
    "                                                             '??? ??? ?? ?? ?? ??? ???????': 'No estoy en ninguna de esas situaciones',\n",
    "                                                             \"J'ai la nationalité espagnole / d'un pays de l'UE / un permis de séjour\":'Tengo nacionalidad española / de un país de la UE / permiso de residencia',\n",
    "                                                             '? ???? ???? ????????? ??????????? / ?? ?????? ?? / ??? ?? ??????????':'Tengo nacionalidad española / de un país de la UE / permiso de residencia',\n",
    "                                                             '? ?? ? ????? ?? ???? ????????':'No estoy en ninguna de esas situaciones',\n",
    "                                                             'Mam obywatelstwo hiszpanskie / z kraju UE / pozwolenie na pobyt': 'Tengo nacionalidad española / de un país de la UE / permiso de residencia',\n",
    "                                                             'Mam obywatelstwo hiszpanskie / z kraju UE / zezwolenie na pobyt': 'Tengo nacionalidad española / de un país de la UE / permiso de residencia',\n",
    "                                                              'Sí':'Tengo nacionalidad española / de un país de la UE / permiso de residencia',\n",
    "                                                             \n",
    "                                                             \n",
    "                                                             \n",
    "                                                             \n",
    "                                                             \n",
    "                                                             \n",
    "                                                             \n",
    "                                                             \n",
    "\n",
    "                                                      }})\n",
    "\n",
    "data_prior2.situacion_en_espana.unique()"
   ]
  },
  {
   "cell_type": "code",
   "execution_count": 36,
   "id": "fb12609c",
   "metadata": {},
   "outputs": [],
   "source": [
    "situacion_check = data_prior2.query(\"situacion_en_espana == 'Sin respuesta'\")['pais_de_residencia'].value_counts()"
   ]
  },
  {
   "cell_type": "code",
   "execution_count": 37,
   "id": "bd045dfb",
   "metadata": {},
   "outputs": [],
   "source": [
    "#Como son países de la UE o España, reemplazamos por 'Tengo nacionalidad española / de un país de la UE / permiso de residencia'\n",
    "\n",
    "data_prior2.loc[(data_prior2['situacion_en_espana'] == 'Sin respuesta') & (data_prior2['pais_de_residencia'].str.contains('España', case=False, regex=False)), 'situacion_en_espana'] = 'Tengo nacionalidad española / de un país de la UE / permiso de residencia'\n",
    "data_prior2.loc[(data_prior2['situacion_en_espana'] == 'Sin respuesta') & (data_prior2['pais_de_residencia'].str.contains('Italia', case=False, regex=False)), 'situacion_en_espana'] = 'Tengo nacionalidad española / de un país de la UE / permiso de residencia'\n",
    "data_prior2.loc[(data_prior2['situacion_en_espana'] == 'Sin respuesta') & (data_prior2['pais_de_residencia'].str.contains('France', case=False, regex=False)), 'situacion_en_espana'] = 'Tengo nacionalidad española / de un país de la UE / permiso de residencia'\n",
    "data_prior2.loc[(data_prior2['situacion_en_espana'] == 'Sin respuesta') & (data_prior2['pais_de_residencia'].str.contains('Deutschland', case=False, regex=False)), 'situacion_en_espana'] = 'Tengo nacionalidad española / de un país de la UE / permiso de residencia'\n"
   ]
  },
  {
   "cell_type": "code",
   "execution_count": 38,
   "id": "70769649",
   "metadata": {},
   "outputs": [],
   "source": [
    "#En este caso, como no son países que pertenezcan a la UE y no han respondido, damos por hecho que se encuentran en otra situación\n",
    "\n",
    "data_prior2.loc[(data_prior2['situacion_en_espana'] == 'Sin respuesta') & (data_prior2['pais_de_residencia'].str.contains('Argentina', case=False, regex=False)), 'situacion_en_espana'] = 'No estoy en ninguna de esas situaciones'\n",
    "data_prior2.loc[(data_prior2['situacion_en_espana'] == 'Sin respuesta') & (data_prior2['pais_de_residencia'].str.contains('Honduras', case=False, regex=False)), 'situacion_en_espana'] = 'No estoy en ninguna de esas situaciones'\n",
    "data_prior2.loc[(data_prior2['situacion_en_espana'] == 'Sin respuesta') & (data_prior2['pais_de_residencia'].str.contains('México', case=False, regex=False)), 'situacion_en_espana'] = 'No estoy en ninguna de esas situaciones'\n",
    "data_prior2.loc[(data_prior2['situacion_en_espana'] == 'Sin respuesta') & (data_prior2['pais_de_residencia'].str.contains('Colombia', case=False, regex=False)), 'situacion_en_espana'] = 'No estoy en ninguna de esas situaciones'\n",
    "\n"
   ]
  },
  {
   "cell_type": "code",
   "execution_count": 39,
   "id": "5d59852d",
   "metadata": {},
   "outputs": [
    {
     "data": {
      "text/plain": [
       "Series([], Name: pais_de_residencia, dtype: int64)"
      ]
     },
     "execution_count": 39,
     "metadata": {},
     "output_type": "execute_result"
    }
   ],
   "source": [
    "#Check personas sin respuesta\n",
    "\n",
    "data_prior2.query(\"situacion_en_espana == 'Sin respuesta'\")['pais_de_residencia'].value_counts()"
   ]
  },
  {
   "cell_type": "code",
   "execution_count": 40,
   "id": "528341c2",
   "metadata": {},
   "outputs": [
    {
     "name": "stdout",
     "output_type": "stream",
     "text": [
      "<class 'pandas.core.frame.DataFrame'>\n",
      "RangeIndex: 10618 entries, 0 to 10617\n",
      "Data columns (total 18 columns):\n",
      " #   Column                    Non-Null Count  Dtype \n",
      "---  ------                    --------------  ----- \n",
      " 0   Unnamed: 0                10618 non-null  int64 \n",
      " 1   id                        10618 non-null  object\n",
      " 2   fecha                     10618 non-null  object\n",
      " 3   pais_de_residencia        10590 non-null  object\n",
      " 4   provincia_de_espana       10590 non-null  object\n",
      " 5   ciudad_residencia         10590 non-null  object\n",
      " 6   situacion_en_espana       10571 non-null  object\n",
      " 7   profesion                 10515 non-null  object\n",
      " 8   autonomia_economica       8407 non-null   object\n",
      " 9   familia_edades            10618 non-null  object\n",
      " 10  coche_propio              10618 non-null  object\n",
      " 11  carnet_coche              10618 non-null  object\n",
      " 12  mascota                   10618 non-null  object\n",
      " 13  presupuesto_alquiler      10577 non-null  object\n",
      " 14  primera_segunda_vivienda  10556 non-null  object\n",
      " 15  zona_interes              10618 non-null  object\n",
      " 16  predisposicion_pueblo     10618 non-null  object\n",
      " 17  numero_familiares         10618 non-null  int64 \n",
      "dtypes: int64(2), object(16)\n",
      "memory usage: 1.5+ MB\n"
     ]
    }
   ],
   "source": [
    "data_prior2.info()"
   ]
  },
  {
   "cell_type": "code",
   "execution_count": 41,
   "id": "d09ce3a8",
   "metadata": {},
   "outputs": [
    {
     "data": {
      "text/plain": [
       "autonomia_economica         26.299512\n",
       "profesion                    0.979553\n",
       "primera_segunda_vivienda     0.587344\n",
       "situacion_en_espana          0.444613\n",
       "presupuesto_alquiler         0.387634\n",
       "pais_de_residencia           0.264400\n",
       "provincia_de_espana          0.264400\n",
       "ciudad_residencia            0.264400\n",
       "Unnamed: 0                   0.000000\n",
       "mascota                      0.000000\n",
       "predisposicion_pueblo        0.000000\n",
       "zona_interes                 0.000000\n",
       "familia_edades               0.000000\n",
       "carnet_coche                 0.000000\n",
       "coche_propio                 0.000000\n",
       "id                           0.000000\n",
       "fecha                        0.000000\n",
       "numero_familiares            0.000000\n",
       "dtype: float64"
      ]
     },
     "execution_count": 41,
     "metadata": {},
     "output_type": "execute_result"
    }
   ],
   "source": [
    "porcentaje_nulos = data_prior2.isnull().sum() / data_prior2.count() * 100\n",
    "porcentaje_nulos.sort_values(ascending=False)"
   ]
  },
  {
   "cell_type": "code",
   "execution_count": 42,
   "id": "7c445918",
   "metadata": {},
   "outputs": [
    {
     "data": {
      "text/html": [
       "<div>\n",
       "<style scoped>\n",
       "    .dataframe tbody tr th:only-of-type {\n",
       "        vertical-align: middle;\n",
       "    }\n",
       "\n",
       "    .dataframe tbody tr th {\n",
       "        vertical-align: top;\n",
       "    }\n",
       "\n",
       "    .dataframe thead th {\n",
       "        text-align: right;\n",
       "    }\n",
       "</style>\n",
       "<table border=\"1\" class=\"dataframe\">\n",
       "  <thead>\n",
       "    <tr style=\"text-align: right;\">\n",
       "      <th></th>\n",
       "      <th>Unnamed: 0</th>\n",
       "      <th>id</th>\n",
       "      <th>fecha</th>\n",
       "      <th>pais_de_residencia</th>\n",
       "      <th>provincia_de_espana</th>\n",
       "      <th>ciudad_residencia</th>\n",
       "      <th>situacion_en_espana</th>\n",
       "      <th>profesion</th>\n",
       "      <th>autonomia_economica</th>\n",
       "      <th>familia_edades</th>\n",
       "      <th>coche_propio</th>\n",
       "      <th>carnet_coche</th>\n",
       "      <th>mascota</th>\n",
       "      <th>presupuesto_alquiler</th>\n",
       "      <th>primera_segunda_vivienda</th>\n",
       "      <th>zona_interes</th>\n",
       "      <th>predisposicion_pueblo</th>\n",
       "      <th>numero_familiares</th>\n",
       "    </tr>\n",
       "  </thead>\n",
       "  <tbody>\n",
       "    <tr>\n",
       "      <th>0</th>\n",
       "      <td>0</td>\n",
       "      <td>U-000002</td>\n",
       "      <td>2023-03-01</td>\n",
       "      <td>España</td>\n",
       "      <td>Cantabria</td>\n",
       "      <td>Santander</td>\n",
       "      <td>Tengo nacionalidad española / de un país de la...</td>\n",
       "      <td>Atención al cliente</td>\n",
       "      <td>NaN</td>\n",
       "      <td>30,24,2</td>\n",
       "      <td>No</td>\n",
       "      <td>Si</td>\n",
       "      <td>No</td>\n",
       "      <td>NaN</td>\n",
       "      <td>NaN</td>\n",
       "      <td>Indiferente</td>\n",
       "      <td>Aún me lo estoy pensando</td>\n",
       "      <td>3</td>\n",
       "    </tr>\n",
       "  </tbody>\n",
       "</table>\n",
       "</div>"
      ],
      "text/plain": [
       "   Unnamed: 0        id       fecha pais_de_residencia provincia_de_espana  \\\n",
       "0           0  U-000002  2023-03-01             España           Cantabria   \n",
       "\n",
       "  ciudad_residencia                                situacion_en_espana  \\\n",
       "0         Santander  Tengo nacionalidad española / de un país de la...   \n",
       "\n",
       "             profesion autonomia_economica familia_edades coche_propio  \\\n",
       "0  Atención al cliente                 NaN        30,24,2           No   \n",
       "\n",
       "  carnet_coche mascota presupuesto_alquiler primera_segunda_vivienda  \\\n",
       "0           Si      No                  NaN                      NaN   \n",
       "\n",
       "  zona_interes     predisposicion_pueblo  numero_familiares  \n",
       "0  Indiferente  Aún me lo estoy pensando                  3  "
      ]
     },
     "execution_count": 42,
     "metadata": {},
     "output_type": "execute_result"
    }
   ],
   "source": [
    "data_prior2.head(1)"
   ]
  },
  {
   "cell_type": "code",
   "execution_count": 43,
   "id": "69598978",
   "metadata": {},
   "outputs": [],
   "source": [
    "data_prior2 = data_prior2.drop(\"Unnamed: 0\", axis=1)"
   ]
  },
  {
   "cell_type": "code",
   "execution_count": 44,
   "id": "ce1af3cb",
   "metadata": {},
   "outputs": [
    {
     "data": {
      "text/html": [
       "<div>\n",
       "<style scoped>\n",
       "    .dataframe tbody tr th:only-of-type {\n",
       "        vertical-align: middle;\n",
       "    }\n",
       "\n",
       "    .dataframe tbody tr th {\n",
       "        vertical-align: top;\n",
       "    }\n",
       "\n",
       "    .dataframe thead th {\n",
       "        text-align: right;\n",
       "    }\n",
       "</style>\n",
       "<table border=\"1\" class=\"dataframe\">\n",
       "  <thead>\n",
       "    <tr style=\"text-align: right;\">\n",
       "      <th></th>\n",
       "      <th>id</th>\n",
       "      <th>fecha</th>\n",
       "      <th>pais_de_residencia</th>\n",
       "      <th>provincia_de_espana</th>\n",
       "      <th>ciudad_residencia</th>\n",
       "      <th>situacion_en_espana</th>\n",
       "      <th>profesion</th>\n",
       "      <th>autonomia_economica</th>\n",
       "      <th>familia_edades</th>\n",
       "      <th>coche_propio</th>\n",
       "      <th>carnet_coche</th>\n",
       "      <th>mascota</th>\n",
       "      <th>presupuesto_alquiler</th>\n",
       "      <th>primera_segunda_vivienda</th>\n",
       "      <th>zona_interes</th>\n",
       "      <th>predisposicion_pueblo</th>\n",
       "      <th>numero_familiares</th>\n",
       "    </tr>\n",
       "  </thead>\n",
       "  <tbody>\n",
       "    <tr>\n",
       "      <th>0</th>\n",
       "      <td>U-000002</td>\n",
       "      <td>2023-03-01</td>\n",
       "      <td>España</td>\n",
       "      <td>Cantabria</td>\n",
       "      <td>Santander</td>\n",
       "      <td>Tengo nacionalidad española / de un país de la...</td>\n",
       "      <td>Atención al cliente</td>\n",
       "      <td>NaN</td>\n",
       "      <td>30,24,2</td>\n",
       "      <td>No</td>\n",
       "      <td>Si</td>\n",
       "      <td>No</td>\n",
       "      <td>NaN</td>\n",
       "      <td>NaN</td>\n",
       "      <td>Indiferente</td>\n",
       "      <td>Aún me lo estoy pensando</td>\n",
       "      <td>3</td>\n",
       "    </tr>\n",
       "  </tbody>\n",
       "</table>\n",
       "</div>"
      ],
      "text/plain": [
       "         id       fecha pais_de_residencia provincia_de_espana  \\\n",
       "0  U-000002  2023-03-01             España           Cantabria   \n",
       "\n",
       "  ciudad_residencia                                situacion_en_espana  \\\n",
       "0         Santander  Tengo nacionalidad española / de un país de la...   \n",
       "\n",
       "             profesion autonomia_economica familia_edades coche_propio  \\\n",
       "0  Atención al cliente                 NaN        30,24,2           No   \n",
       "\n",
       "  carnet_coche mascota presupuesto_alquiler primera_segunda_vivienda  \\\n",
       "0           Si      No                  NaN                      NaN   \n",
       "\n",
       "  zona_interes     predisposicion_pueblo  numero_familiares  \n",
       "0  Indiferente  Aún me lo estoy pensando                  3  "
      ]
     },
     "execution_count": 44,
     "metadata": {},
     "output_type": "execute_result"
    }
   ],
   "source": [
    "data_prior2.head(1)"
   ]
  },
  {
   "cell_type": "markdown",
   "id": "dc577d97",
   "metadata": {},
   "source": [
    "LIMPIEZA COLUMNA PROFESION"
   ]
  },
  {
   "cell_type": "code",
   "execution_count": 82,
   "id": "31ddc28d",
   "metadata": {},
   "outputs": [
    {
     "data": {
      "text/plain": [
       "array(['Atención al cliente', 'Comercio internacional', 'Dependiente',\n",
       "       'Sanitario', 'Fotógrafo', 'Profesor educación especial',\n",
       "       'Técnico de empresas y actividades turísticas', 'Otro', 'Cocinero',\n",
       "       'Administrativo', 'Empresario', 'Gestor cultural', 'Albañil',\n",
       "       'Camarero', 'Mozo almacén', 'Diseñador grafico', 'Autónomo',\n",
       "       'Graduado social', 'Abogado', 'Pensionista', 'Hostelero',\n",
       "       'Artes visuales', 'Conductor', 'Ganadero', 'Freelance digital',\n",
       "       'Funcionario', 'Maestro de Educación Primaria', 'Ingeniero',\n",
       "       'Electricista', 'Esteticista', 'Profesor', 'Informático',\n",
       "       'Auxiliar', 'Técnico', 'Panadero', 'Geólogo', 'Pastelero',\n",
       "       'Trabajo de campo', 'Peluquería', 'Logística de transportes',\n",
       "       'Médico Especialista', '?????', 'Carnicero', 'Recepcionista',\n",
       "       'Periodista', 'Biólogo ambiental', 'Limpieza',\n",
       "       'Marketing y publicidad', 'Operario', 'Comercial', 'Jubilado',\n",
       "       'Empleado del hogar', 'Dietista/ Nutricionista', 'Documentalista',\n",
       "       'Economista', 'Jardinero', 'Arquitecto', 'Ingeniero Industrial',\n",
       "       'Enfermero', 'Ingeniero de Telecomunicación.', 'Maestro', 'Pintor',\n",
       "       'Carpintero Aluminio', 'Bombero forestal', 'Trabajador social',\n",
       "       'Militar', 'Asesor', 'Veterinario', 'Estudiante', 'Mecánico',\n",
       "       'Profesor de Universidad',\n",
       "       'Enfermera responsable de cuidados generales', 'Guía turístico',\n",
       "       'Psicólogo', 'Soldador', 'Transportista', 'Encargado', 'Fontanero',\n",
       "       'Contable', 'Cuidar ancianos', 'Terapeuta Ocupacional', 'Peón',\n",
       "       'Consultor', 'Publicista', 'Personal de Educación Infantil',\n",
       "       'Médico', 'Decorador', 'Mantenimiento',\n",
       "       'Ingeniero Técnico Agrícola', 'Agente de viajes', 'Investigador',\n",
       "       'Recursos Humanos', 'Apicultor', 'Vigilante', 'Policia',\n",
       "       'Titiritero', 'Dentista', 'Gestor administrativo', 'Coordinador',\n",
       "       'Matrona', 'Fisioterapeuta', 'Seguridad',\n",
       "       'Artista plástico Escultor', 'Piloto de avión', 'Desempleado',\n",
       "       'Homeópata', 'Ferroviario', nan, 'Suscriptor de seguros',\n",
       "       'Farmacéutico', 'historia del arte',\n",
       "       'TÉCNICO SUPERIOR EN SALUD AMBIENTAL', 'Inspector ITV', 'Logopeda',\n",
       "       'Masajista', 'Músico, productor vídeos', 'limpieza', 'Diplomado',\n",
       "       'Capitan Mercante', 'Asesor fiscal',\n",
       "       'Ingeniero Técnico Industrial', 'Distribución de cine', 'Joyero',\n",
       "       'Maquetadora', 'Formador', 'Celador', 'Pastor',\n",
       "       'Ingeniero de Edificación.', 'Técnico de Prevención', 'Mentora',\n",
       "       'Coordinador de redes', 'De outros', 'Logística de transporte',\n",
       "       '????', 'Compositor', '???????? ????????', 'Travail de champ',\n",
       "       '????????', 'Operador', 'Pedicuro', '?????? ?????????',\n",
       "       'cuidar dos idosos', 'Kierownik', 'Koordynator', 'Optometrista',\n",
       "       'Bezpieczenstwo', '??????'], dtype=object)"
      ]
     },
     "execution_count": 82,
     "metadata": {},
     "output_type": "execute_result"
    }
   ],
   "source": [
    "data_prior2.profesion.unique()\n"
   ]
  },
  {
   "cell_type": "code",
   "execution_count": 96,
   "id": "a03742a0",
   "metadata": {},
   "outputs": [],
   "source": [
    "profesiones = {\n",
    "  \"Atención al cliente\": [\"Dependiente\", \"Camarero\", \"Recepcionista\"],\n",
    "  \"Comercio internacional\": [\"Técnico de empresas y actividades turísticas\", \"Agente de viajes\"],\n",
    "  \"Sanitario\": [\"Médico Especialista\", \"Enfermero\", \"Dentista\", \"Matrona\", \"Farmacéutico\", \"Logopeda\", \"Fisioterapeuta\"],\n",
    "  \"Artes visuales\": [\"Fotógrafo\", \"Diseñador grafico\", \"Pintor\", \"Artista plástico Escultor\"],\n",
    "  \"Construcción\": [\"Albañil\", \"Electricista\", \"Carpintero Aluminio\", \"Fontanero\"],\n",
    "  \"Educación\": [\"Profesor educación especial\", \"Maestro de Educación Primaria\", \"Profesor de Universidad\", \"Personal de Educación Infantil\"],\n",
    "  \"Informática\": [\"Informático\", \"Técnico\", \"Ingeniero\", \"Ingeniero Industrial\", \"Ingeniero de Telecomunicación.\", \"Distribución de cine\"],\n",
    "  \"Otros\": [\"Cocinero\", \"Empresario\", \"Gestor cultural\", \"Graduado social\", \"Abogado\", \"Pensionista\", \"Hostelero\", \"Conductor\", \"Ganadero\", \"Freelance digital\", \"Funcionario\", \"Esteticista\", \"Panadero\", \"Geólogo\", \"Pastelero\", \"Trabajo de campo\", \"Peluquería\", \"Logística de transportes\", \"Marketing y publicidad\", \"Operario\", \"Comercial\", \"Jubilado\", \"Empleado del hogar\", \"Dietista/ Nutricionista\", \"Documentalista\", \"Economista\", \"Jardinero\", \"Arquitecto\", \"Enfermero\", \"Maestro\", \"Bombero forestal\", \"Trabajador social\", \"Militar\", \"Asesor\", \"Veterinario\", \"Estudiante\", \"Mecánico\", \"Decorador\", \"Mantenimiento\", \"Ingeniero Técnico Agrícola\", \"Investigador\", \"Recursos Humanos\", \"Apicultor\", \"Vigilante\", \"Policia\", \"Titiritero\", \"Gestor administrativo\", \"Coordinador\", \"Seguridad\", \"Piloto de avión\", \"Desempleado\", \"Homeópata\", \"Ferroviario\", \"Suscriptor de seguros\", \"historia del arte\", \"TÉCNICO SUPERIOR EN SALUD AMBIENTAL\", \"Inspector ITV\", \"Masajista\", \"Músico, productor vídeos\", \"Diplomado\", \"Capitan Mercante\", \"Asesor fiscal\", \"Joyero\", \"Maquetadora\", \"Formador\", \"Celador\", \"Pastor\", \"Ingeniero de Edificación.\", \"Técnico de Prevención\", \"Mentora\", \"Coordinador de redes\", \"De outros\", \"Compositor\", \"Operador\", \"Pedicuro\", \"cuidar dos idosos\", \"Kierownik\", \"Koordynator\", \"Optometrista\", \"Bezpieczenstwo\", \"?????? ?????????\", \"Travail de champ\", \"??????\", \"?????\", \"????\", \"????????\", \"???????? ?????\"]}\n"
   ]
  },
  {
   "cell_type": "code",
   "execution_count": 97,
   "id": "97a973b6",
   "metadata": {},
   "outputs": [],
   "source": [
    "def verificar_profesion(fila, sector):\n",
    "    profesion = fila['profesion']\n",
    "    if profesion in profesiones[sector]:\n",
    "        return 1\n",
    "    else:\n",
    "        return 0\n",
    "\n",
    "for sector in profesiones.keys():\n",
    "    data_prior2[f'{sector}'] = data_prior2.apply(verificar_profesion, args=(sector,), axis=1)\n",
    "\n"
   ]
  },
  {
   "cell_type": "code",
   "execution_count": 98,
   "id": "6892f624",
   "metadata": {},
   "outputs": [],
   "source": [
    "for sector in profesiones.keys():\n",
    "    data_prior2[f'{sector}'] = data_prior2.apply(verificar_profesion, args=(sector,), axis=1)\n"
   ]
  },
  {
   "cell_type": "code",
   "execution_count": 100,
   "id": "f388871c",
   "metadata": {},
   "outputs": [
    {
     "data": {
      "text/html": [
       "<div>\n",
       "<style scoped>\n",
       "    .dataframe tbody tr th:only-of-type {\n",
       "        vertical-align: middle;\n",
       "    }\n",
       "\n",
       "    .dataframe tbody tr th {\n",
       "        vertical-align: top;\n",
       "    }\n",
       "\n",
       "    .dataframe thead th {\n",
       "        text-align: right;\n",
       "    }\n",
       "</style>\n",
       "<table border=\"1\" class=\"dataframe\">\n",
       "  <thead>\n",
       "    <tr style=\"text-align: right;\">\n",
       "      <th></th>\n",
       "      <th>id</th>\n",
       "      <th>fecha</th>\n",
       "      <th>pais_de_residencia</th>\n",
       "      <th>provincia_de_espana</th>\n",
       "      <th>ciudad_residencia</th>\n",
       "      <th>situacion_en_espana</th>\n",
       "      <th>profesion</th>\n",
       "      <th>autonomia_economica</th>\n",
       "      <th>familia_edades</th>\n",
       "      <th>coche_propio</th>\n",
       "      <th>carnet_coche</th>\n",
       "      <th>mascota</th>\n",
       "      <th>presupuesto_alquiler</th>\n",
       "      <th>primera_segunda_vivienda</th>\n",
       "      <th>zona_interes</th>\n",
       "      <th>predisposicion_pueblo</th>\n",
       "      <th>numero_familiares</th>\n",
       "      <th>Atención al cliente</th>\n",
       "      <th>Comercio internacional</th>\n",
       "      <th>Sanitario</th>\n",
       "      <th>Artes visuales</th>\n",
       "      <th>Construcción</th>\n",
       "      <th>Educación</th>\n",
       "      <th>Informática</th>\n",
       "      <th>Otros</th>\n",
       "    </tr>\n",
       "  </thead>\n",
       "  <tbody>\n",
       "    <tr>\n",
       "      <th>0</th>\n",
       "      <td>U-000002</td>\n",
       "      <td>2023-03-01</td>\n",
       "      <td>España</td>\n",
       "      <td>Cantabria</td>\n",
       "      <td>Santander</td>\n",
       "      <td>Tengo nacionalidad española / de un país de la...</td>\n",
       "      <td>Atención al cliente</td>\n",
       "      <td>NaN</td>\n",
       "      <td>30,24,2</td>\n",
       "      <td>No</td>\n",
       "      <td>Si</td>\n",
       "      <td>No</td>\n",
       "      <td>NaN</td>\n",
       "      <td>NaN</td>\n",
       "      <td>Indiferente</td>\n",
       "      <td>Aún me lo estoy pensando</td>\n",
       "      <td>3</td>\n",
       "      <td>0</td>\n",
       "      <td>0</td>\n",
       "      <td>0</td>\n",
       "      <td>0</td>\n",
       "      <td>0</td>\n",
       "      <td>0</td>\n",
       "      <td>0</td>\n",
       "      <td>0</td>\n",
       "    </tr>\n",
       "    <tr>\n",
       "      <th>1</th>\n",
       "      <td>U-000002</td>\n",
       "      <td>2020-10-26</td>\n",
       "      <td>España</td>\n",
       "      <td>Andalucía</td>\n",
       "      <td>Algeciras</td>\n",
       "      <td>Tengo nacionalidad española / de un país de la...</td>\n",
       "      <td>Comercio internacional</td>\n",
       "      <td>3 meses</td>\n",
       "      <td>37,37</td>\n",
       "      <td>Si</td>\n",
       "      <td>Si</td>\n",
       "      <td>No</td>\n",
       "      <td>Hasta 300€</td>\n",
       "      <td>Primera residencia</td>\n",
       "      <td>Pueblos de Zaragoza</td>\n",
       "      <td>3 meses</td>\n",
       "      <td>2</td>\n",
       "      <td>0</td>\n",
       "      <td>0</td>\n",
       "      <td>0</td>\n",
       "      <td>0</td>\n",
       "      <td>0</td>\n",
       "      <td>0</td>\n",
       "      <td>0</td>\n",
       "      <td>0</td>\n",
       "    </tr>\n",
       "    <tr>\n",
       "      <th>2</th>\n",
       "      <td>U-000003</td>\n",
       "      <td>2020-10-26</td>\n",
       "      <td>España</td>\n",
       "      <td>Madrid</td>\n",
       "      <td>Colmenar Viejo (Madrid)</td>\n",
       "      <td>Tengo nacionalidad española / de un país de la...</td>\n",
       "      <td>Dependiente</td>\n",
       "      <td>NaN</td>\n",
       "      <td>57,56</td>\n",
       "      <td>Si</td>\n",
       "      <td>Si</td>\n",
       "      <td>Si</td>\n",
       "      <td>Hasta 450€</td>\n",
       "      <td>Segunda residencia</td>\n",
       "      <td>Sierra norte de Madrid</td>\n",
       "      <td>Aún me lo estoy pensando</td>\n",
       "      <td>2</td>\n",
       "      <td>1</td>\n",
       "      <td>0</td>\n",
       "      <td>0</td>\n",
       "      <td>0</td>\n",
       "      <td>0</td>\n",
       "      <td>0</td>\n",
       "      <td>0</td>\n",
       "      <td>0</td>\n",
       "    </tr>\n",
       "    <tr>\n",
       "      <th>3</th>\n",
       "      <td>U-000006</td>\n",
       "      <td>2020-11-08</td>\n",
       "      <td>España</td>\n",
       "      <td>Madrid</td>\n",
       "      <td>San Fernando de Henares</td>\n",
       "      <td>Tengo nacionalidad española / de un país de la...</td>\n",
       "      <td>Sanitario</td>\n",
       "      <td>NaN</td>\n",
       "      <td>38,38,8</td>\n",
       "      <td>Si</td>\n",
       "      <td>Si</td>\n",
       "      <td>Si</td>\n",
       "      <td>Hasta 450€</td>\n",
       "      <td>Primera residencia</td>\n",
       "      <td>Sierra norte de Madrid</td>\n",
       "      <td>3 meses</td>\n",
       "      <td>3</td>\n",
       "      <td>0</td>\n",
       "      <td>0</td>\n",
       "      <td>0</td>\n",
       "      <td>0</td>\n",
       "      <td>0</td>\n",
       "      <td>0</td>\n",
       "      <td>0</td>\n",
       "      <td>0</td>\n",
       "    </tr>\n",
       "    <tr>\n",
       "      <th>4</th>\n",
       "      <td>U-000007</td>\n",
       "      <td>2020-11-11</td>\n",
       "      <td>España</td>\n",
       "      <td>Madrid</td>\n",
       "      <td>Madrid</td>\n",
       "      <td>Tengo nacionalidad española / de un país de la...</td>\n",
       "      <td>Fotógrafo</td>\n",
       "      <td>6 meses</td>\n",
       "      <td>41,31</td>\n",
       "      <td>Si</td>\n",
       "      <td>Si</td>\n",
       "      <td>Si</td>\n",
       "      <td>Hasta 450€</td>\n",
       "      <td>Primera residencia</td>\n",
       "      <td>Sierra norte de Madrid</td>\n",
       "      <td>6 meses</td>\n",
       "      <td>2</td>\n",
       "      <td>0</td>\n",
       "      <td>0</td>\n",
       "      <td>0</td>\n",
       "      <td>1</td>\n",
       "      <td>0</td>\n",
       "      <td>0</td>\n",
       "      <td>0</td>\n",
       "      <td>0</td>\n",
       "    </tr>\n",
       "  </tbody>\n",
       "</table>\n",
       "</div>"
      ],
      "text/plain": [
       "         id       fecha pais_de_residencia provincia_de_espana  \\\n",
       "0  U-000002  2023-03-01             España           Cantabria   \n",
       "1  U-000002  2020-10-26             España           Andalucía   \n",
       "2  U-000003  2020-10-26             España              Madrid   \n",
       "3  U-000006  2020-11-08             España              Madrid   \n",
       "4  U-000007  2020-11-11             España              Madrid   \n",
       "\n",
       "         ciudad_residencia                                situacion_en_espana  \\\n",
       "0                Santander  Tengo nacionalidad española / de un país de la...   \n",
       "1                Algeciras  Tengo nacionalidad española / de un país de la...   \n",
       "2  Colmenar Viejo (Madrid)  Tengo nacionalidad española / de un país de la...   \n",
       "3  San Fernando de Henares  Tengo nacionalidad española / de un país de la...   \n",
       "4                   Madrid  Tengo nacionalidad española / de un país de la...   \n",
       "\n",
       "                profesion autonomia_economica familia_edades coche_propio  \\\n",
       "0     Atención al cliente                 NaN        30,24,2           No   \n",
       "1  Comercio internacional             3 meses          37,37           Si   \n",
       "2             Dependiente                 NaN          57,56           Si   \n",
       "3               Sanitario                 NaN        38,38,8           Si   \n",
       "4               Fotógrafo             6 meses          41,31           Si   \n",
       "\n",
       "  carnet_coche mascota presupuesto_alquiler primera_segunda_vivienda  \\\n",
       "0           Si      No                  NaN                      NaN   \n",
       "1           Si      No           Hasta 300€       Primera residencia   \n",
       "2           Si      Si           Hasta 450€       Segunda residencia   \n",
       "3           Si      Si           Hasta 450€       Primera residencia   \n",
       "4           Si      Si           Hasta 450€       Primera residencia   \n",
       "\n",
       "             zona_interes     predisposicion_pueblo  numero_familiares  \\\n",
       "0             Indiferente  Aún me lo estoy pensando                  3   \n",
       "1     Pueblos de Zaragoza                   3 meses                  2   \n",
       "2  Sierra norte de Madrid  Aún me lo estoy pensando                  2   \n",
       "3  Sierra norte de Madrid                   3 meses                  3   \n",
       "4  Sierra norte de Madrid                   6 meses                  2   \n",
       "\n",
       "   Atención al cliente  Comercio internacional  Sanitario  Artes visuales  \\\n",
       "0                    0                       0          0               0   \n",
       "1                    0                       0          0               0   \n",
       "2                    1                       0          0               0   \n",
       "3                    0                       0          0               0   \n",
       "4                    0                       0          0               1   \n",
       "\n",
       "   Construcción  Educación  Informática  Otros  \n",
       "0             0          0            0      0  \n",
       "1             0          0            0      0  \n",
       "2             0          0            0      0  \n",
       "3             0          0            0      0  \n",
       "4             0          0            0      0  "
      ]
     },
     "execution_count": 100,
     "metadata": {},
     "output_type": "execute_result"
    }
   ],
   "source": [
    "data_prior2.head()"
   ]
  },
  {
   "cell_type": "code",
   "execution_count": null,
   "id": "2dfc20c9",
   "metadata": {},
   "outputs": [],
   "source": []
  },
  {
   "cell_type": "code",
   "execution_count": null,
   "id": "bd399703",
   "metadata": {},
   "outputs": [],
   "source": []
  },
  {
   "cell_type": "code",
   "execution_count": null,
   "id": "008e0036",
   "metadata": {},
   "outputs": [],
   "source": []
  },
  {
   "cell_type": "code",
   "execution_count": null,
   "id": "60befb78",
   "metadata": {},
   "outputs": [],
   "source": []
  },
  {
   "cell_type": "code",
   "execution_count": null,
   "id": "cfdebc27",
   "metadata": {},
   "outputs": [],
   "source": []
  },
  {
   "cell_type": "markdown",
   "id": "069b9e7d",
   "metadata": {},
   "source": [
    "LIMPIEZA COLUMNA PRESUPUESTO_ALQUILER"
   ]
  },
  {
   "cell_type": "code",
   "execution_count": 46,
   "id": "997fbc75",
   "metadata": {},
   "outputs": [
    {
     "data": {
      "text/plain": [
       "array([nan, 'Hasta 300€', 'Hasta 450€', 'Hasta 600€', '?? 300 ????',\n",
       "       'Más de 600€', 'Hasta 600', 'Hasta 450', 'Hasta 300', 'Más de 600',\n",
       "       'hasta 600', 'hasta 450', 'hasta 300', 'Compra', 'Até € 300',\n",
       "       'Até € 600', '?? ??? ??? 300 ????', \"Jusqu'à 300 €\", 'Até 600€',\n",
       "       'Até 300€', 'Do 450€', 'Do 300 €'], dtype=object)"
      ]
     },
     "execution_count": 46,
     "metadata": {},
     "output_type": "execute_result"
    }
   ],
   "source": [
    "data_prior2.presupuesto_alquiler.unique()"
   ]
  },
  {
   "cell_type": "code",
   "execution_count": 47,
   "id": "33fcfede",
   "metadata": {},
   "outputs": [
    {
     "data": {
      "text/plain": [
       "array([nan, 'Hasta 300€', 'Hasta 450€', 'Hasta 600€', 'Más de 600€',\n",
       "       'hasta 600'], dtype=object)"
      ]
     },
     "execution_count": 47,
     "metadata": {},
     "output_type": "execute_result"
    }
   ],
   "source": [
    "data_prior2 = data_prior2.replace({'presupuesto_alquiler': {'?? 300 ????': 'Hasta 300€',\n",
    "                                                             'Hasta 600': 'Hasta 600€',\n",
    "                                                             'Hasta 450' : 'Hasta 450€',\n",
    "                                                             'Hasta 300' :'Hasta 300€',\n",
    "                                                             'Más de 600' :'Más de 600€',\n",
    "                                                             'hasta 450' :'Hasta 450€',\n",
    "                                                             'hasta 300' :'Hasta 300€',\n",
    "                                                             'Até € 300' :'Hasta 300€',\n",
    "                                                             'Compra' :'Más de 600€',\n",
    "                                                             'Até € 600' :'Hasta 600€',\n",
    "                                                             '?? ??? ??? 300 ????': 'Hasta 300€',\n",
    "                                                             \"Jusqu'à 300 €\" :'Hasta 300€',\n",
    "                                                             'Até 600€' :'Hasta 600€',\n",
    "                                                             'Até 300€': 'Hasta 300€',\n",
    "                                                             'Do 450€' :'Hasta 450€',\n",
    "                                                             'Do 300 €' : 'Hasta 300€',\n",
    "                                                      }})\n",
    "\n",
    "data_prior2.presupuesto_alquiler.unique()"
   ]
  },
  {
   "cell_type": "code",
   "execution_count": 48,
   "id": "5f489a1a",
   "metadata": {},
   "outputs": [
    {
     "data": {
      "text/plain": [
       "41"
      ]
     },
     "execution_count": 48,
     "metadata": {},
     "output_type": "execute_result"
    }
   ],
   "source": [
    "data_prior2.presupuesto_alquiler.isnull().sum()\n",
    "\n",
    "#desconocemos el presupuesto de alquiler de 41 personas"
   ]
  },
  {
   "cell_type": "markdown",
   "id": "8950e6ff",
   "metadata": {},
   "source": [
    "LIMPIEZA COLUMNA PAIS_RESIDENCIA"
   ]
  },
  {
   "cell_type": "code",
   "execution_count": 49,
   "id": "ca30deca",
   "metadata": {},
   "outputs": [
    {
     "data": {
      "text/plain": [
       "array(['España', \"('España', 'Andalucía')\",\n",
       "       \"('España', 'Comunidad de Madrid')\", \"('España', '28830')\",\n",
       "       \"('España', '46133')\", \"('Cuba', 'NINGUNA')\",\n",
       "       \"('España', 'Illes Balears')\", \"('United States', 'NINGUNA')\",\n",
       "       \"('Россия', 'NINGUNA')\", \"('España', '31500')\"], dtype=object)"
      ]
     },
     "execution_count": 49,
     "metadata": {},
     "output_type": "execute_result"
    }
   ],
   "source": [
    "data_prior2.pais_de_residencia.unique()[:10]"
   ]
  },
  {
   "cell_type": "code",
   "execution_count": 50,
   "id": "8c35db1b",
   "metadata": {},
   "outputs": [],
   "source": [
    "data_prior2['pais_de_residencia'] = data_prior2['pais_de_residencia'] .apply(lambda x: str(x))"
   ]
  },
  {
   "cell_type": "code",
   "execution_count": 51,
   "id": "48e4fee9",
   "metadata": {},
   "outputs": [],
   "source": [
    "data_prior2['pais_de_residencia'] = ['España' if isinstance(valor, str) and 'España' in valor else valor for valor in data_prior2['pais_de_residencia']]\n"
   ]
  },
  {
   "cell_type": "code",
   "execution_count": 52,
   "id": "72f99a26",
   "metadata": {},
   "outputs": [],
   "source": [
    "import regex\n",
    "\n",
    "paises_ue = ['France', 'Italia', 'Deutschland', 'België / Belgique / Belgien', 'Portugal', 'Nederland', 'Andorra', 'Norge', 'România', 'Slovensko', 'Česko', 'Polska']\n",
    "paises_ue_regex = [regex.escape(pais) for pais in paises_ue]\n",
    "\n",
    "data_prior2['pais_de_residencia'] = ['Resto de Europa (dentro de UE)' if any(regex.search(pais, valor) for pais in paises_ue_regex) else valor for valor in data_prior2['pais_de_residencia']]\n",
    "\n"
   ]
  },
  {
   "cell_type": "code",
   "execution_count": 53,
   "id": "c7ae8c61",
   "metadata": {},
   "outputs": [],
   "source": [
    "paises_latam = ['Cuba', 'México', 'Argentina', 'Bolivia', 'Venezuela', 'Colombia', 'Chile', 'Paraguay / Paraguái', 'Panamá', 'Perú', 'Costa Rica', 'Ecuador', 'Brasil', 'República Dominicana', 'Honduras', 'Uruguay','Nicaragua','El Salvador']\n",
    "\n",
    "paises_latam_regex = [regex.escape(pais) for pais in paises_latam]\n",
    "\n",
    "data_prior2['pais_de_residencia'] = ['Latino América' if any(regex.search(pais, valor) for pais in paises_latam_regex) else valor for valor in data_prior2['pais_de_residencia']]"
   ]
  },
  {
   "cell_type": "code",
   "execution_count": 54,
   "id": "3d2edf87",
   "metadata": {},
   "outputs": [],
   "source": [
    "paises_otro = ['United States', 'Россия', 'United Kingdom', '臺灣', 'الأردن', 'Ascension and Tristan da Cunha', 'Magyarország', 'Éire / Ireland', 'Lëtzebuerg', 'Australia', 'Canada', 'سوريا', 'Philippines', 'Schweiz/Suisse/Svizzera/Svizra', 'Algérie / ⵍⵣⵣⴰⵢⴻⵔ / الجزائر', '???????','??????','Ελλάς']\n",
    "\n",
    "paises_otro_regex = [regex.escape(pais) for pais in paises_otro]\n",
    "\n",
    "data_prior2['pais_de_residencia'] = ['Otro' if any(regex.search(pais, valor) for pais in paises_otro_regex) else valor for valor in data_prior2['pais_de_residencia']]"
   ]
  },
  {
   "cell_type": "code",
   "execution_count": 55,
   "id": "0c3b57c6",
   "metadata": {},
   "outputs": [
    {
     "data": {
      "text/plain": [
       "array(['España', 'Latino América', 'Otro',\n",
       "       'Resto de Europa (dentro de UE)', 'nan'], dtype=object)"
      ]
     },
     "execution_count": 55,
     "metadata": {},
     "output_type": "execute_result"
    }
   ],
   "source": [
    "data_prior2.pais_de_residencia.unique()"
   ]
  },
  {
   "cell_type": "code",
   "execution_count": 56,
   "id": "34ccace4",
   "metadata": {},
   "outputs": [
    {
     "data": {
      "text/plain": [
       "0"
      ]
     },
     "execution_count": 56,
     "metadata": {},
     "output_type": "execute_result"
    }
   ],
   "source": [
    "data_prior2.pais_de_residencia.isnull().sum()\n"
   ]
  },
  {
   "cell_type": "code",
   "execution_count": 57,
   "id": "d70ac09e",
   "metadata": {},
   "outputs": [
    {
     "data": {
      "text/plain": [
       "España                            8059\n",
       "Latino América                    1977\n",
       "Otro                               361\n",
       "Resto de Europa (dentro de UE)     193\n",
       "nan                                 28\n",
       "Name: pais_de_residencia, dtype: int64"
      ]
     },
     "execution_count": 57,
     "metadata": {},
     "output_type": "execute_result"
    }
   ],
   "source": [
    "data_prior2.pais_de_residencia.value_counts()"
   ]
  },
  {
   "cell_type": "markdown",
   "id": "06af7bcd",
   "metadata": {},
   "source": [
    "LIMPIEZA COLUMNA PROVINCIA_ESPANA"
   ]
  },
  {
   "cell_type": "code",
   "execution_count": 77,
   "id": "a2c0a85c",
   "metadata": {},
   "outputs": [
    {
     "data": {
      "text/plain": [
       "array(['Cantabria', 'Andalucía', 'Comunidad de Madrid', 'Valencia',\n",
       "       'Ninguna', 'Madrid', 'Illes Balears', 'Navarra',\n",
       "       'Comunitat Valenciana', 'Pontevedra'], dtype=object)"
      ]
     },
     "execution_count": 77,
     "metadata": {},
     "output_type": "execute_result"
    }
   ],
   "source": [
    "data_prior2.provincia_de_espana.unique()[:10]\n",
    "\n"
   ]
  },
  {
   "cell_type": "code",
   "execution_count": 59,
   "id": "3465503c",
   "metadata": {},
   "outputs": [],
   "source": [
    "def actualizar_provincia(row):\n",
    "    if row['pais_de_residencia'] == 'España':\n",
    "        return row['provincia_de_espana']\n",
    "    else:\n",
    "        return 'Ninguna'\n",
    "\n",
    "\n"
   ]
  },
  {
   "cell_type": "code",
   "execution_count": 60,
   "id": "7a68f057",
   "metadata": {},
   "outputs": [],
   "source": [
    "data_prior2['provincia_de_espana'] = data_prior2.apply(lambda row: actualizar_provincia(row), axis=1)"
   ]
  },
  {
   "cell_type": "code",
   "execution_count": 61,
   "id": "a89d32ac",
   "metadata": {},
   "outputs": [
    {
     "data": {
      "text/plain": [
       "Ninguna                               2619\n",
       "Madrid                                1900\n",
       "('España', 'Comunidad de Madrid')     1139\n",
       "Barcelona                              445\n",
       "Valencia                               260\n",
       "('España', 'Andalucía')                243\n",
       "Alicante                               235\n",
       "('España', 'Comunitat Valenciana')     212\n",
       "Málaga                                 154\n",
       "('España', '08001')                    142\n",
       "Name: provincia_de_espana, dtype: int64"
      ]
     },
     "execution_count": 61,
     "metadata": {},
     "output_type": "execute_result"
    }
   ],
   "source": [
    "data_prior2.provincia_de_espana.value_counts()[:10]"
   ]
  },
  {
   "cell_type": "code",
   "execution_count": 62,
   "id": "4da6ae17",
   "metadata": {},
   "outputs": [],
   "source": [
    "#from geopy.geocoders import Nominatim\n",
    "\n",
    "#geolocator = Nominatim(user_agent=\"my-app\")"
   ]
  },
  {
   "cell_type": "code",
   "execution_count": 63,
   "id": "7222e2b0",
   "metadata": {},
   "outputs": [],
   "source": [
    "data_prior2['provincia_de_espana'] = data_prior2['provincia_de_espana'] .apply(lambda x: str(x))"
   ]
  },
  {
   "cell_type": "code",
   "execution_count": 64,
   "id": "0d22d7ef",
   "metadata": {},
   "outputs": [],
   "source": [
    "data_prior2['provincia_de_espana'] = data_prior2['provincia_de_espana'].str.replace('(','').str.replace(')','').str.replace('\"\"','').str.replace(',','').str.replace('España','').str.replace(\"''\",'').str.replace(\"NINGUNA\",'Ninguna').str.strip()\n",
    "\n"
   ]
  },
  {
   "cell_type": "code",
   "execution_count": 65,
   "id": "9f7e548d",
   "metadata": {},
   "outputs": [
    {
     "data": {
      "text/plain": [
       "array(['Cantabria', \"'Andalucía'\", \"'Comunidad de Madrid'\", \"'28830'\",\n",
       "       \"'46133'\", 'Ninguna', 'Madrid', \"'Illes Balears'\", \"'31500'\",\n",
       "       \"'Comunitat Valenciana'\", \"'36960'\", \"'08001'\", \"'45210'\",\n",
       "       \"'03830'\", \"'Canarias'\", \"'08500'\", \"'Aragón'\", \"'08330'\",\n",
       "       \"'Extremadura'\", \"'Euskadi'\", \"'28970'\", \"'Catalunya'\",\n",
       "       \"'Castilla y León'\", \"'08410'\", \"'Galicia'\", \"'28411'\", \"'08232'\",\n",
       "       \"'48620'\", \"'41710'\", \"'30890'\", \"'11370'\", \"'Castilla-La Mancha'\",\n",
       "       \"'08221'\", \"'Cantabria'\", \"'Región de Murcia'\",\n",
       "       \"'Navarra - Nafarroa'\", \"'08389'\", 'Valencia', \"'43001'\",\n",
       "       \"'45910'\", \"'07687'\", \"'08100'\", \"'43840'\", \"'48230'\", \"'08210'\",\n",
       "       \"'08350'\", \"'28760'\", \"'45217'\", \"'28189'\", \"'30510'\", \"'28723'\",\n",
       "       \"'41500'\", \"'La Rioja'\", \"'08570'\", \"'14900'\", \"'28500'\",\n",
       "       \"'15670'\", \"'46870'\", \"'13400'\", \"'17600'\", \"'28320'\", \"'08380'\",\n",
       "       \"'08291'\", \"'02640'\", \"'45200'\", \"'11300'\", \"'41580'\", \"'12190'\",\n",
       "       \"'03440'\", \"'46792'\", \"'30006'\", \"'29640'\", \"'07510'\", \"'36872'\",\n",
       "       \"'12200'\", \"'28300'\", 'Barcelona', \"'28814'\", \"'28343'\", \"'46200'\",\n",
       "       \"'10191'\", \"'Asturias / Asturies'\", \"'08552'\", 'Baleares',\n",
       "       \"'43500'\", \"'19200'\", \"'12520'\", \"'43364'\",\n",
       "       \"'Plazas de Soberanía'\", \"'29648'\", \"'41350'\", \"'28370'\",\n",
       "       \"'08292'\", \"'28330'\", \"'03710'\", \"'18110'\", 'Asturias', 'Zaragoza',\n",
       "       \"'36202'\", \"'08680'\", \"'28690'\", \"'28739'\", 'Cádiz', 'Cáceres',\n",
       "       'Toledo', 'A Coruña', 'Murcia', 'Albacete', 'Almería', 'Segovia',\n",
       "       'Huelva', 'Vizcaya', 'Castellón', 'Alicante', 'Valladolid',\n",
       "       'Málaga', 'Sevilla', 'Tarragona', 'Las Palmas', 'Pontevedra',\n",
       "       'León', 'Santa Cruz de Tenerife', 'Lérida', 'Gipuzkoa',\n",
       "       'Ciudad Real', 'Badajoz', \"'08800'\", \"'08420'\", \"'46800'\",\n",
       "       \"'20500'\", 'Huesca', \"'10380'\", \"'03680'\", \"'52001'\", \"'28514'\",\n",
       "       \"'45820'\", 'Girona', \"'28770'\", \"'46470'\", \"'06400'\", \"'12579'\",\n",
       "       \"'48260'\", \"'26580'\", \"'03520'\", \"'17455'\", \"'28860'\", \"'28440'\",\n",
       "       'La Rioja', \"'22213'\", \"'08950'\", \"'17410'\", \"'17300'\", \"'08193'\",\n",
       "       \"'03108'\", \"'33540'\", \"'03130'\", \"'43882'\", \"'30815'\", \"'15705'\",\n",
       "       \"'12560'\", \"'03570'\", \"'46130'\", \"'43719'\", \"'08560'\", 'Jaén',\n",
       "       \"'45300'\", \"'43700'\", \"'13700'\", \"'28512'\", \"'28840'\", \"'45340'\",\n",
       "       \"'12530'\", \"'43830'\", \"'50630'\", \"'23710'\", 'Granada', 'Salamanca',\n",
       "       \"'08540'\", \"'08911'\", \"'11380'\", \"'08294'\", \"'36940'\", \"'13108'\",\n",
       "       \"'41970'\", \"'17230'\", \"'20005'\", \"'28410'\", \"'08940'\", \"'26500'\",\n",
       "       \"'38002'\", 'Cuenca', \"'41560'\", \"'33119'\", \"'28695'\", \"'08820'\",\n",
       "       \"'08801'\", \"'35110'\", \"'08784'\", \"'45223'\", \"'20120'\", \"'31800'\",\n",
       "       \"'08757'\", \"'45310'\", \"'15930'\", \"'17460'\", \"'03600'\", \"'28200'\",\n",
       "       \"'43201'\", \"'29370'\", \"'43870'\", \"'30740'\", \"'22550'\", \"'19292'\",\n",
       "       \"'30540'\", \"'07669'\", \"'26300'\", \"'03140'\", \"'12539'\", \"'09003'\",\n",
       "       \"'31560'\", \"'28510'\", \"'11206'\", \"'18160'\", \"'28902'\", \"'28680'\",\n",
       "       \"'28004'\", \"'37540'\", \"'46613'\", \"'45126'\", \"'14550'\", \"'09200'\",\n",
       "       \"'46194'\", \"'17160'\", \"'45950'\", \"'28950'\", \"'12592'\", \"'03640'\",\n",
       "       \"'02611'\", \"'06510'\", \"'07710'\", \"'28794'\", \"'46430'\", \"'25230'\",\n",
       "       \"'45220'\", \"'35560'\", \"'23320'\", \"'28600'\", \"'04720'\", \"'15630'\",\n",
       "       \"'30180'\", \"'Ninguna'\", \"'28971'\", \"'03720'\", \"'29610'\", \"'11593'\",\n",
       "       \"'20160'\", \"'28609'\", \"'45593'\", \"'46185'\", \"'46190'\", \"'10300'\",\n",
       "       \"'17520'\", \"'23560'\", \"'18100'\", \"'29793'\", \"'31200'\", \"'17403'\",\n",
       "       \"'08415'\", \"'29492'\", \"'29120'\", \"'35580'\", \"'03610'\", \"'24714'\",\n",
       "       \"'28977'\", \"'28743'\", \"'28750'\", \"'46950'\", \"'35017'\", 'Álava',\n",
       "       \"'28710'\", \"'28195'\", \"'35450'\", \"'28720'\", \"'07300'\", \"'18230'\",\n",
       "       'Córdoba', \"'41520'\", \"'45215'\", \"'23700'\", \"'11311'\", \"'38400'\",\n",
       "       \"'28880'\", \"'28400'\", \"'28380'\", \"'28023'\", \"'20400'\", \"'28630'\",\n",
       "       \"'03690'\", \"'07310'\", \"'29740'\", \"'08170'\", \"'43360'\", \"'19246'\",\n",
       "       \"'18810'\", \"'10100'\", \"'18195'\", \"'12600'\", \"'17190'\", \"'43151'\",\n",
       "       \"'29630'\", \"'49600'\", \"'08390'\", \"'08830'\", \"'19163'\", \"'13600'\",\n",
       "       \"'18330'\", \"'50700'\", \"'07680'\", \"'08630'\", \"'03750'\", \"'28110'\",\n",
       "       \"'30110'\", \"'46117'\", \"'07670'\", \"'45214'\", \"'43491'\", \"'20600'\",\n",
       "       \"'08758'\", \"'33560'\", \"'28490'\", \"'28607'\", \"'21710'\", \"'41600'\",\n",
       "       \"'31610'\", \"'08880'\", \"'43850'\", \"'08840'\", \"'29752'\", \"'28791'\",\n",
       "       \"'46191'\", \"'28150'\", \"'28530'\", \"'28810'\", \"'28290'\", \"'25632'\",\n",
       "       \"'41805'\", \"'28420'\", 'Palencia', 'Burgos', 'Ceuta y Melilla',\n",
       "       'Ourense', 'Guadalajara', 'Navarra', 'Zamora', 'Lugo', 'Ávila',\n",
       "       'Teruel', 'Soria', 'Valência', '????????'], dtype=object)"
      ]
     },
     "execution_count": 65,
     "metadata": {},
     "output_type": "execute_result"
    }
   ],
   "source": [
    "data_prior2['provincia_de_espana'].unique()"
   ]
  },
  {
   "cell_type": "code",
   "execution_count": 66,
   "id": "f4075ce5",
   "metadata": {},
   "outputs": [],
   "source": [
    "prov_cp={'A Coruña':'15xxx',\n",
    "         'Albacete':'02xxx',\n",
    "         'Alicante':'03xxx',\n",
    "         'Almería':'04xxx',\n",
    "         'Álava':'01xxx',\n",
    "         'Asturias':'33xxx',\n",
    "         'Ávila':'05xxx',\n",
    "         'Badajoz':'06xxx',\n",
    "         'Barcelona':'08xxx',\n",
    "         'Bizkaia':'48xxx',\n",
    "         'Burgos':'09xxx',\n",
    "         'Cáceres':'10xxx',\n",
    "         'Cádiz':'11xxx',\n",
    "         'Cantabria':'39xxx',\n",
    "         'Castellón':'12xxx',\n",
    "         'Ceuta':'52xxx',\n",
    "         'Ciudad Real':'13xxx',\n",
    "         'Comunidad de Madrid':'28xxx',\n",
    "         'Córdoba':'14xxx',\n",
    "         'Cuenca':'26xxx',\n",
    "         'Gipuzkoa':'20xxx',\n",
    "         'Girona':'17xxx',\n",
    "         'Granada':'18xxx',\n",
    "         'Guadalajara':'19xxx',\n",
    "         'Huelva':'21xxx',\n",
    "         'Huesca':'22xxx',\n",
    "         'Illes Balears':'07xxx',\n",
    "         'Jaén':'23xxx',\n",
    "         'La Rioja':'26xxx',\n",
    "         'Las Palmas':'35xxx',\n",
    "         'León':'24xxx',\n",
    "         'Lleida':'25xxx',\n",
    "         'Lugo':'27xxx',\n",
    "         'Málaga':'29xxx',\n",
    "         'Melilla':'51xxx',\n",
    "         'Navarra':'31xxx',\n",
    "         'Ourense':'32xxx',\n",
    "         'Palencia':'34xxx',\n",
    "         'Pontevedra':'36xxx',\n",
    "         'Murcia':'30xxx',\n",
    "         'Salamanca':'37xxx',\n",
    "         'Santa Cruz de Tenerife':'38xxx',\n",
    "         'Segovia':'40xxx',\n",
    "         'Sevilla':'41xxx',         \n",
    "         'Soria':'42xxx',\n",
    "         'Tarragona':'43xxx',\n",
    "         'Teruel':'44xxx',\n",
    "         'Toledo':'45xxx',\n",
    "         'Valencia':'46xxx',\n",
    "         'Valladolid':'47xxx',\n",
    "         'Zamora':'49xxx',\n",
    "         'Zaragoza':'50xxx',\n",
    "         \n",
    "        }\n",
    "\n",
    "data_prior2['provincia_de_espana'] = data_prior2['provincia_de_espana'].str.replace(\"'\", \"\")\n",
    "\n"
   ]
  },
  {
   "cell_type": "code",
   "execution_count": 75,
   "id": "19c3a026",
   "metadata": {},
   "outputs": [],
   "source": [
    "for i in range(len(data_prior2)):\n",
    "    # Obtener los primeros dos caracteres de la cadena en la columna 'provincia_de_espana'\n",
    "    column_value_prefix = data_prior2.at[i, 'provincia_de_espana'][:2]\n",
    "    \n",
    "    # Buscar una coincidencia en el diccionario 'prov_cp'\n",
    "    for key, value in prov_cp.items():\n",
    "        if value[:2] == column_value_prefix:\n",
    "            # Si hay una coincidencia, reemplaza el valor en la columna con la clave correspondiente\n",
    "            data_prior2.at[i, 'provincia_de_espana'] = key\n",
    "            break\n",
    "\n",
    "\n"
   ]
  },
  {
   "cell_type": "code",
   "execution_count": 80,
   "id": "1726907f",
   "metadata": {},
   "outputs": [
    {
     "data": {
      "text/plain": [
       "Madrid                  3155\n",
       "Ninguna                 2624\n",
       "Barcelona                660\n",
       "Valencia                 278\n",
       "Alicante                 258\n",
       "Andalucía                243\n",
       "Comunitat Valenciana     212\n",
       "Baleares                 176\n",
       "Málaga                   167\n",
       "Sevilla                  149\n",
       "Name: provincia_de_espana, dtype: int64"
      ]
     },
     "execution_count": 80,
     "metadata": {},
     "output_type": "execute_result"
    }
   ],
   "source": [
    "data_prior2['provincia_de_espana'].value_counts()[:10]\n"
   ]
  },
  {
   "cell_type": "code",
   "execution_count": 81,
   "id": "0bbeff7d",
   "metadata": {},
   "outputs": [
    {
     "data": {
      "text/plain": [
       "array(['Cantabria', 'Andalucía', 'Madrid', 'Valencia', 'Ninguna',\n",
       "       'Baleares', 'Navarra', 'Comunitat Valenciana', 'Pontevedra',\n",
       "       'Barcelona', 'Toledo', 'Alicante', 'Canarias', 'Aragón',\n",
       "       'Extremadura', 'Euskadi', 'Cataluña', 'Castilla y León', 'Galicia',\n",
       "       'Vizcaya', 'Sevilla', 'Murcia', 'Cádiz', 'Castilla-La Mancha',\n",
       "       'Región de Murcia', 'Tarragona', 'La Rioja', 'Córdoba', 'A Coruña',\n",
       "       'Ciudad Real', 'Girona', 'Albacete', 'Castellón', 'Málaga',\n",
       "       'Cáceres', 'Asturias', 'Guadalajara', 'Plazas de Soberanía',\n",
       "       'Granada', 'Zaragoza', 'Almería', 'Segovia', 'Huelva',\n",
       "       'Valladolid', 'Las Palmas', 'León', 'Santa Cruz de Tenerife',\n",
       "       'Lérida', 'Gipuzkoa', 'Badajoz', 'Huesca', 'Ceuta y Melilla',\n",
       "       'Cuenca', 'Jaén', 'Salamanca', 'Burgos', 'Lleida', 'Álava',\n",
       "       'Zamora', 'Palencia', 'Ourense', 'Lugo', 'Ávila', 'Teruel',\n",
       "       'Soria', '????????'], dtype=object)"
      ]
     },
     "execution_count": 81,
     "metadata": {},
     "output_type": "execute_result"
    }
   ],
   "source": [
    "data_prior2 = data_prior2.replace({'provincia_de_espana': {'Comunidad de Madrid': 'Madrid',\n",
    "                                                             'Valência': 'Valencia',\n",
    "                                                             'Asturias / Asturies' : 'Asturias',\n",
    "                                                             'Comunitat Valenciana ' :'Valencia',\n",
    "                                                             'Navarra - Nafarroa' :'Navarra',\n",
    "                                                             'Bizkaia' :'Vizcaya',\n",
    "                                                             'Catalunya' :'Cataluña',\n",
    "                                                             'Ceuta' :'Ceuta y Melilla',\n",
    "                                                             'Illes Balears' :'Baleares',\n",
    "\n",
    "                                                      }})\n",
    "\n",
    "data_prior2.provincia_de_espana.unique()"
   ]
  },
  {
   "cell_type": "code",
   "execution_count": null,
   "id": "f4624f6f",
   "metadata": {},
   "outputs": [],
   "source": []
  },
  {
   "cell_type": "code",
   "execution_count": null,
   "id": "8eae6984",
   "metadata": {},
   "outputs": [],
   "source": []
  }
 ],
 "metadata": {
  "kernelspec": {
   "display_name": "Python 3 (ipykernel)",
   "language": "python",
   "name": "python3"
  },
  "language_info": {
   "codemirror_mode": {
    "name": "ipython",
    "version": 3
   },
   "file_extension": ".py",
   "mimetype": "text/x-python",
   "name": "python",
   "nbconvert_exporter": "python",
   "pygments_lexer": "ipython3",
   "version": "3.9.13"
  }
 },
 "nbformat": 4,
 "nbformat_minor": 5
}
