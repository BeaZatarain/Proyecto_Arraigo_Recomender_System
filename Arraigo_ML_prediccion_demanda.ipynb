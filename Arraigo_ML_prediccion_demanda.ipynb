{
 "cells": [
  {
   "cell_type": "code",
   "execution_count": 1,
   "id": "927d42de",
   "metadata": {},
   "outputs": [],
   "source": [
    "# import libraries\n",
    "\n",
    "import pandas as pd\n",
    "\n",
    "\n",
    "import numpy as np\n",
    "\n",
    "import warnings\n",
    "warnings.filterwarnings ('ignore')\n",
    "\n",
    "pd.set_option('display.max_columns', None)\n",
    "pd.set_option('display.max_rows', None)\n",
    "\n",
    "import seaborn as sns\n",
    "\n",
    "import matplotlib.pyplot as plt\n",
    "import pylab as plt"
   ]
  },
  {
   "cell_type": "code",
   "execution_count": 2,
   "id": "e0ec1253",
   "metadata": {},
   "outputs": [],
   "source": [
    "mldemanda_ori = pd.read_csv('../Proyecto_Arraigo_Recomender_System/data/Urbanitas_prior.csv')\n",
    "\n",
    "\n",
    "mldemanda = mldemanda_ori.copy()"
   ]
  },
  {
   "cell_type": "code",
   "execution_count": 3,
   "id": "eb994db3",
   "metadata": {},
   "outputs": [
    {
     "data": {
      "text/html": [
       "<div>\n",
       "<style scoped>\n",
       "    .dataframe tbody tr th:only-of-type {\n",
       "        vertical-align: middle;\n",
       "    }\n",
       "\n",
       "    .dataframe tbody tr th {\n",
       "        vertical-align: top;\n",
       "    }\n",
       "\n",
       "    .dataframe thead th {\n",
       "        text-align: right;\n",
       "    }\n",
       "</style>\n",
       "<table border=\"1\" class=\"dataframe\">\n",
       "  <thead>\n",
       "    <tr style=\"text-align: right;\">\n",
       "      <th></th>\n",
       "      <th>id</th>\n",
       "      <th>fecha</th>\n",
       "      <th>pais_de_residencia</th>\n",
       "      <th>provincia_de_espana</th>\n",
       "      <th>ciudad_residencia</th>\n",
       "      <th>situacion_en_espana</th>\n",
       "      <th>profesion</th>\n",
       "      <th>autonomia_economica</th>\n",
       "      <th>familia_edades</th>\n",
       "      <th>coche_propio</th>\n",
       "      <th>carnet_coche</th>\n",
       "      <th>mascota</th>\n",
       "      <th>presupuesto_alquiler</th>\n",
       "      <th>primera_segunda_vivienda</th>\n",
       "      <th>zona_interes</th>\n",
       "      <th>predisposicion_pueblo</th>\n",
       "    </tr>\n",
       "  </thead>\n",
       "  <tbody>\n",
       "    <tr>\n",
       "      <th>0</th>\n",
       "      <td>NaN</td>\n",
       "      <td>2023-03-01</td>\n",
       "      <td>España</td>\n",
       "      <td>Cantabria</td>\n",
       "      <td>Santander</td>\n",
       "      <td>Tengo nacionalidad española / de un país de la...</td>\n",
       "      <td>Atención al cliente</td>\n",
       "      <td>NaN</td>\n",
       "      <td>30 - 24 - 2</td>\n",
       "      <td>No</td>\n",
       "      <td>Si</td>\n",
       "      <td>No</td>\n",
       "      <td>NaN</td>\n",
       "      <td>NaN</td>\n",
       "      <td>NaN</td>\n",
       "      <td>NaN</td>\n",
       "    </tr>\n",
       "    <tr>\n",
       "      <th>1</th>\n",
       "      <td>U-000002</td>\n",
       "      <td>2020-10-26</td>\n",
       "      <td>España</td>\n",
       "      <td>NaN</td>\n",
       "      <td>Algeciras</td>\n",
       "      <td>Tengo nacionalidad española / de un país de la...</td>\n",
       "      <td>Comercio internacional</td>\n",
       "      <td>3 meses</td>\n",
       "      <td>37,37</td>\n",
       "      <td>Si</td>\n",
       "      <td>Si</td>\n",
       "      <td>No</td>\n",
       "      <td>Hasta 300€</td>\n",
       "      <td>Primera residencia</td>\n",
       "      <td>Pueblos de Zaragoza</td>\n",
       "      <td>3 meses</td>\n",
       "    </tr>\n",
       "    <tr>\n",
       "      <th>2</th>\n",
       "      <td>U-000003</td>\n",
       "      <td>2020-10-26</td>\n",
       "      <td>España</td>\n",
       "      <td>NaN</td>\n",
       "      <td>Colmenar Viejo (Madrid)</td>\n",
       "      <td>Tengo nacionalidad española / de un país de la...</td>\n",
       "      <td>Dependiente</td>\n",
       "      <td>NaN</td>\n",
       "      <td>57, 56</td>\n",
       "      <td>Si</td>\n",
       "      <td>Si</td>\n",
       "      <td>Si</td>\n",
       "      <td>Hasta 450€</td>\n",
       "      <td>Segunda residencia</td>\n",
       "      <td>Sierra norte de Madrid</td>\n",
       "      <td>Aún me lo estoy pensando</td>\n",
       "    </tr>\n",
       "    <tr>\n",
       "      <th>3</th>\n",
       "      <td>U-000006</td>\n",
       "      <td>2020-11-08</td>\n",
       "      <td>España</td>\n",
       "      <td>NaN</td>\n",
       "      <td>San Fernando de Henares</td>\n",
       "      <td>Tengo nacionalidad española / de un país de la...</td>\n",
       "      <td>Sanitario</td>\n",
       "      <td>NaN</td>\n",
       "      <td>38, 38 y 8</td>\n",
       "      <td>Si</td>\n",
       "      <td>Si</td>\n",
       "      <td>Si</td>\n",
       "      <td>Hasta 450€</td>\n",
       "      <td>Primera residencia</td>\n",
       "      <td>Sierra norte de Madrid</td>\n",
       "      <td>3 meses</td>\n",
       "    </tr>\n",
       "    <tr>\n",
       "      <th>4</th>\n",
       "      <td>U-000007</td>\n",
       "      <td>2020-11-11</td>\n",
       "      <td>España</td>\n",
       "      <td>NaN</td>\n",
       "      <td>Madrid</td>\n",
       "      <td>Tengo nacionalidad española / de un país de la...</td>\n",
       "      <td>Fotógrafo</td>\n",
       "      <td>6 meses</td>\n",
       "      <td>41 y 31 años</td>\n",
       "      <td>Si</td>\n",
       "      <td>Si</td>\n",
       "      <td>Si</td>\n",
       "      <td>Hasta 450€</td>\n",
       "      <td>Primera residencia</td>\n",
       "      <td>Sierra norte de Madrid</td>\n",
       "      <td>6 meses</td>\n",
       "    </tr>\n",
       "  </tbody>\n",
       "</table>\n",
       "</div>"
      ],
      "text/plain": [
       "         id       fecha pais_de_residencia provincia_de_espana  \\\n",
       "0       NaN  2023-03-01             España           Cantabria   \n",
       "1  U-000002  2020-10-26             España                 NaN   \n",
       "2  U-000003  2020-10-26             España                 NaN   \n",
       "3  U-000006  2020-11-08             España                 NaN   \n",
       "4  U-000007  2020-11-11             España                 NaN   \n",
       "\n",
       "         ciudad_residencia                                situacion_en_espana  \\\n",
       "0                Santander  Tengo nacionalidad española / de un país de la...   \n",
       "1                Algeciras  Tengo nacionalidad española / de un país de la...   \n",
       "2  Colmenar Viejo (Madrid)  Tengo nacionalidad española / de un país de la...   \n",
       "3  San Fernando de Henares  Tengo nacionalidad española / de un país de la...   \n",
       "4                   Madrid  Tengo nacionalidad española / de un país de la...   \n",
       "\n",
       "                profesion autonomia_economica familia_edades coche_propio  \\\n",
       "0     Atención al cliente                 NaN    30 - 24 - 2           No   \n",
       "1  Comercio internacional             3 meses          37,37           Si   \n",
       "2             Dependiente                 NaN         57, 56           Si   \n",
       "3               Sanitario                 NaN     38, 38 y 8           Si   \n",
       "4               Fotógrafo             6 meses   41 y 31 años           Si   \n",
       "\n",
       "  carnet_coche mascota presupuesto_alquiler primera_segunda_vivienda  \\\n",
       "0           Si      No                  NaN                      NaN   \n",
       "1           Si      No           Hasta 300€       Primera residencia   \n",
       "2           Si      Si           Hasta 450€       Segunda residencia   \n",
       "3           Si      Si           Hasta 450€       Primera residencia   \n",
       "4           Si      Si           Hasta 450€       Primera residencia   \n",
       "\n",
       "             zona_interes     predisposicion_pueblo  \n",
       "0                     NaN                       NaN  \n",
       "1     Pueblos de Zaragoza                   3 meses  \n",
       "2  Sierra norte de Madrid  Aún me lo estoy pensando  \n",
       "3  Sierra norte de Madrid                   3 meses  \n",
       "4  Sierra norte de Madrid                   6 meses  "
      ]
     },
     "execution_count": 3,
     "metadata": {},
     "output_type": "execute_result"
    }
   ],
   "source": [
    "mldemanda.head()"
   ]
  },
  {
   "cell_type": "code",
   "execution_count": 4,
   "id": "7e4c7095",
   "metadata": {},
   "outputs": [],
   "source": [
    "mldemanda.fillna({'id':'U-000001'}, inplace=True)"
   ]
  },
  {
   "cell_type": "code",
   "execution_count": 5,
   "id": "d7d8493c",
   "metadata": {},
   "outputs": [],
   "source": [
    "# Convertimos la columna de fecha a tipo datetime\n",
    "mldemanda['fecha'] = pd.to_datetime(mldemanda['fecha'])\n"
   ]
  },
  {
   "cell_type": "code",
   "execution_count": 6,
   "id": "54055825",
   "metadata": {},
   "outputs": [],
   "source": [
    "#creamos un df con las variables que nos interesan para predecir: fecha e id para poder contar el numero de solicitudes por fecha"
   ]
  },
  {
   "cell_type": "code",
   "execution_count": 7,
   "id": "fb1d477a",
   "metadata": {},
   "outputs": [],
   "source": [
    "df_pred = mldemanda[['id', 'fecha']]"
   ]
  },
  {
   "cell_type": "code",
   "execution_count": 8,
   "id": "a41731de",
   "metadata": {},
   "outputs": [
    {
     "data": {
      "text/html": [
       "<div>\n",
       "<style scoped>\n",
       "    .dataframe tbody tr th:only-of-type {\n",
       "        vertical-align: middle;\n",
       "    }\n",
       "\n",
       "    .dataframe tbody tr th {\n",
       "        vertical-align: top;\n",
       "    }\n",
       "\n",
       "    .dataframe thead th {\n",
       "        text-align: right;\n",
       "    }\n",
       "</style>\n",
       "<table border=\"1\" class=\"dataframe\">\n",
       "  <thead>\n",
       "    <tr style=\"text-align: right;\">\n",
       "      <th></th>\n",
       "      <th>id</th>\n",
       "      <th>fecha</th>\n",
       "    </tr>\n",
       "  </thead>\n",
       "  <tbody>\n",
       "    <tr>\n",
       "      <th>0</th>\n",
       "      <td>U-000001</td>\n",
       "      <td>2023-03-01</td>\n",
       "    </tr>\n",
       "    <tr>\n",
       "      <th>1</th>\n",
       "      <td>U-000002</td>\n",
       "      <td>2020-10-26</td>\n",
       "    </tr>\n",
       "    <tr>\n",
       "      <th>2</th>\n",
       "      <td>U-000003</td>\n",
       "      <td>2020-10-26</td>\n",
       "    </tr>\n",
       "    <tr>\n",
       "      <th>3</th>\n",
       "      <td>U-000006</td>\n",
       "      <td>2020-11-08</td>\n",
       "    </tr>\n",
       "    <tr>\n",
       "      <th>4</th>\n",
       "      <td>U-000007</td>\n",
       "      <td>2020-11-11</td>\n",
       "    </tr>\n",
       "  </tbody>\n",
       "</table>\n",
       "</div>"
      ],
      "text/plain": [
       "         id      fecha\n",
       "0  U-000001 2023-03-01\n",
       "1  U-000002 2020-10-26\n",
       "2  U-000003 2020-10-26\n",
       "3  U-000006 2020-11-08\n",
       "4  U-000007 2020-11-11"
      ]
     },
     "execution_count": 8,
     "metadata": {},
     "output_type": "execute_result"
    }
   ],
   "source": [
    "df_pred.head()"
   ]
  },
  {
   "cell_type": "code",
   "execution_count": 9,
   "id": "4ac02ebf",
   "metadata": {},
   "outputs": [
    {
     "data": {
      "text/html": [
       "<div>\n",
       "<style scoped>\n",
       "    .dataframe tbody tr th:only-of-type {\n",
       "        vertical-align: middle;\n",
       "    }\n",
       "\n",
       "    .dataframe tbody tr th {\n",
       "        vertical-align: top;\n",
       "    }\n",
       "\n",
       "    .dataframe thead th {\n",
       "        text-align: right;\n",
       "    }\n",
       "</style>\n",
       "<table border=\"1\" class=\"dataframe\">\n",
       "  <thead>\n",
       "    <tr style=\"text-align: right;\">\n",
       "      <th></th>\n",
       "      <th>fecha</th>\n",
       "      <th>num_solicitudes</th>\n",
       "    </tr>\n",
       "  </thead>\n",
       "  <tbody>\n",
       "    <tr>\n",
       "      <th>0</th>\n",
       "      <td>2020-05-22</td>\n",
       "      <td>12</td>\n",
       "    </tr>\n",
       "    <tr>\n",
       "      <th>1</th>\n",
       "      <td>2020-05-29</td>\n",
       "      <td>1</td>\n",
       "    </tr>\n",
       "    <tr>\n",
       "      <th>2</th>\n",
       "      <td>2020-05-30</td>\n",
       "      <td>1</td>\n",
       "    </tr>\n",
       "    <tr>\n",
       "      <th>3</th>\n",
       "      <td>2020-05-31</td>\n",
       "      <td>2</td>\n",
       "    </tr>\n",
       "    <tr>\n",
       "      <th>4</th>\n",
       "      <td>2020-06-01</td>\n",
       "      <td>5</td>\n",
       "    </tr>\n",
       "  </tbody>\n",
       "</table>\n",
       "</div>"
      ],
      "text/plain": [
       "       fecha  num_solicitudes\n",
       "0 2020-05-22               12\n",
       "1 2020-05-29                1\n",
       "2 2020-05-30                1\n",
       "3 2020-05-31                2\n",
       "4 2020-06-01                5"
      ]
     },
     "execution_count": 9,
     "metadata": {},
     "output_type": "execute_result"
    }
   ],
   "source": [
    "df_pred = df_pred.groupby('fecha')['id'].nunique()\n",
    "\n",
    "df_pred = df_pred.reset_index(name='num_solicitudes')\n",
    "\n",
    "\n",
    "df_pred.head()"
   ]
  },
  {
   "cell_type": "code",
   "execution_count": 10,
   "id": "7313aa1f",
   "metadata": {},
   "outputs": [
    {
     "data": {
      "image/png": "[encoded data removed]",
      "text/plain": [
       "<Figure size 1500x800 with 1 Axes>"
      ]
     },
     "metadata": {},
     "output_type": "display_data"
    }
   ],
   "source": [
    "df_pred[['num_solicitudes']].boxplot(figsize=(15, 8));"
   ]
  },
  {
   "cell_type": "code",
   "execution_count": 11,
   "id": "d27b1f3f",
   "metadata": {},
   "outputs": [
    {
     "data": {
      "text/html": [
       "<div>\n",
       "<style scoped>\n",
       "    .dataframe tbody tr th:only-of-type {\n",
       "        vertical-align: middle;\n",
       "    }\n",
       "\n",
       "    .dataframe tbody tr th {\n",
       "        vertical-align: top;\n",
       "    }\n",
       "\n",
       "    .dataframe thead th {\n",
       "        text-align: right;\n",
       "    }\n",
       "</style>\n",
       "<table border=\"1\" class=\"dataframe\">\n",
       "  <thead>\n",
       "    <tr style=\"text-align: right;\">\n",
       "      <th></th>\n",
       "      <th>count</th>\n",
       "      <th>unique</th>\n",
       "      <th>top</th>\n",
       "      <th>freq</th>\n",
       "      <th>first</th>\n",
       "      <th>last</th>\n",
       "      <th>mean</th>\n",
       "      <th>std</th>\n",
       "      <th>min</th>\n",
       "      <th>25%</th>\n",
       "      <th>50%</th>\n",
       "      <th>75%</th>\n",
       "      <th>max</th>\n",
       "    </tr>\n",
       "  </thead>\n",
       "  <tbody>\n",
       "    <tr>\n",
       "      <th>fecha</th>\n",
       "      <td>978</td>\n",
       "      <td>978</td>\n",
       "      <td>2020-05-22</td>\n",
       "      <td>1</td>\n",
       "      <td>2020-05-22</td>\n",
       "      <td>2023-03-01</td>\n",
       "      <td>NaN</td>\n",
       "      <td>NaN</td>\n",
       "      <td>NaN</td>\n",
       "      <td>NaN</td>\n",
       "      <td>NaN</td>\n",
       "      <td>NaN</td>\n",
       "      <td>NaN</td>\n",
       "    </tr>\n",
       "    <tr>\n",
       "      <th>num_solicitudes</th>\n",
       "      <td>978.0</td>\n",
       "      <td>NaN</td>\n",
       "      <td>NaT</td>\n",
       "      <td>NaN</td>\n",
       "      <td>NaT</td>\n",
       "      <td>NaT</td>\n",
       "      <td>10.856851</td>\n",
       "      <td>39.423506</td>\n",
       "      <td>1.0</td>\n",
       "      <td>5.0</td>\n",
       "      <td>8.0</td>\n",
       "      <td>12.0</td>\n",
       "      <td>1096.0</td>\n",
       "    </tr>\n",
       "  </tbody>\n",
       "</table>\n",
       "</div>"
      ],
      "text/plain": [
       "                 count unique        top freq      first       last  \\\n",
       "fecha              978    978 2020-05-22    1 2020-05-22 2023-03-01   \n",
       "num_solicitudes  978.0    NaN        NaT  NaN        NaT        NaT   \n",
       "\n",
       "                      mean        std  min  25%  50%   75%     max  \n",
       "fecha                  NaN        NaN  NaN  NaN  NaN   NaN     NaN  \n",
       "num_solicitudes  10.856851  39.423506  1.0  5.0  8.0  12.0  1096.0  "
      ]
     },
     "execution_count": 11,
     "metadata": {},
     "output_type": "execute_result"
    }
   ],
   "source": [
    "df_pred.describe(include='all').T"
   ]
  },
  {
   "cell_type": "code",
   "execution_count": 12,
   "id": "7dcc4166",
   "metadata": {},
   "outputs": [],
   "source": [
    "df_pred.num_solicitudes.plot();"
   ]
  },
  {
   "cell_type": "code",
   "execution_count": 13,
   "id": "8ea88e9a",
   "metadata": {},
   "outputs": [
    {
     "data": {
      "text/plain": [
       "(1096, 1)"
      ]
     },
     "execution_count": 13,
     "metadata": {},
     "output_type": "execute_result"
    }
   ],
   "source": [
    "df_pred.num_solicitudes.max() , df_pred.num_solicitudes.min()"
   ]
  },
  {
   "cell_type": "code",
   "execution_count": 14,
   "id": "11d8ecff",
   "metadata": {},
   "outputs": [
    {
     "data": {
      "text/plain": [
       "array([], dtype='datetime64[ns]')"
      ]
     },
     "execution_count": 14,
     "metadata": {},
     "output_type": "execute_result"
    }
   ],
   "source": [
    "fechas_duplicadas = df_pred.loc[df_pred.fecha.duplicated(), 'fecha'].unique()\n",
    "fechas_duplicadas"
   ]
  },
  {
   "cell_type": "code",
   "execution_count": 15,
   "id": "b36c5e28",
   "metadata": {},
   "outputs": [
    {
     "data": {
      "text/plain": [
       "fecha              2020-06-24 00:00:00\n",
       "num_solicitudes                   1096\n",
       "Name: 27, dtype: object"
      ]
     },
     "execution_count": 15,
     "metadata": {},
     "output_type": "execute_result"
    }
   ],
   "source": [
    "fila_max_solicitudes = df_pred.loc[df_pred['num_solicitudes'].idxmax()]\n",
    "fila_max_solicitudes"
   ]
  },
  {
   "cell_type": "code",
   "execution_count": 16,
   "id": "538c7eb4",
   "metadata": {},
   "outputs": [],
   "source": [
    "df_pred = df_pred.drop(df_pred['num_solicitudes'].idxmax())\n"
   ]
  },
  {
   "cell_type": "code",
   "execution_count": 17,
   "id": "355705c9",
   "metadata": {},
   "outputs": [],
   "source": [
    "df_pred.num_solicitudes.plot();"
   ]
  },
  {
   "cell_type": "code",
   "execution_count": 18,
   "id": "0c31b3fd",
   "metadata": {},
   "outputs": [
    {
     "data": {
      "text/plain": [
       "(553, 1)"
      ]
     },
     "execution_count": 18,
     "metadata": {},
     "output_type": "execute_result"
    }
   ],
   "source": [
    "df_pred.num_solicitudes.max() , df_pred.num_solicitudes.min()"
   ]
  },
  {
   "cell_type": "code",
   "execution_count": 19,
   "id": "7ec17784",
   "metadata": {},
   "outputs": [
    {
     "data": {
      "text/plain": [
       "fecha              2020-06-14 00:00:00\n",
       "num_solicitudes                    553\n",
       "Name: 17, dtype: object"
      ]
     },
     "execution_count": 19,
     "metadata": {},
     "output_type": "execute_result"
    }
   ],
   "source": [
    "fila_max_solicitudes = df_pred.loc[df_pred['num_solicitudes'].idxmax()]\n",
    "fila_max_solicitudes"
   ]
  },
  {
   "cell_type": "code",
   "execution_count": 20,
   "id": "9eb824dc",
   "metadata": {},
   "outputs": [],
   "source": [
    "df_pred = df_pred.drop(df_pred['num_solicitudes'].idxmax())"
   ]
  },
  {
   "cell_type": "code",
   "execution_count": 21,
   "id": "74d55063",
   "metadata": {},
   "outputs": [
    {
     "data": {
      "text/html": [
       "<div>\n",
       "<style scoped>\n",
       "    .dataframe tbody tr th:only-of-type {\n",
       "        vertical-align: middle;\n",
       "    }\n",
       "\n",
       "    .dataframe tbody tr th {\n",
       "        vertical-align: top;\n",
       "    }\n",
       "\n",
       "    .dataframe thead th {\n",
       "        text-align: right;\n",
       "    }\n",
       "</style>\n",
       "<table border=\"1\" class=\"dataframe\">\n",
       "  <thead>\n",
       "    <tr style=\"text-align: right;\">\n",
       "      <th></th>\n",
       "      <th>count</th>\n",
       "      <th>unique</th>\n",
       "      <th>top</th>\n",
       "      <th>freq</th>\n",
       "      <th>first</th>\n",
       "      <th>last</th>\n",
       "      <th>mean</th>\n",
       "      <th>std</th>\n",
       "      <th>min</th>\n",
       "      <th>25%</th>\n",
       "      <th>50%</th>\n",
       "      <th>75%</th>\n",
       "      <th>max</th>\n",
       "    </tr>\n",
       "  </thead>\n",
       "  <tbody>\n",
       "    <tr>\n",
       "      <th>fecha</th>\n",
       "      <td>976</td>\n",
       "      <td>976</td>\n",
       "      <td>2020-05-22</td>\n",
       "      <td>1</td>\n",
       "      <td>2020-05-22</td>\n",
       "      <td>2023-03-01</td>\n",
       "      <td>NaN</td>\n",
       "      <td>NaN</td>\n",
       "      <td>NaN</td>\n",
       "      <td>NaN</td>\n",
       "      <td>NaN</td>\n",
       "      <td>NaN</td>\n",
       "      <td>NaN</td>\n",
       "    </tr>\n",
       "    <tr>\n",
       "      <th>num_solicitudes</th>\n",
       "      <td>976.0</td>\n",
       "      <td>NaN</td>\n",
       "      <td>NaT</td>\n",
       "      <td>NaN</td>\n",
       "      <td>NaT</td>\n",
       "      <td>NaT</td>\n",
       "      <td>9.189549</td>\n",
       "      <td>6.740458</td>\n",
       "      <td>1.0</td>\n",
       "      <td>5.0</td>\n",
       "      <td>8.0</td>\n",
       "      <td>12.0</td>\n",
       "      <td>135.0</td>\n",
       "    </tr>\n",
       "  </tbody>\n",
       "</table>\n",
       "</div>"
      ],
      "text/plain": [
       "                 count unique        top freq      first       last      mean  \\\n",
       "fecha              976    976 2020-05-22    1 2020-05-22 2023-03-01       NaN   \n",
       "num_solicitudes  976.0    NaN        NaT  NaN        NaT        NaT  9.189549   \n",
       "\n",
       "                      std  min  25%  50%   75%    max  \n",
       "fecha                 NaN  NaN  NaN  NaN   NaN    NaN  \n",
       "num_solicitudes  6.740458  1.0  5.0  8.0  12.0  135.0  "
      ]
     },
     "execution_count": 21,
     "metadata": {},
     "output_type": "execute_result"
    }
   ],
   "source": [
    "df_pred.describe(include='all').T"
   ]
  },
  {
   "cell_type": "code",
   "execution_count": 22,
   "id": "405278d5",
   "metadata": {},
   "outputs": [
    {
     "data": {
      "text/plain": [
       "fecha              2020-06-10 00:00:00\n",
       "num_solicitudes                    135\n",
       "Name: 13, dtype: object"
      ]
     },
     "execution_count": 22,
     "metadata": {},
     "output_type": "execute_result"
    }
   ],
   "source": [
    "fila_max_solicitudes = df_pred.loc[df_pred['num_solicitudes'].idxmax()]\n",
    "fila_max_solicitudes"
   ]
  },
  {
   "cell_type": "code",
   "execution_count": 23,
   "id": "4bcf60e9",
   "metadata": {},
   "outputs": [],
   "source": [
    "df_pred = df_pred.drop(df_pred['num_solicitudes'].idxmax())"
   ]
  },
  {
   "cell_type": "code",
   "execution_count": 27,
   "id": "1012a673",
   "metadata": {},
   "outputs": [
    {
     "data": {
      "image/png": "[encoded data removed]",
      "text/plain": [
       "<Figure size 640x480 with 1 Axes>"
      ]
     },
     "metadata": {},
     "output_type": "display_data"
    }
   ],
   "source": [
    "df_pred.plot(x='fecha', y='num_solicitudes')\n",
    "plt.show()"
   ]
  },
  {
   "cell_type": "code",
   "execution_count": 31,
   "id": "5865852e",
   "metadata": {},
   "outputs": [
    {
     "data": {
      "text/html": [
       "<div>\n",
       "<style scoped>\n",
       "    .dataframe tbody tr th:only-of-type {\n",
       "        vertical-align: middle;\n",
       "    }\n",
       "\n",
       "    .dataframe tbody tr th {\n",
       "        vertical-align: top;\n",
       "    }\n",
       "\n",
       "    .dataframe thead th {\n",
       "        text-align: right;\n",
       "    }\n",
       "</style>\n",
       "<table border=\"1\" class=\"dataframe\">\n",
       "  <thead>\n",
       "    <tr style=\"text-align: right;\">\n",
       "      <th></th>\n",
       "      <th>num_solicitudes</th>\n",
       "    </tr>\n",
       "    <tr>\n",
       "      <th>fecha</th>\n",
       "      <th></th>\n",
       "    </tr>\n",
       "  </thead>\n",
       "  <tbody>\n",
       "    <tr>\n",
       "      <th>2020-05-22</th>\n",
       "      <td>12</td>\n",
       "    </tr>\n",
       "    <tr>\n",
       "      <th>2020-05-29</th>\n",
       "      <td>1</td>\n",
       "    </tr>\n",
       "    <tr>\n",
       "      <th>2020-05-30</th>\n",
       "      <td>1</td>\n",
       "    </tr>\n",
       "    <tr>\n",
       "      <th>2020-05-31</th>\n",
       "      <td>2</td>\n",
       "    </tr>\n",
       "    <tr>\n",
       "      <th>2020-06-01</th>\n",
       "      <td>5</td>\n",
       "    </tr>\n",
       "  </tbody>\n",
       "</table>\n",
       "</div>"
      ],
      "text/plain": [
       "            num_solicitudes\n",
       "fecha                      \n",
       "2020-05-22               12\n",
       "2020-05-29                1\n",
       "2020-05-30                1\n",
       "2020-05-31                2\n",
       "2020-06-01                5"
      ]
     },
     "execution_count": 31,
     "metadata": {},
     "output_type": "execute_result"
    }
   ],
   "source": [
    "#ahora que no tenemos outliers causados por problemas en los registros de la información, intentaremos crear un modelo predictivo:\n",
    "\n",
    "df_pred=df_pred.set_index('fecha')\n",
    "df_pred.head()"
   ]
  },
  {
   "cell_type": "code",
   "execution_count": 32,
   "id": "690d84c2",
   "metadata": {},
   "outputs": [],
   "source": [
    "from pandas.plotting import lag_plot"
   ]
  },
  {
   "cell_type": "code",
   "execution_count": 38,
   "id": "6bb1a161",
   "metadata": {},
   "outputs": [
    {
     "data": {
      "image/png": "[encoded data removed]",
      "text/plain": [
       "<Figure size 640x480 with 1 Axes>"
      ]
     },
     "metadata": {},
     "output_type": "display_data"
    }
   ],
   "source": [
    "lag_plot(df_pred.num_solicitudes);\n",
    "plt.show()"
   ]
  },
  {
   "cell_type": "code",
   "execution_count": 37,
   "id": "ec3782c2",
   "metadata": {},
   "outputs": [
    {
     "data": {
      "text/plain": [
       "<AxesSubplot:xlabel='y(t)', ylabel='y(t + 1)'>"
      ]
     },
     "metadata": {},
     "output_type": "display_data"
    }
   ],
   "source": []
  },
  {
   "cell_type": "code",
   "execution_count": null,
   "id": "82174e33",
   "metadata": {},
   "outputs": [],
   "source": []
  }
 ],
 "metadata": {
  "kernelspec": {
   "display_name": "Python 3 (ipykernel)",
   "language": "python",
   "name": "python3"
  },
  "language_info": {
   "codemirror_mode": {
    "name": "ipython",
    "version": 3
   },
   "file_extension": ".py",
   "mimetype": "text/x-python",
   "name": "python",
   "nbconvert_exporter": "python",
   "pygments_lexer": "ipython3",
   "version": "3.9.13"
  }
 },
 "nbformat": 4,
 "nbformat_minor": 5
}
